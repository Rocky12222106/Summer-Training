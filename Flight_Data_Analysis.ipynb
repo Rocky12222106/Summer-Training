{
 "cells": [
  {
   "cell_type": "markdown",
   "id": "5f2dc615-08ab-4373-8752-b53bb666f1b6",
   "metadata": {},
   "source": [
    "## Data Analysis Project Life Cycle\n",
    "- **Business problem understanding**\n",
    "- **Data Collection**\n",
    "- **Data Pre-Processing**\n",
    "- **Data Analysis**\n",
    "- **Reporting**"
   ]
  },
  {
   "cell_type": "markdown",
   "id": "91e5087d-d63c-4c8c-86ac-ec1d7e9c648e",
   "metadata": {},
   "source": [
    "### Business Problem\n",
    "- **Client want us to analyse Flight data in order to understand the trends  , insights  , top performing Airline , prices , duration so then can prepare better to improve travelling experience**"
   ]
  },
  {
   "cell_type": "markdown",
   "id": "a3433a4d-b506-4f5c-8191-e05493e7b99c",
   "metadata": {},
   "source": [
    "## Data Collection\n",
    "- **Client has provided data in csv file**\n",
    "- **Link:  https://drive.google.com/file/d/1n9FqH3D1-nvviwvktEZeW4cgEPacGuRe/view?usp=drive_link**"
   ]
  },
  {
   "cell_type": "code",
   "execution_count": 1,
   "id": "a0289a5c-6b5d-4b02-85cc-00cc7b692464",
   "metadata": {},
   "outputs": [],
   "source": [
    "import pandas as pd\n",
    "import numpy as np\n",
    "import matplotlib.pyplot as plt\n",
    "import seaborn as sns"
   ]
  },
  {
   "cell_type": "code",
   "execution_count": 2,
   "id": "1e9913f2-a550-4205-aca3-f9b3d9396da4",
   "metadata": {},
   "outputs": [],
   "source": [
    "data = pd.read_csv(r\"C:\\Users\\Rocky Yadav\\Downloads\\Flight_Data.csv\", encoding='unicode_escape', low_memory=False)"
   ]
  },
  {
   "cell_type": "code",
   "execution_count": 3,
   "id": "bb63a32f-a3cd-4e35-bb09-7f8eb8303c4e",
   "metadata": {},
   "outputs": [],
   "source": [
    "df = data.copy()"
   ]
  },
  {
   "cell_type": "code",
   "execution_count": 4,
   "id": "f65c345a-9596-4c82-b744-35eeba68a2a4",
   "metadata": {},
   "outputs": [
    {
     "data": {
      "text/html": [
       "<div>\n",
       "<style scoped>\n",
       "    .dataframe tbody tr th:only-of-type {\n",
       "        vertical-align: middle;\n",
       "    }\n",
       "\n",
       "    .dataframe tbody tr th {\n",
       "        vertical-align: top;\n",
       "    }\n",
       "\n",
       "    .dataframe thead th {\n",
       "        text-align: right;\n",
       "    }\n",
       "</style>\n",
       "<table border=\"1\" class=\"dataframe\">\n",
       "  <thead>\n",
       "    <tr style=\"text-align: right;\">\n",
       "      <th></th>\n",
       "      <th>Unnamed: 0</th>\n",
       "      <th>airline</th>\n",
       "      <th>flight</th>\n",
       "      <th>source_city</th>\n",
       "      <th>departure_time</th>\n",
       "      <th>stops</th>\n",
       "      <th>arrival_time</th>\n",
       "      <th>destination_city</th>\n",
       "      <th>class</th>\n",
       "      <th>duration</th>\n",
       "      <th>days_left</th>\n",
       "      <th>price</th>\n",
       "      <th>date</th>\n",
       "    </tr>\n",
       "  </thead>\n",
       "  <tbody>\n",
       "    <tr>\n",
       "      <th>0</th>\n",
       "      <td>0</td>\n",
       "      <td>SpiceJet</td>\n",
       "      <td>SG-8709</td>\n",
       "      <td>Delhi</td>\n",
       "      <td>Evening</td>\n",
       "      <td>zero</td>\n",
       "      <td>Night</td>\n",
       "      <td>Mumbai</td>\n",
       "      <td>Economy</td>\n",
       "      <td>2.17</td>\n",
       "      <td>1</td>\n",
       "      <td>5953</td>\n",
       "      <td>01-01-2018</td>\n",
       "    </tr>\n",
       "    <tr>\n",
       "      <th>1</th>\n",
       "      <td>1</td>\n",
       "      <td>SpiceJet</td>\n",
       "      <td>SG-8157</td>\n",
       "      <td>Delhi</td>\n",
       "      <td>Early_Morning</td>\n",
       "      <td>zero</td>\n",
       "      <td>Morning</td>\n",
       "      <td>Mumbai</td>\n",
       "      <td>Economy</td>\n",
       "      <td>2.33</td>\n",
       "      <td>1</td>\n",
       "      <td>5953</td>\n",
       "      <td>02-01-2018</td>\n",
       "    </tr>\n",
       "    <tr>\n",
       "      <th>2</th>\n",
       "      <td>2</td>\n",
       "      <td>AirAsia</td>\n",
       "      <td>I5-764</td>\n",
       "      <td>Delhi</td>\n",
       "      <td>Early_Morning</td>\n",
       "      <td>zero</td>\n",
       "      <td>Early_Morning</td>\n",
       "      <td>Mumbai</td>\n",
       "      <td>Economy</td>\n",
       "      <td>2.17</td>\n",
       "      <td>1</td>\n",
       "      <td>5956</td>\n",
       "      <td>03-01-2018</td>\n",
       "    </tr>\n",
       "    <tr>\n",
       "      <th>3</th>\n",
       "      <td>3</td>\n",
       "      <td>Vistara</td>\n",
       "      <td>UK-995</td>\n",
       "      <td>Delhi</td>\n",
       "      <td>Morning</td>\n",
       "      <td>zero</td>\n",
       "      <td>Afternoon</td>\n",
       "      <td>Mumbai</td>\n",
       "      <td>Economy</td>\n",
       "      <td>2.25</td>\n",
       "      <td>1</td>\n",
       "      <td>5955</td>\n",
       "      <td>04-01-2018</td>\n",
       "    </tr>\n",
       "    <tr>\n",
       "      <th>4</th>\n",
       "      <td>4</td>\n",
       "      <td>Vistara</td>\n",
       "      <td>UK-963</td>\n",
       "      <td>Delhi</td>\n",
       "      <td>Morning</td>\n",
       "      <td>zero</td>\n",
       "      <td>Morning</td>\n",
       "      <td>Mumbai</td>\n",
       "      <td>Economy</td>\n",
       "      <td>2.33</td>\n",
       "      <td>1</td>\n",
       "      <td>5955</td>\n",
       "      <td>05-01-2018</td>\n",
       "    </tr>\n",
       "  </tbody>\n",
       "</table>\n",
       "</div>"
      ],
      "text/plain": [
       "   Unnamed: 0   airline   flight source_city departure_time stops  \\\n",
       "0           0  SpiceJet  SG-8709       Delhi        Evening  zero   \n",
       "1           1  SpiceJet  SG-8157       Delhi  Early_Morning  zero   \n",
       "2           2   AirAsia   I5-764       Delhi  Early_Morning  zero   \n",
       "3           3   Vistara   UK-995       Delhi        Morning  zero   \n",
       "4           4   Vistara   UK-963       Delhi        Morning  zero   \n",
       "\n",
       "    arrival_time destination_city    class  duration  days_left price  \\\n",
       "0          Night           Mumbai  Economy      2.17          1  5953   \n",
       "1        Morning           Mumbai  Economy      2.33          1  5953   \n",
       "2  Early_Morning           Mumbai  Economy      2.17          1  5956   \n",
       "3      Afternoon           Mumbai  Economy      2.25          1  5955   \n",
       "4        Morning           Mumbai  Economy      2.33          1  5955   \n",
       "\n",
       "         date  \n",
       "0  01-01-2018  \n",
       "1  02-01-2018  \n",
       "2  03-01-2018  \n",
       "3  04-01-2018  \n",
       "4  05-01-2018  "
      ]
     },
     "execution_count": 4,
     "metadata": {},
     "output_type": "execute_result"
    }
   ],
   "source": [
    "df.head()"
   ]
  },
  {
   "cell_type": "markdown",
   "id": "342e8459-84de-4db5-bf59-2cf25ae44795",
   "metadata": {},
   "source": [
    "### Data PreProcessing\n",
    "- **Data Profiling**\n",
    "- **Data Cleaning**\n",
    "- **Data Consistency**\n",
    "- **Data Formatting**\n",
    "- **Outlier Detection and Removal**"
   ]
  },
  {
   "cell_type": "code",
   "execution_count": 5,
   "id": "fe37224e-49ee-47a4-8714-11eee5c48d4c",
   "metadata": {},
   "outputs": [
    {
     "data": {
      "text/plain": [
       "(301206, 13)"
      ]
     },
     "execution_count": 5,
     "metadata": {},
     "output_type": "execute_result"
    }
   ],
   "source": [
    "data.shape"
   ]
  },
  {
   "cell_type": "code",
   "execution_count": 6,
   "id": "231baa97-c100-4a24-b523-ad52f5d2f157",
   "metadata": {},
   "outputs": [
    {
     "name": "stdout",
     "output_type": "stream",
     "text": [
      "<class 'pandas.core.frame.DataFrame'>\n",
      "RangeIndex: 301206 entries, 0 to 301205\n",
      "Data columns (total 13 columns):\n",
      " #   Column            Non-Null Count   Dtype  \n",
      "---  ------            --------------   -----  \n",
      " 0   Unnamed: 0        301206 non-null  int64  \n",
      " 1   airline           300754 non-null  object \n",
      " 2   flight            301206 non-null  object \n",
      " 3   source_city       301206 non-null  object \n",
      " 4   departure_time    301206 non-null  object \n",
      " 5   stops             301206 non-null  object \n",
      " 6   arrival_time      301206 non-null  object \n",
      " 7   destination_city  301206 non-null  object \n",
      " 8   class             301006 non-null  object \n",
      " 9   duration          300956 non-null  float64\n",
      " 10  days_left         301206 non-null  int64  \n",
      " 11  price             301106 non-null  object \n",
      " 12  date              358 non-null     object \n",
      "dtypes: float64(1), int64(2), object(10)\n",
      "memory usage: 29.9+ MB\n"
     ]
    }
   ],
   "source": [
    "data.info()"
   ]
  },
  {
   "cell_type": "code",
   "execution_count": 7,
   "id": "c53707ca-d505-4a55-bb0c-c048da6d68d6",
   "metadata": {},
   "outputs": [
    {
     "data": {
      "text/plain": [
       "Unnamed: 0               0\n",
       "airline                452\n",
       "flight                   0\n",
       "source_city              0\n",
       "departure_time           0\n",
       "stops                    0\n",
       "arrival_time             0\n",
       "destination_city         0\n",
       "class                  200\n",
       "duration               250\n",
       "days_left                0\n",
       "price                  100\n",
       "date                300848\n",
       "dtype: int64"
      ]
     },
     "execution_count": 7,
     "metadata": {},
     "output_type": "execute_result"
    }
   ],
   "source": [
    "data.isna().sum()"
   ]
  },
  {
   "cell_type": "code",
   "execution_count": 8,
   "id": "3126a4e1-eeba-4d21-b778-c81d21e5667c",
   "metadata": {},
   "outputs": [
    {
     "data": {
      "text/plain": [
       "0"
      ]
     },
     "execution_count": 8,
     "metadata": {},
     "output_type": "execute_result"
    }
   ],
   "source": [
    "data.duplicated().sum()"
   ]
  },
  {
   "cell_type": "code",
   "execution_count": 9,
   "id": "69d9c280-7fc3-432b-91ab-fdbfa6177327",
   "metadata": {},
   "outputs": [
    {
     "data": {
      "text/plain": [
       "Index(['Unnamed: 0', 'airline', 'flight', 'source_city', 'departure_time',\n",
       "       'stops', 'arrival_time', 'destination_city', 'class', 'duration',\n",
       "       'days_left', 'price', 'date'],\n",
       "      dtype='object')"
      ]
     },
     "execution_count": 9,
     "metadata": {},
     "output_type": "execute_result"
    }
   ],
   "source": [
    "data.columns"
   ]
  },
  {
   "cell_type": "code",
   "execution_count": 10,
   "id": "f7807626-a08e-4bd8-887a-79586ab13792",
   "metadata": {},
   "outputs": [
    {
     "data": {
      "text/plain": [
       "Index(['Unnamed: 0', 'duration', 'days_left'], dtype='object')"
      ]
     },
     "execution_count": 10,
     "metadata": {},
     "output_type": "execute_result"
    }
   ],
   "source": [
    "num_col = data.select_dtypes(include = np.number).columns\n",
    "num_col"
   ]
  },
  {
   "cell_type": "code",
   "execution_count": 11,
   "id": "493f5237-d089-41e9-bbe0-b93bdc28654d",
   "metadata": {},
   "outputs": [
    {
     "data": {
      "text/plain": [
       "Index(['airline', 'flight', 'source_city', 'departure_time', 'stops',\n",
       "       'arrival_time', 'destination_city', 'class', 'price', 'date'],\n",
       "      dtype='object')"
      ]
     },
     "execution_count": 11,
     "metadata": {},
     "output_type": "execute_result"
    }
   ],
   "source": [
    "other_col = data.select_dtypes(include = object).columns\n",
    "other_col"
   ]
  },
  {
   "cell_type": "code",
   "execution_count": 12,
   "id": "1edb755e-cdb1-4124-8855-c0841e4e907e",
   "metadata": {},
   "outputs": [
    {
     "data": {
      "text/plain": [
       "airline\n",
       "Vistara      128275\n",
       "Air_India     81060\n",
       "Indigo        43128\n",
       "GO_FIRST      23176\n",
       "AirAsia       16100\n",
       "SpiceJet       9015\n",
       "Name: count, dtype: int64"
      ]
     },
     "execution_count": 12,
     "metadata": {},
     "output_type": "execute_result"
    }
   ],
   "source": [
    "data['airline'].value_counts()"
   ]
  },
  {
   "cell_type": "markdown",
   "id": "52c5bf26-040a-449a-8893-94d623683f6a",
   "metadata": {},
   "source": [
    "### Data Profilling\n",
    "1.**airline**\n",
    "   - Null values can be replaced with mode\n",
    "\n",
    "2.**flight**\n",
    "   - Should be dropped\n",
    "\n",
    "3.**source_city and destination_city**\n",
    "   - Everything is looking good\n",
    "\n",
    "4.**departure_time and arrival_time**\n",
    "   - Outliers should be removed\n",
    "\n",
    "5.**stops**\n",
    "   - Everything is looking good\n",
    "\n",
    "6.**class**\n",
    "   - Null values can be replaces with mode\n",
    "\n",
    "7.**duration**\n",
    "   - Null values can be removed\n",
    "   - Outliers should be removed\n",
    "\n",
    "8.**days_left**\n",
    "   - Everything looking good\n",
    "\n",
    "9.**price**\n",
    "   - Need to change the data type from object to integer\n",
    "   - Rows containing null values should be dropped\n",
    "   - Need to drop the rows corresponding to inconsistent values\n",
    "\n",
    "10.**Unnamed: 0 and date**\n",
    "   - Need to dropes"
   ]
  },
  {
   "cell_type": "markdown",
   "id": "877635ab-41d3-458b-be99-f0ebe9a77f5d",
   "metadata": {},
   "source": [
    "## Data Cleaning"
   ]
  },
  {
   "cell_type": "markdown",
   "id": "4821d1d3-dabc-449e-a127-7ef9db9207ef",
   "metadata": {},
   "source": [
    "### Unnamed: 0 and date and flight"
   ]
  },
  {
   "cell_type": "code",
   "execution_count": 13,
   "id": "bc04c081-f468-4bd1-8a39-b84ed6f45e04",
   "metadata": {},
   "outputs": [],
   "source": [
    "data.drop(['Unnamed: 0' , 'date' , 'flight'] ,axis = 1 ,  inplace = True)"
   ]
  },
  {
   "cell_type": "code",
   "execution_count": 14,
   "id": "617d58be-6558-4438-b90c-83be81050699",
   "metadata": {},
   "outputs": [
    {
     "data": {
      "text/html": [
       "<div>\n",
       "<style scoped>\n",
       "    .dataframe tbody tr th:only-of-type {\n",
       "        vertical-align: middle;\n",
       "    }\n",
       "\n",
       "    .dataframe tbody tr th {\n",
       "        vertical-align: top;\n",
       "    }\n",
       "\n",
       "    .dataframe thead th {\n",
       "        text-align: right;\n",
       "    }\n",
       "</style>\n",
       "<table border=\"1\" class=\"dataframe\">\n",
       "  <thead>\n",
       "    <tr style=\"text-align: right;\">\n",
       "      <th></th>\n",
       "      <th>airline</th>\n",
       "      <th>source_city</th>\n",
       "      <th>departure_time</th>\n",
       "      <th>stops</th>\n",
       "      <th>arrival_time</th>\n",
       "      <th>destination_city</th>\n",
       "      <th>class</th>\n",
       "      <th>duration</th>\n",
       "      <th>days_left</th>\n",
       "      <th>price</th>\n",
       "    </tr>\n",
       "  </thead>\n",
       "  <tbody>\n",
       "    <tr>\n",
       "      <th>0</th>\n",
       "      <td>SpiceJet</td>\n",
       "      <td>Delhi</td>\n",
       "      <td>Evening</td>\n",
       "      <td>zero</td>\n",
       "      <td>Night</td>\n",
       "      <td>Mumbai</td>\n",
       "      <td>Economy</td>\n",
       "      <td>2.17</td>\n",
       "      <td>1</td>\n",
       "      <td>5953</td>\n",
       "    </tr>\n",
       "    <tr>\n",
       "      <th>1</th>\n",
       "      <td>SpiceJet</td>\n",
       "      <td>Delhi</td>\n",
       "      <td>Early_Morning</td>\n",
       "      <td>zero</td>\n",
       "      <td>Morning</td>\n",
       "      <td>Mumbai</td>\n",
       "      <td>Economy</td>\n",
       "      <td>2.33</td>\n",
       "      <td>1</td>\n",
       "      <td>5953</td>\n",
       "    </tr>\n",
       "    <tr>\n",
       "      <th>2</th>\n",
       "      <td>AirAsia</td>\n",
       "      <td>Delhi</td>\n",
       "      <td>Early_Morning</td>\n",
       "      <td>zero</td>\n",
       "      <td>Early_Morning</td>\n",
       "      <td>Mumbai</td>\n",
       "      <td>Economy</td>\n",
       "      <td>2.17</td>\n",
       "      <td>1</td>\n",
       "      <td>5956</td>\n",
       "    </tr>\n",
       "    <tr>\n",
       "      <th>3</th>\n",
       "      <td>Vistara</td>\n",
       "      <td>Delhi</td>\n",
       "      <td>Morning</td>\n",
       "      <td>zero</td>\n",
       "      <td>Afternoon</td>\n",
       "      <td>Mumbai</td>\n",
       "      <td>Economy</td>\n",
       "      <td>2.25</td>\n",
       "      <td>1</td>\n",
       "      <td>5955</td>\n",
       "    </tr>\n",
       "    <tr>\n",
       "      <th>4</th>\n",
       "      <td>Vistara</td>\n",
       "      <td>Delhi</td>\n",
       "      <td>Morning</td>\n",
       "      <td>zero</td>\n",
       "      <td>Morning</td>\n",
       "      <td>Mumbai</td>\n",
       "      <td>Economy</td>\n",
       "      <td>2.33</td>\n",
       "      <td>1</td>\n",
       "      <td>5955</td>\n",
       "    </tr>\n",
       "  </tbody>\n",
       "</table>\n",
       "</div>"
      ],
      "text/plain": [
       "    airline source_city departure_time stops   arrival_time destination_city  \\\n",
       "0  SpiceJet       Delhi        Evening  zero          Night           Mumbai   \n",
       "1  SpiceJet       Delhi  Early_Morning  zero        Morning           Mumbai   \n",
       "2   AirAsia       Delhi  Early_Morning  zero  Early_Morning           Mumbai   \n",
       "3   Vistara       Delhi        Morning  zero      Afternoon           Mumbai   \n",
       "4   Vistara       Delhi        Morning  zero        Morning           Mumbai   \n",
       "\n",
       "     class  duration  days_left price  \n",
       "0  Economy      2.17          1  5953  \n",
       "1  Economy      2.33          1  5953  \n",
       "2  Economy      2.17          1  5956  \n",
       "3  Economy      2.25          1  5955  \n",
       "4  Economy      2.33          1  5955  "
      ]
     },
     "execution_count": 14,
     "metadata": {},
     "output_type": "execute_result"
    }
   ],
   "source": [
    "data.head()"
   ]
  },
  {
   "cell_type": "markdown",
   "id": "6dc3fe39-e0c0-445f-8f6c-b91fa1c40312",
   "metadata": {},
   "source": [
    "### Airline"
   ]
  },
  {
   "cell_type": "code",
   "execution_count": 15,
   "id": "4e6c463c-4cf9-424f-8552-c1c03cece731",
   "metadata": {},
   "outputs": [
    {
     "data": {
      "text/plain": [
       "'Vistara'"
      ]
     },
     "execution_count": 15,
     "metadata": {},
     "output_type": "execute_result"
    }
   ],
   "source": [
    "airline_mode = data['airline'].mode()[0]\n",
    "airline_mode"
   ]
  },
  {
   "cell_type": "code",
   "execution_count": 16,
   "id": "65f5e75e-5112-4483-aab9-7c8e97ac4542",
   "metadata": {},
   "outputs": [],
   "source": [
    "data['airline'] = data['airline'].fillna(airline_mode)"
   ]
  },
  {
   "cell_type": "code",
   "execution_count": 17,
   "id": "29ae3452-378e-4faf-b7bc-ffd421730b5a",
   "metadata": {},
   "outputs": [
    {
     "data": {
      "text/plain": [
       "0"
      ]
     },
     "execution_count": 17,
     "metadata": {},
     "output_type": "execute_result"
    }
   ],
   "source": [
    "data['airline'].isna().sum()"
   ]
  },
  {
   "cell_type": "markdown",
   "id": "7ae95e47-2cfa-47cc-9d24-820eb84aab73",
   "metadata": {},
   "source": [
    "### Class"
   ]
  },
  {
   "cell_type": "code",
   "execution_count": 18,
   "id": "86e619f8-c0d0-4abf-8313-b9d11645865f",
   "metadata": {},
   "outputs": [
    {
     "data": {
      "text/plain": [
       "'Economy'"
      ]
     },
     "execution_count": 18,
     "metadata": {},
     "output_type": "execute_result"
    }
   ],
   "source": [
    "class_mode = data['class'].mode()[0]\n",
    "class_mode"
   ]
  },
  {
   "cell_type": "code",
   "execution_count": 19,
   "id": "5e74d4b8-b070-48c2-ae51-5cc1e069be6b",
   "metadata": {},
   "outputs": [],
   "source": [
    "data['class'] = data['class'].fillna(class_mode)"
   ]
  },
  {
   "cell_type": "code",
   "execution_count": 20,
   "id": "faec4033-d1d6-4e95-9d8d-14217116da1c",
   "metadata": {},
   "outputs": [
    {
     "data": {
      "text/plain": [
       "0"
      ]
     },
     "execution_count": 20,
     "metadata": {},
     "output_type": "execute_result"
    }
   ],
   "source": [
    "data['class'].isna().sum()"
   ]
  },
  {
   "cell_type": "markdown",
   "id": "3713d9b6-9850-497b-8ec9-006e317f0de2",
   "metadata": {},
   "source": [
    "### Duration"
   ]
  },
  {
   "cell_type": "code",
   "execution_count": 21,
   "id": "0999a2a3-bf0c-4e49-8f6a-a9f95ddd50f2",
   "metadata": {},
   "outputs": [],
   "source": [
    "data.dropna(subset = ['duration'] , inplace = True)"
   ]
  },
  {
   "cell_type": "code",
   "execution_count": 22,
   "id": "d2697075-6409-4e41-992a-b7ff03ddaf87",
   "metadata": {},
   "outputs": [
    {
     "data": {
      "text/plain": [
       "0"
      ]
     },
     "execution_count": 22,
     "metadata": {},
     "output_type": "execute_result"
    }
   ],
   "source": [
    "data['duration'].isna().sum()"
   ]
  },
  {
   "cell_type": "markdown",
   "id": "fb2841b7-70df-432f-b0c9-aac5e38310eb",
   "metadata": {},
   "source": [
    "### Price"
   ]
  },
  {
   "cell_type": "code",
   "execution_count": 23,
   "id": "54a15173-d5a7-4bd2-bb5a-f07a2b6b0029",
   "metadata": {},
   "outputs": [],
   "source": [
    "data[\"price\"] = pd.to_numeric(data['price'] , errors = 'coerce')"
   ]
  },
  {
   "cell_type": "code",
   "execution_count": 24,
   "id": "bb4b45ae-6715-4900-821e-971e904fd920",
   "metadata": {},
   "outputs": [
    {
     "name": "stdout",
     "output_type": "stream",
     "text": [
      "<class 'pandas.core.series.Series'>\n",
      "Index: 300956 entries, 0 to 301205\n",
      "Series name: price\n",
      "Non-Null Count   Dtype  \n",
      "--------------   -----  \n",
      "300854 non-null  float64\n",
      "dtypes: float64(1)\n",
      "memory usage: 4.6 MB\n"
     ]
    }
   ],
   "source": [
    "data[\"price\"].info()"
   ]
  },
  {
   "cell_type": "code",
   "execution_count": 25,
   "id": "0381a8d3-2648-476f-999e-5ce8d2be27cb",
   "metadata": {},
   "outputs": [],
   "source": [
    "data.dropna(subset = [\"price\"] , inplace = True)"
   ]
  },
  {
   "cell_type": "code",
   "execution_count": 26,
   "id": "3a53cdc0-90df-42f2-886c-6305abf3d418",
   "metadata": {},
   "outputs": [
    {
     "data": {
      "text/plain": [
       "0"
      ]
     },
     "execution_count": 26,
     "metadata": {},
     "output_type": "execute_result"
    }
   ],
   "source": [
    "data[\"price\"].isna().sum()"
   ]
  },
  {
   "cell_type": "code",
   "execution_count": 27,
   "id": "bb5c5c4a-9c82-4550-b640-3ae5622c154d",
   "metadata": {},
   "outputs": [
    {
     "data": {
      "text/plain": [
       "airline             0\n",
       "source_city         0\n",
       "departure_time      0\n",
       "stops               0\n",
       "arrival_time        0\n",
       "destination_city    0\n",
       "class               0\n",
       "duration            0\n",
       "days_left           0\n",
       "price               0\n",
       "dtype: int64"
      ]
     },
     "execution_count": 27,
     "metadata": {},
     "output_type": "execute_result"
    }
   ],
   "source": [
    "data.isna().sum()"
   ]
  },
  {
   "cell_type": "code",
   "execution_count": 28,
   "id": "e9d693bc-d39f-49f7-9a86-2e67ff8e346b",
   "metadata": {},
   "outputs": [],
   "source": [
    "data.to_excel(\"Cleaned_Flight_data.xlsx\")"
   ]
  },
  {
   "cell_type": "markdown",
   "id": "dab5c386-cf93-4666-b4ba-7e793da31aeb",
   "metadata": {},
   "source": [
    "### Outlier Detection and Removal"
   ]
  },
  {
   "cell_type": "code",
   "execution_count": 28,
   "id": "0bca2509-2edd-468d-bc88-dc1bf19fae76",
   "metadata": {},
   "outputs": [
    {
     "data": {
      "text/html": [
       "<div>\n",
       "<style scoped>\n",
       "    .dataframe tbody tr th:only-of-type {\n",
       "        vertical-align: middle;\n",
       "    }\n",
       "\n",
       "    .dataframe tbody tr th {\n",
       "        vertical-align: top;\n",
       "    }\n",
       "\n",
       "    .dataframe thead th {\n",
       "        text-align: right;\n",
       "    }\n",
       "</style>\n",
       "<table border=\"1\" class=\"dataframe\">\n",
       "  <thead>\n",
       "    <tr style=\"text-align: right;\">\n",
       "      <th></th>\n",
       "      <th>duration</th>\n",
       "      <th>days_left</th>\n",
       "      <th>price</th>\n",
       "    </tr>\n",
       "  </thead>\n",
       "  <tbody>\n",
       "    <tr>\n",
       "      <th>count</th>\n",
       "      <td>300854.000000</td>\n",
       "      <td>300854.000000</td>\n",
       "      <td>3.008540e+05</td>\n",
       "    </tr>\n",
       "    <tr>\n",
       "      <th>mean</th>\n",
       "      <td>12.234572</td>\n",
       "      <td>26.035509</td>\n",
       "      <td>2.108129e+04</td>\n",
       "    </tr>\n",
       "    <tr>\n",
       "      <th>std</th>\n",
       "      <td>7.298037</td>\n",
       "      <td>13.571264</td>\n",
       "      <td>2.543790e+04</td>\n",
       "    </tr>\n",
       "    <tr>\n",
       "      <th>min</th>\n",
       "      <td>0.830000</td>\n",
       "      <td>1.000000</td>\n",
       "      <td>1.105000e+03</td>\n",
       "    </tr>\n",
       "    <tr>\n",
       "      <th>25%</th>\n",
       "      <td>6.830000</td>\n",
       "      <td>15.000000</td>\n",
       "      <td>4.784000e+03</td>\n",
       "    </tr>\n",
       "    <tr>\n",
       "      <th>50%</th>\n",
       "      <td>11.250000</td>\n",
       "      <td>26.000000</td>\n",
       "      <td>7.427000e+03</td>\n",
       "    </tr>\n",
       "    <tr>\n",
       "      <th>75%</th>\n",
       "      <td>16.170000</td>\n",
       "      <td>38.000000</td>\n",
       "      <td>4.252100e+04</td>\n",
       "    </tr>\n",
       "    <tr>\n",
       "      <th>max</th>\n",
       "      <td>622.250000</td>\n",
       "      <td>49.000000</td>\n",
       "      <td>2.512780e+06</td>\n",
       "    </tr>\n",
       "  </tbody>\n",
       "</table>\n",
       "</div>"
      ],
      "text/plain": [
       "            duration      days_left         price\n",
       "count  300854.000000  300854.000000  3.008540e+05\n",
       "mean       12.234572      26.035509  2.108129e+04\n",
       "std         7.298037      13.571264  2.543790e+04\n",
       "min         0.830000       1.000000  1.105000e+03\n",
       "25%         6.830000      15.000000  4.784000e+03\n",
       "50%        11.250000      26.000000  7.427000e+03\n",
       "75%        16.170000      38.000000  4.252100e+04\n",
       "max       622.250000      49.000000  2.512780e+06"
      ]
     },
     "execution_count": 28,
     "metadata": {},
     "output_type": "execute_result"
    }
   ],
   "source": [
    "data.describe()"
   ]
  },
  {
   "cell_type": "markdown",
   "id": "7df11e4a-617f-4759-8315-f4e2aef882e5",
   "metadata": {},
   "source": [
    "### Duration"
   ]
  },
  {
   "cell_type": "code",
   "execution_count": 29,
   "id": "9daf7a13-0111-436d-b141-a56a03f2d46f",
   "metadata": {},
   "outputs": [
    {
     "data": {
      "text/plain": [
       "6.83"
      ]
     },
     "execution_count": 29,
     "metadata": {},
     "output_type": "execute_result"
    }
   ],
   "source": [
    "Q1_duration = data['duration'].quantile(0.25)\n",
    "Q1_duration"
   ]
  },
  {
   "cell_type": "code",
   "execution_count": 30,
   "id": "3d653f6c-ae18-475c-a111-fdbdddb40ee9",
   "metadata": {},
   "outputs": [
    {
     "data": {
      "text/plain": [
       "16.17"
      ]
     },
     "execution_count": 30,
     "metadata": {},
     "output_type": "execute_result"
    }
   ],
   "source": [
    "Q3_duration = data['duration'].quantile(0.75)\n",
    "Q3_duration"
   ]
  },
  {
   "cell_type": "code",
   "execution_count": 31,
   "id": "6884917a-6984-4326-a1e8-1aca4320c792",
   "metadata": {},
   "outputs": [
    {
     "data": {
      "text/plain": [
       "9.340000000000002"
      ]
     },
     "execution_count": 31,
     "metadata": {},
     "output_type": "execute_result"
    }
   ],
   "source": [
    "IQR_duration = Q3_duration - Q1_duration\n",
    "IQR_duration"
   ]
  },
  {
   "cell_type": "code",
   "execution_count": 32,
   "id": "787cfe9c-5e77-41bd-8f9b-c1c7f0ece6e4",
   "metadata": {},
   "outputs": [],
   "source": [
    "lower_limit_duration = Q1_duration - 1.5*IQR_duration\n",
    "upper_limit_duration = Q3_duration + 1.5*IQR_duration"
   ]
  },
  {
   "cell_type": "code",
   "execution_count": 33,
   "id": "67b6578c-56a4-4763-ac5e-4ab8babd18e3",
   "metadata": {},
   "outputs": [
    {
     "name": "stdout",
     "output_type": "stream",
     "text": [
      "-7.1800000000000015\n",
      "30.180000000000003\n"
     ]
    }
   ],
   "source": [
    "print(lower_limit_duration)\n",
    "print(upper_limit_duration)"
   ]
  },
  {
   "cell_type": "code",
   "execution_count": 34,
   "id": "46b9c825-ba17-4fef-bed8-69b6b5b6b3fd",
   "metadata": {},
   "outputs": [
    {
     "data": {
      "text/html": [
       "<div>\n",
       "<style scoped>\n",
       "    .dataframe tbody tr th:only-of-type {\n",
       "        vertical-align: middle;\n",
       "    }\n",
       "\n",
       "    .dataframe tbody tr th {\n",
       "        vertical-align: top;\n",
       "    }\n",
       "\n",
       "    .dataframe thead th {\n",
       "        text-align: right;\n",
       "    }\n",
       "</style>\n",
       "<table border=\"1\" class=\"dataframe\">\n",
       "  <thead>\n",
       "    <tr style=\"text-align: right;\">\n",
       "      <th></th>\n",
       "      <th>airline</th>\n",
       "      <th>source_city</th>\n",
       "      <th>departure_time</th>\n",
       "      <th>stops</th>\n",
       "      <th>arrival_time</th>\n",
       "      <th>destination_city</th>\n",
       "      <th>class</th>\n",
       "      <th>duration</th>\n",
       "      <th>days_left</th>\n",
       "      <th>price</th>\n",
       "    </tr>\n",
       "  </thead>\n",
       "  <tbody>\n",
       "    <tr>\n",
       "      <th>0</th>\n",
       "      <td>SpiceJet</td>\n",
       "      <td>Delhi</td>\n",
       "      <td>Evening</td>\n",
       "      <td>zero</td>\n",
       "      <td>Night</td>\n",
       "      <td>Mumbai</td>\n",
       "      <td>Economy</td>\n",
       "      <td>2.17</td>\n",
       "      <td>1</td>\n",
       "      <td>5953.0</td>\n",
       "    </tr>\n",
       "    <tr>\n",
       "      <th>1</th>\n",
       "      <td>SpiceJet</td>\n",
       "      <td>Delhi</td>\n",
       "      <td>Early_Morning</td>\n",
       "      <td>zero</td>\n",
       "      <td>Morning</td>\n",
       "      <td>Mumbai</td>\n",
       "      <td>Economy</td>\n",
       "      <td>2.33</td>\n",
       "      <td>1</td>\n",
       "      <td>5953.0</td>\n",
       "    </tr>\n",
       "    <tr>\n",
       "      <th>2</th>\n",
       "      <td>AirAsia</td>\n",
       "      <td>Delhi</td>\n",
       "      <td>Early_Morning</td>\n",
       "      <td>zero</td>\n",
       "      <td>Early_Morning</td>\n",
       "      <td>Mumbai</td>\n",
       "      <td>Economy</td>\n",
       "      <td>2.17</td>\n",
       "      <td>1</td>\n",
       "      <td>5956.0</td>\n",
       "    </tr>\n",
       "    <tr>\n",
       "      <th>3</th>\n",
       "      <td>Vistara</td>\n",
       "      <td>Delhi</td>\n",
       "      <td>Morning</td>\n",
       "      <td>zero</td>\n",
       "      <td>Afternoon</td>\n",
       "      <td>Mumbai</td>\n",
       "      <td>Economy</td>\n",
       "      <td>2.25</td>\n",
       "      <td>1</td>\n",
       "      <td>5955.0</td>\n",
       "    </tr>\n",
       "    <tr>\n",
       "      <th>4</th>\n",
       "      <td>Vistara</td>\n",
       "      <td>Delhi</td>\n",
       "      <td>Morning</td>\n",
       "      <td>zero</td>\n",
       "      <td>Morning</td>\n",
       "      <td>Mumbai</td>\n",
       "      <td>Economy</td>\n",
       "      <td>2.33</td>\n",
       "      <td>1</td>\n",
       "      <td>5955.0</td>\n",
       "    </tr>\n",
       "    <tr>\n",
       "      <th>5</th>\n",
       "      <td>Vistara</td>\n",
       "      <td>Delhi</td>\n",
       "      <td>Morning</td>\n",
       "      <td>zero</td>\n",
       "      <td>Afternoon</td>\n",
       "      <td>Mumbai</td>\n",
       "      <td>Economy</td>\n",
       "      <td>2.33</td>\n",
       "      <td>1</td>\n",
       "      <td>5955.0</td>\n",
       "    </tr>\n",
       "    <tr>\n",
       "      <th>6</th>\n",
       "      <td>Vistara</td>\n",
       "      <td>Delhi</td>\n",
       "      <td>Morning</td>\n",
       "      <td>zero</td>\n",
       "      <td>Morning</td>\n",
       "      <td>Mumbai</td>\n",
       "      <td>Economy</td>\n",
       "      <td>2.08</td>\n",
       "      <td>1</td>\n",
       "      <td>6060.0</td>\n",
       "    </tr>\n",
       "    <tr>\n",
       "      <th>7</th>\n",
       "      <td>Vistara</td>\n",
       "      <td>Delhi</td>\n",
       "      <td>Afternoon</td>\n",
       "      <td>zero</td>\n",
       "      <td>Evening</td>\n",
       "      <td>Mumbai</td>\n",
       "      <td>Economy</td>\n",
       "      <td>2.17</td>\n",
       "      <td>1</td>\n",
       "      <td>6060.0</td>\n",
       "    </tr>\n",
       "    <tr>\n",
       "      <th>8</th>\n",
       "      <td>GO_FIRST</td>\n",
       "      <td>Delhi</td>\n",
       "      <td>Early_Morning</td>\n",
       "      <td>zero</td>\n",
       "      <td>Morning</td>\n",
       "      <td>Mumbai</td>\n",
       "      <td>Economy</td>\n",
       "      <td>2.17</td>\n",
       "      <td>1</td>\n",
       "      <td>5954.0</td>\n",
       "    </tr>\n",
       "    <tr>\n",
       "      <th>9</th>\n",
       "      <td>GO_FIRST</td>\n",
       "      <td>Delhi</td>\n",
       "      <td>Afternoon</td>\n",
       "      <td>zero</td>\n",
       "      <td>Evening</td>\n",
       "      <td>Mumbai</td>\n",
       "      <td>Economy</td>\n",
       "      <td>2.25</td>\n",
       "      <td>1</td>\n",
       "      <td>5954.0</td>\n",
       "    </tr>\n",
       "  </tbody>\n",
       "</table>\n",
       "</div>"
      ],
      "text/plain": [
       "    airline source_city departure_time stops   arrival_time destination_city  \\\n",
       "0  SpiceJet       Delhi        Evening  zero          Night           Mumbai   \n",
       "1  SpiceJet       Delhi  Early_Morning  zero        Morning           Mumbai   \n",
       "2   AirAsia       Delhi  Early_Morning  zero  Early_Morning           Mumbai   \n",
       "3   Vistara       Delhi        Morning  zero      Afternoon           Mumbai   \n",
       "4   Vistara       Delhi        Morning  zero        Morning           Mumbai   \n",
       "5   Vistara       Delhi        Morning  zero      Afternoon           Mumbai   \n",
       "6   Vistara       Delhi        Morning  zero        Morning           Mumbai   \n",
       "7   Vistara       Delhi      Afternoon  zero        Evening           Mumbai   \n",
       "8  GO_FIRST       Delhi  Early_Morning  zero        Morning           Mumbai   \n",
       "9  GO_FIRST       Delhi      Afternoon  zero        Evening           Mumbai   \n",
       "\n",
       "     class  duration  days_left   price  \n",
       "0  Economy      2.17          1  5953.0  \n",
       "1  Economy      2.33          1  5953.0  \n",
       "2  Economy      2.17          1  5956.0  \n",
       "3  Economy      2.25          1  5955.0  \n",
       "4  Economy      2.33          1  5955.0  \n",
       "5  Economy      2.33          1  5955.0  \n",
       "6  Economy      2.08          1  6060.0  \n",
       "7  Economy      2.17          1  6060.0  \n",
       "8  Economy      2.17          1  5954.0  \n",
       "9  Economy      2.25          1  5954.0  "
      ]
     },
     "execution_count": 34,
     "metadata": {},
     "output_type": "execute_result"
    }
   ],
   "source": [
    "data = data[(data[\"duration\"]>lower_limit_duration) & (data[\"duration\"]<upper_limit_duration)]\n",
    "data.head(10)"
   ]
  },
  {
   "cell_type": "code",
   "execution_count": 36,
   "id": "49540d0f-b25b-4362-9c48-2b68bb9c7055",
   "metadata": {},
   "outputs": [],
   "source": [
    "data.to_excel(\"Final_Flight_data.xlsx\")"
   ]
  },
  {
   "cell_type": "code",
   "execution_count": 35,
   "id": "ddaed52e-e875-406b-b368-87203caba911",
   "metadata": {},
   "outputs": [
    {
     "data": {
      "text/html": [
       "<div>\n",
       "<style scoped>\n",
       "    .dataframe tbody tr th:only-of-type {\n",
       "        vertical-align: middle;\n",
       "    }\n",
       "\n",
       "    .dataframe tbody tr th {\n",
       "        vertical-align: top;\n",
       "    }\n",
       "\n",
       "    .dataframe thead th {\n",
       "        text-align: right;\n",
       "    }\n",
       "</style>\n",
       "<table border=\"1\" class=\"dataframe\">\n",
       "  <thead>\n",
       "    <tr style=\"text-align: right;\">\n",
       "      <th></th>\n",
       "      <th>duration</th>\n",
       "      <th>days_left</th>\n",
       "      <th>price</th>\n",
       "    </tr>\n",
       "  </thead>\n",
       "  <tbody>\n",
       "    <tr>\n",
       "      <th>count</th>\n",
       "      <td>298733.000000</td>\n",
       "      <td>298733.000000</td>\n",
       "      <td>2.987330e+05</td>\n",
       "    </tr>\n",
       "    <tr>\n",
       "      <th>mean</th>\n",
       "      <td>12.081515</td>\n",
       "      <td>26.063883</td>\n",
       "      <td>2.111066e+04</td>\n",
       "    </tr>\n",
       "    <tr>\n",
       "      <th>std</th>\n",
       "      <td>6.995095</td>\n",
       "      <td>13.562508</td>\n",
       "      <td>2.548633e+04</td>\n",
       "    </tr>\n",
       "    <tr>\n",
       "      <th>min</th>\n",
       "      <td>0.830000</td>\n",
       "      <td>1.000000</td>\n",
       "      <td>1.105000e+03</td>\n",
       "    </tr>\n",
       "    <tr>\n",
       "      <th>25%</th>\n",
       "      <td>6.750000</td>\n",
       "      <td>15.000000</td>\n",
       "      <td>4.769000e+03</td>\n",
       "    </tr>\n",
       "    <tr>\n",
       "      <th>50%</th>\n",
       "      <td>11.170000</td>\n",
       "      <td>26.000000</td>\n",
       "      <td>7.425000e+03</td>\n",
       "    </tr>\n",
       "    <tr>\n",
       "      <th>75%</th>\n",
       "      <td>16.000000</td>\n",
       "      <td>38.000000</td>\n",
       "      <td>4.252100e+04</td>\n",
       "    </tr>\n",
       "    <tr>\n",
       "      <th>max</th>\n",
       "      <td>30.170000</td>\n",
       "      <td>49.000000</td>\n",
       "      <td>2.512780e+06</td>\n",
       "    </tr>\n",
       "  </tbody>\n",
       "</table>\n",
       "</div>"
      ],
      "text/plain": [
       "            duration      days_left         price\n",
       "count  298733.000000  298733.000000  2.987330e+05\n",
       "mean       12.081515      26.063883  2.111066e+04\n",
       "std         6.995095      13.562508  2.548633e+04\n",
       "min         0.830000       1.000000  1.105000e+03\n",
       "25%         6.750000      15.000000  4.769000e+03\n",
       "50%        11.170000      26.000000  7.425000e+03\n",
       "75%        16.000000      38.000000  4.252100e+04\n",
       "max        30.170000      49.000000  2.512780e+06"
      ]
     },
     "execution_count": 35,
     "metadata": {},
     "output_type": "execute_result"
    }
   ],
   "source": [
    "data.describe()"
   ]
  },
  {
   "cell_type": "code",
   "execution_count": 36,
   "id": "5765e150-9dfc-48a1-ac54-39d9d908ae06",
   "metadata": {},
   "outputs": [
    {
     "data": {
      "text/html": [
       "<div>\n",
       "<style scoped>\n",
       "    .dataframe tbody tr th:only-of-type {\n",
       "        vertical-align: middle;\n",
       "    }\n",
       "\n",
       "    .dataframe tbody tr th {\n",
       "        vertical-align: top;\n",
       "    }\n",
       "\n",
       "    .dataframe thead th {\n",
       "        text-align: right;\n",
       "    }\n",
       "</style>\n",
       "<table border=\"1\" class=\"dataframe\">\n",
       "  <thead>\n",
       "    <tr style=\"text-align: right;\">\n",
       "      <th></th>\n",
       "      <th>departure_time</th>\n",
       "      <th>price</th>\n",
       "    </tr>\n",
       "  </thead>\n",
       "  <tbody>\n",
       "    <tr>\n",
       "      <th>0</th>\n",
       "      <td>Afternoon</td>\n",
       "      <td>18344.500201</td>\n",
       "    </tr>\n",
       "    <tr>\n",
       "      <th>1</th>\n",
       "      <td>Early_Morning</td>\n",
       "      <td>20565.881941</td>\n",
       "    </tr>\n",
       "    <tr>\n",
       "      <th>2</th>\n",
       "      <td>Evening</td>\n",
       "      <td>21548.460829</td>\n",
       "    </tr>\n",
       "    <tr>\n",
       "      <th>3</th>\n",
       "      <td>Late_Night</td>\n",
       "      <td>9295.299387</td>\n",
       "    </tr>\n",
       "    <tr>\n",
       "      <th>4</th>\n",
       "      <td>Morning</td>\n",
       "      <td>21855.317102</td>\n",
       "    </tr>\n",
       "    <tr>\n",
       "      <th>5</th>\n",
       "      <td>Night</td>\n",
       "      <td>23208.647902</td>\n",
       "    </tr>\n",
       "  </tbody>\n",
       "</table>\n",
       "</div>"
      ],
      "text/plain": [
       "  departure_time         price\n",
       "0      Afternoon  18344.500201\n",
       "1  Early_Morning  20565.881941\n",
       "2        Evening  21548.460829\n",
       "3     Late_Night   9295.299387\n",
       "4        Morning  21855.317102\n",
       "5          Night  23208.647902"
      ]
     },
     "execution_count": 36,
     "metadata": {},
     "output_type": "execute_result"
    }
   ],
   "source": [
    "departure_data_price = data.groupby('departure_time')['price'].mean().reset_index()\n",
    "departure_data_price"
   ]
  },
  {
   "cell_type": "code",
   "execution_count": 37,
   "id": "109faf77-1d44-4da4-93a7-6381c3e9972a",
   "metadata": {},
   "outputs": [
    {
     "name": "stdout",
     "output_type": "stream",
     "text": [
      "departure_time\n",
      "Morning          70605\n",
      "Early_Morning    66382\n",
      "Evening          65100\n",
      "Night            48157\n",
      "Afternoon        47183\n",
      "Late_Night        1306\n",
      "Name: count, dtype: int64\n"
     ]
    }
   ],
   "source": [
    "print(data['departure_time'].value_counts())"
   ]
  },
  {
   "cell_type": "code",
   "execution_count": 38,
   "id": "98463794-1ffb-4ff7-a006-c23f30662cf1",
   "metadata": {},
   "outputs": [
    {
     "name": "stdout",
     "output_type": "stream",
     "text": [
      "duration\n",
      "2.17     4243\n",
      "2.25     4036\n",
      "2.75     2879\n",
      "2.08     2755\n",
      "2.83     2323\n",
      "         ... \n",
      "29.25      15\n",
      "6.98       15\n",
      "13.40      15\n",
      "29.92      11\n",
      "6.07        5\n",
      "Name: count, Length: 356, dtype: int64\n"
     ]
    }
   ],
   "source": [
    "print(data['duration'].value_counts())"
   ]
  },
  {
   "cell_type": "code",
   "execution_count": 39,
   "id": "17f0494a-97a7-4bb3-8bca-f302296edb50",
   "metadata": {},
   "outputs": [
    {
     "data": {
      "text/html": [
       "<div>\n",
       "<style scoped>\n",
       "    .dataframe tbody tr th:only-of-type {\n",
       "        vertical-align: middle;\n",
       "    }\n",
       "\n",
       "    .dataframe tbody tr th {\n",
       "        vertical-align: top;\n",
       "    }\n",
       "\n",
       "    .dataframe thead th {\n",
       "        text-align: right;\n",
       "    }\n",
       "</style>\n",
       "<table border=\"1\" class=\"dataframe\">\n",
       "  <thead>\n",
       "    <tr style=\"text-align: right;\">\n",
       "      <th></th>\n",
       "      <th>duration</th>\n",
       "      <th>price</th>\n",
       "    </tr>\n",
       "  </thead>\n",
       "  <tbody>\n",
       "    <tr>\n",
       "      <th>0</th>\n",
       "      <td>0.83</td>\n",
       "      <td>1973.557692</td>\n",
       "    </tr>\n",
       "    <tr>\n",
       "      <th>1</th>\n",
       "      <td>0.92</td>\n",
       "      <td>2003.538462</td>\n",
       "    </tr>\n",
       "    <tr>\n",
       "      <th>2</th>\n",
       "      <td>1.00</td>\n",
       "      <td>2266.063660</td>\n",
       "    </tr>\n",
       "    <tr>\n",
       "      <th>3</th>\n",
       "      <td>1.08</td>\n",
       "      <td>2589.311031</td>\n",
       "    </tr>\n",
       "    <tr>\n",
       "      <th>4</th>\n",
       "      <td>1.17</td>\n",
       "      <td>2632.209375</td>\n",
       "    </tr>\n",
       "    <tr>\n",
       "      <th>...</th>\n",
       "      <td>...</td>\n",
       "      <td>...</td>\n",
       "    </tr>\n",
       "    <tr>\n",
       "      <th>351</th>\n",
       "      <td>29.83</td>\n",
       "      <td>24845.158416</td>\n",
       "    </tr>\n",
       "    <tr>\n",
       "      <th>352</th>\n",
       "      <td>29.92</td>\n",
       "      <td>5565.727273</td>\n",
       "    </tr>\n",
       "    <tr>\n",
       "      <th>353</th>\n",
       "      <td>30.00</td>\n",
       "      <td>13282.686869</td>\n",
       "    </tr>\n",
       "    <tr>\n",
       "      <th>354</th>\n",
       "      <td>30.08</td>\n",
       "      <td>27286.702128</td>\n",
       "    </tr>\n",
       "    <tr>\n",
       "      <th>355</th>\n",
       "      <td>30.17</td>\n",
       "      <td>10595.454545</td>\n",
       "    </tr>\n",
       "  </tbody>\n",
       "</table>\n",
       "<p>356 rows × 2 columns</p>\n",
       "</div>"
      ],
      "text/plain": [
       "     duration         price\n",
       "0        0.83   1973.557692\n",
       "1        0.92   2003.538462\n",
       "2        1.00   2266.063660\n",
       "3        1.08   2589.311031\n",
       "4        1.17   2632.209375\n",
       "..        ...           ...\n",
       "351     29.83  24845.158416\n",
       "352     29.92   5565.727273\n",
       "353     30.00  13282.686869\n",
       "354     30.08  27286.702128\n",
       "355     30.17  10595.454545\n",
       "\n",
       "[356 rows x 2 columns]"
      ]
     },
     "execution_count": 39,
     "metadata": {},
     "output_type": "execute_result"
    }
   ],
   "source": [
    "duration_data_price = data.groupby('duration')['price'].mean().reset_index()\n",
    "duration_data_price"
   ]
  },
  {
   "cell_type": "markdown",
   "id": "5b66e8a4-f64e-4cb5-9ba6-6c41384fdd42",
   "metadata": {},
   "source": [
    "## Exploratory Data Analysis"
   ]
  },
  {
   "cell_type": "markdown",
   "id": "fc500c89-ad2a-474f-8fab-6adec7c7117b",
   "metadata": {},
   "source": [
    "### Statistical Analysis"
   ]
  },
  {
   "cell_type": "code",
   "execution_count": 40,
   "id": "e40c20b2-9d18-4710-bf6d-875a2600b45e",
   "metadata": {},
   "outputs": [
    {
     "data": {
      "text/html": [
       "<div>\n",
       "<style scoped>\n",
       "    .dataframe tbody tr th:only-of-type {\n",
       "        vertical-align: middle;\n",
       "    }\n",
       "\n",
       "    .dataframe tbody tr th {\n",
       "        vertical-align: top;\n",
       "    }\n",
       "\n",
       "    .dataframe thead th {\n",
       "        text-align: right;\n",
       "    }\n",
       "</style>\n",
       "<table border=\"1\" class=\"dataframe\">\n",
       "  <thead>\n",
       "    <tr style=\"text-align: right;\">\n",
       "      <th></th>\n",
       "      <th>airline</th>\n",
       "      <th>source_city</th>\n",
       "      <th>departure_time</th>\n",
       "      <th>stops</th>\n",
       "      <th>arrival_time</th>\n",
       "      <th>destination_city</th>\n",
       "      <th>class</th>\n",
       "      <th>duration</th>\n",
       "      <th>days_left</th>\n",
       "      <th>price</th>\n",
       "    </tr>\n",
       "  </thead>\n",
       "  <tbody>\n",
       "    <tr>\n",
       "      <th>0</th>\n",
       "      <td>SpiceJet</td>\n",
       "      <td>Delhi</td>\n",
       "      <td>Evening</td>\n",
       "      <td>zero</td>\n",
       "      <td>Night</td>\n",
       "      <td>Mumbai</td>\n",
       "      <td>Economy</td>\n",
       "      <td>2.17</td>\n",
       "      <td>1</td>\n",
       "      <td>5953.0</td>\n",
       "    </tr>\n",
       "    <tr>\n",
       "      <th>1</th>\n",
       "      <td>SpiceJet</td>\n",
       "      <td>Delhi</td>\n",
       "      <td>Early_Morning</td>\n",
       "      <td>zero</td>\n",
       "      <td>Morning</td>\n",
       "      <td>Mumbai</td>\n",
       "      <td>Economy</td>\n",
       "      <td>2.33</td>\n",
       "      <td>1</td>\n",
       "      <td>5953.0</td>\n",
       "    </tr>\n",
       "    <tr>\n",
       "      <th>2</th>\n",
       "      <td>AirAsia</td>\n",
       "      <td>Delhi</td>\n",
       "      <td>Early_Morning</td>\n",
       "      <td>zero</td>\n",
       "      <td>Early_Morning</td>\n",
       "      <td>Mumbai</td>\n",
       "      <td>Economy</td>\n",
       "      <td>2.17</td>\n",
       "      <td>1</td>\n",
       "      <td>5956.0</td>\n",
       "    </tr>\n",
       "    <tr>\n",
       "      <th>3</th>\n",
       "      <td>Vistara</td>\n",
       "      <td>Delhi</td>\n",
       "      <td>Morning</td>\n",
       "      <td>zero</td>\n",
       "      <td>Afternoon</td>\n",
       "      <td>Mumbai</td>\n",
       "      <td>Economy</td>\n",
       "      <td>2.25</td>\n",
       "      <td>1</td>\n",
       "      <td>5955.0</td>\n",
       "    </tr>\n",
       "    <tr>\n",
       "      <th>4</th>\n",
       "      <td>Vistara</td>\n",
       "      <td>Delhi</td>\n",
       "      <td>Morning</td>\n",
       "      <td>zero</td>\n",
       "      <td>Morning</td>\n",
       "      <td>Mumbai</td>\n",
       "      <td>Economy</td>\n",
       "      <td>2.33</td>\n",
       "      <td>1</td>\n",
       "      <td>5955.0</td>\n",
       "    </tr>\n",
       "  </tbody>\n",
       "</table>\n",
       "</div>"
      ],
      "text/plain": [
       "    airline source_city departure_time stops   arrival_time destination_city  \\\n",
       "0  SpiceJet       Delhi        Evening  zero          Night           Mumbai   \n",
       "1  SpiceJet       Delhi  Early_Morning  zero        Morning           Mumbai   \n",
       "2   AirAsia       Delhi  Early_Morning  zero  Early_Morning           Mumbai   \n",
       "3   Vistara       Delhi        Morning  zero      Afternoon           Mumbai   \n",
       "4   Vistara       Delhi        Morning  zero        Morning           Mumbai   \n",
       "\n",
       "     class  duration  days_left   price  \n",
       "0  Economy      2.17          1  5953.0  \n",
       "1  Economy      2.33          1  5953.0  \n",
       "2  Economy      2.17          1  5956.0  \n",
       "3  Economy      2.25          1  5955.0  \n",
       "4  Economy      2.33          1  5955.0  "
      ]
     },
     "execution_count": 40,
     "metadata": {},
     "output_type": "execute_result"
    }
   ],
   "source": [
    "data.head(5)"
   ]
  },
  {
   "cell_type": "markdown",
   "id": "4b5b9ba5-2ee4-465a-8221-759b70891e34",
   "metadata": {},
   "source": [
    "### Data Visualisation"
   ]
  },
  {
   "cell_type": "markdown",
   "id": "b9b5c4e5-60e3-4d17-bb80-2a8dc46d780f",
   "metadata": {},
   "source": [
    "### Airline wise analysis"
   ]
  },
  {
   "cell_type": "code",
   "execution_count": 41,
   "id": "7542278a-fdb8-41af-a7f0-5b0789463ed2",
   "metadata": {},
   "outputs": [
    {
     "name": "stdout",
     "output_type": "stream",
     "text": [
      "     airline         price\n",
      "0    AirAsia   4181.956335\n",
      "1  Air_India  23837.069350\n",
      "2   GO_FIRST   5682.426297\n",
      "3     Indigo   5473.784636\n",
      "4   SpiceJet   6547.777926\n",
      "5    Vistara  30656.637318\n"
     ]
    }
   ],
   "source": [
    "#Plot data\n",
    "data_airline_price = data.groupby([\"airline\"], as_index = False)[\"price\"].mean()\n",
    "print(data_airline_price)"
   ]
  },
  {
   "cell_type": "code",
   "execution_count": 42,
   "id": "755b1a9e-c06e-4521-a442-f24e69d56562",
   "metadata": {},
   "outputs": [
    {
     "data": {
      "image/png": "[encoded data removed]",
      "text/plain": [
       "<Figure size 1800x700 with 2 Axes>"
      ]
     },
     "metadata": {},
     "output_type": "display_data"
    }
   ],
   "source": [
    "#plotting\n",
    "data_airline_price = data_airline_price.sort_values(by='price', ascending=False)\n",
    "\n",
    "# Plotting\n",
    "fig, ax = plt.subplots(1, 2, figsize=(18, 7))\n",
    "\n",
    "# Countplot\n",
    "sns.countplot(x='airline', data=data, ax=ax[0])\n",
    "ax[0].set_title(\"Flight Count\")\n",
    "\n",
    "# Barplot\n",
    "sns.barplot(x='price', y='airline', orient='h', data=data_airline_price, ax=ax[1])\n",
    "ax[1].set_title(\"Airlines mean prices\")\n",
    "\n",
    "plt.show()"
   ]
  },
  {
   "cell_type": "markdown",
   "id": "779ca1b5-a244-4de7-bb62-0407ee9d801d",
   "metadata": {},
   "source": [
    "### Conclusion \n",
    " - Vistara operates maximum number of flights and Spicejet operates least\n",
    " - Mean price of vistara is highest and AirAsia having least"
   ]
  },
  {
   "cell_type": "markdown",
   "id": "e76758bf-0be5-4d8f-8413-5b0fa8445edb",
   "metadata": {},
   "source": [
    "### Source_city and Destination_wise Analysis"
   ]
  },
  {
   "cell_type": "code",
   "execution_count": 43,
   "id": "d9a98a13-412e-4f5c-b332-e80c8037b116",
   "metadata": {},
   "outputs": [
    {
     "name": "stdout",
     "output_type": "stream",
     "text": [
      "City Count:\n",
      " Mumbai       119435\n",
      "Delhi        118385\n",
      "Bangalore    102266\n",
      "Kolkata       95042\n",
      "Hyderabad     83627\n",
      "Chennai       78711\n",
      "Name: count, dtype: int64\n"
     ]
    }
   ],
   "source": [
    "all_cities = pd.concat([data['source_city'], data['destination_city']])\n",
    "city_count = all_cities.value_counts()\n",
    "print(\"City Count:\\n\", city_count)"
   ]
  },
  {
   "cell_type": "code",
   "execution_count": 44,
   "id": "2f6488f1-e7f8-4992-b658-25c9a21ac905",
   "metadata": {},
   "outputs": [
    {
     "data": {
      "image/png": "[encoded data removed]",
      "text/plain": [
       "<Figure size 1000x500 with 1 Axes>"
      ]
     },
     "metadata": {},
     "output_type": "display_data"
    }
   ],
   "source": [
    "fig, ax = plt.subplots(figsize=(10, 5))\n",
    "\n",
    "bars = ax.bar(city_count.index, city_count.values, color='#9370DB')\n",
    "ax.set_title(\"Total Count of Each City (Source + Destination)\")\n",
    "ax.set_xlabel(\"City\")\n",
    "ax.set_ylabel(\"Count\")\n",
    "\n",
    "for bar in bars:\n",
    "    yval = bar.get_height()\n",
    "    ax.text(bar.get_x() + bar.get_width()/2, yval, round(yval, 2), ha='center', va='bottom')\n",
    "\n",
    "plt.show()"
   ]
  },
  {
   "cell_type": "markdown",
   "id": "bf5a5aec-cd07-4aa6-a66f-1ebbebcc4a32",
   "metadata": {},
   "source": [
    "### Conclusion \n",
    " - Mumbai is the buiest airport in the country among top 6 airports\n",
    " - Chennai is least buiest airpost among top 6 airports"
   ]
  },
  {
   "cell_type": "markdown",
   "id": "5a2de446-5a30-49aa-9d57-d31a3cb96ea8",
   "metadata": {},
   "source": [
    "## Stops Wise Analysis"
   ]
  },
  {
   "cell_type": "code",
   "execution_count": 45,
   "id": "374d9654-ab57-4d3d-87ef-360c781c5d35",
   "metadata": {},
   "outputs": [
    {
     "name": "stdout",
     "output_type": "stream",
     "text": [
      "stops\n",
      "one            250254\n",
      "zero            36012\n",
      "two_or_more     12467\n",
      "Name: count, dtype: int64\n",
      "\n",
      "         stops         price\n",
      "0          one  23136.887143\n",
      "1  two_or_more  14010.792813\n",
      "2         zero   9487.942936\n"
     ]
    }
   ],
   "source": [
    "stops_count = data['stops'].value_counts()\n",
    "print(stops_count)\n",
    "print()\n",
    "stop_data_price = data.groupby('stops')['price'].mean().reset_index()\n",
    "print(stop_data_price)"
   ]
  },
  {
   "cell_type": "code",
   "execution_count": 46,
   "id": "f0bc178d-e67a-4410-8e99-17a8876eef88",
   "metadata": {},
   "outputs": [
    {
     "data": {
      "image/png": "[encoded data removed]",
      "text/plain": [
       "<Figure size 1600x400 with 2 Axes>"
      ]
     },
     "metadata": {},
     "output_type": "display_data"
    }
   ],
   "source": [
    "# Plotting\n",
    "fig, ax = plt.subplots(1, 2, figsize=(16, 4))  \n",
    "#Pie Plot\n",
    "\n",
    "ax[0].pie(stops_count, labels=stops_count.index, autopct=\"%1.1f%%\", startangle=140)\n",
    "ax[0].set_title(\"Stops wise Count\")\n",
    "\n",
    "sns.barplot(x=\"stops\", y=\"price\", data=stop_data_price, ax=ax[1])\n",
    "ax[1].set_title(\"Stop wise mean price\")\n",
    "\n",
    "# Show the plots\n",
    "plt.show()"
   ]
  },
  {
   "cell_type": "markdown",
   "id": "27b36987-1ebf-43da-a033-66e545ee7427",
   "metadata": {},
   "source": [
    "## Colclusion\n",
    "- Most Flights have one Stops.\n",
    "- Price of flight having one stop is highest."
   ]
  },
  {
   "cell_type": "markdown",
   "id": "7c0a4ed5-7998-4626-b1cd-deafed0b46a4",
   "metadata": {},
   "source": [
    "## Class Wise Analysis"
   ]
  },
  {
   "cell_type": "code",
   "execution_count": 47,
   "id": "c1019bc4-32e7-4f5a-8366-7515f916189c",
   "metadata": {},
   "outputs": [
    {
     "name": "stdout",
     "output_type": "stream",
     "text": [
      "class\n",
      "Economy     205030\n",
      "Business     93703\n",
      "Name: count, dtype: int64\n",
      "      class         price\n",
      "0  Business  52510.105898\n",
      "1   Economy   6760.456797\n"
     ]
    }
   ],
   "source": [
    "count_class = data['class'].value_counts()\n",
    "print(count_class)\n",
    "\n",
    "price_class = data.groupby(['class'] , as_index = False)['price'].mean()\n",
    "print(price_class)"
   ]
  },
  {
   "cell_type": "code",
   "execution_count": 48,
   "id": "07da123d-6f82-45c1-ba8c-3638720bb61d",
   "metadata": {},
   "outputs": [
    {
     "data": {
      "image/png": "[encoded data removed]",
      "text/plain": [
       "<Figure size 1800x500 with 2 Axes>"
      ]
     },
     "metadata": {},
     "output_type": "display_data"
    }
   ],
   "source": [
    "# Plotting\n",
    "fig, ax = plt.subplots(1, 2, figsize=(18, 5))\n",
    "\n",
    "# Pie chart for count of classes\n",
    "ax[0].pie(count_class, labels=count_class.index, autopct=\"%1.1f%%\", startangle=140)\n",
    "ax[0].set_title(\"Distribution of Flight Classes\")\n",
    "\n",
    "# Pie chart for total price by class\n",
    "sns.barplot(x='price', y='class', data = price_class , ax=ax[1])\n",
    "ax[1].set_title(\"Total Price by Flight Class\")\n",
    "\n",
    "plt.show()"
   ]
  },
  {
   "cell_type": "markdown",
   "id": "621fd3c3-3376-4d12-9c2f-c55c6e1c0a1a",
   "metadata": {},
   "source": [
    "### Conclusion\n",
    " - Economy class have more bookings than Business Class\n",
    " - Business class have higher mean price than Economy Class"
   ]
  },
  {
   "cell_type": "markdown",
   "id": "4c457421-ab37-4124-9a35-46ad5d98f287",
   "metadata": {},
   "source": [
    "## Times ( of Day ) wise analysis"
   ]
  },
  {
   "cell_type": "code",
   "execution_count": 49,
   "id": "158790a8-43be-4a16-97b5-137498235755",
   "metadata": {},
   "outputs": [
    {
     "name": "stdout",
     "output_type": "stream",
     "text": [
      "Times Count:\n",
      " Evening          142536\n",
      "Night            139141\n",
      "Morning          133446\n",
      "Afternoon         85231\n",
      "Early_Morning     81818\n",
      "Late_Night        15294\n",
      "Name: count, dtype: int64\n"
     ]
    }
   ],
   "source": [
    "all_times = pd.concat([data['arrival_time'], data['departure_time']])\n",
    "times_count = all_times.value_counts()\n",
    "print(\"Times Count:\\n\", times_count)"
   ]
  },
  {
   "cell_type": "code",
   "execution_count": 50,
   "id": "3fc7c0b5-2096-4eca-8381-5a999ce2762d",
   "metadata": {},
   "outputs": [
    {
     "data": {
      "image/png": "[encoded data removed]",
      "text/plain": [
       "<Figure size 1000x500 with 1 Axes>"
      ]
     },
     "metadata": {},
     "output_type": "display_data"
    }
   ],
   "source": [
    "fig, ax = plt.subplots(figsize=(10, 5))\n",
    "\n",
    "bars = ax.bar(times_count.index, times_count.values, color='#DC143C')\n",
    "ax.set_title(\"Total Count of Each times (arrival + departure)\")\n",
    "ax.set_xlabel(\"times\")\n",
    "ax.set_ylabel(\"Count\")\n",
    "\n",
    "for bar in bars:\n",
    "    yval = bar.get_height()\n",
    "    ax.text(bar.get_x() + bar.get_width()/2, yval, round(yval, 2), ha='center', va='bottom')\n",
    "\n",
    "\n",
    "plt.show()"
   ]
  },
  {
   "cell_type": "markdown",
   "id": "fe90b451-b8d7-4517-8325-e4c4ace14432",
   "metadata": {},
   "source": [
    "### Conclusion\n",
    " - Flights starting and ending journey at Evening is highest.\n",
    " - Flights starting and ending journey at Late_Night is highest."
   ]
  },
  {
   "cell_type": "code",
   "execution_count": 51,
   "id": "7856e19c-c9de-4831-8d9a-a74d4085a3a5",
   "metadata": {},
   "outputs": [
    {
     "data": {
      "text/plain": [
       "departure_time\n",
       "Afternoon        18344.500201\n",
       "Early_Morning    20565.881941\n",
       "Evening          21548.460829\n",
       "Late_Night        9295.299387\n",
       "Morning          21855.317102\n",
       "Night            23208.647902\n",
       "Name: price, dtype: float64"
      ]
     },
     "execution_count": 51,
     "metadata": {},
     "output_type": "execute_result"
    }
   ],
   "source": [
    "times_price = data.groupby(['departure_time'])['price'].mean()\n",
    "times_price"
   ]
  },
  {
   "cell_type": "code",
   "execution_count": 52,
   "id": "d3f973b8-79cb-42cf-8002-7364929f96ed",
   "metadata": {},
   "outputs": [
    {
     "data": {
      "image/png": "[encoded data removed]",
      "text/plain": [
       "<Figure size 1000x500 with 1 Axes>"
      ]
     },
     "metadata": {},
     "output_type": "display_data"
    }
   ],
   "source": [
    "fig, ax = plt.subplots(figsize=(10, 5))\n",
    "\n",
    "bars = ax.bar(times_price.index, times_price.values)\n",
    "ax.set_title(\"Mean Price of Departure Time\")\n",
    "ax.set_xlabel(\"Time of Day\")\n",
    "ax.set_ylabel(\"Mean Price\")\n",
    "\n",
    "for bar in bars:\n",
    "    yval = bar.get_height()\n",
    "    ax.text(bar.get_x() + bar.get_width()/2, yval, round(yval, 2), ha='center', va='bottom')\n",
    "\n",
    "plt.show()"
   ]
  },
  {
   "cell_type": "markdown",
   "id": "4c1ce405-24d3-4d96-ac35-d6a4f1e4e318",
   "metadata": {},
   "source": [
    "### Conclusion\n",
    " - Night Flight have the highest mean price.\n",
    " - Late_Night have lowest mean price."
   ]
  },
  {
   "cell_type": "markdown",
   "id": "99fc85a4-8b85-41e7-8b6c-1714250aec77",
   "metadata": {},
   "source": [
    "## Days_Left wise Analysis"
   ]
  },
  {
   "cell_type": "code",
   "execution_count": 53,
   "id": "b0bb2dd9-2b7a-45ba-b180-a71a64658211",
   "metadata": {},
   "outputs": [
    {
     "name": "stdout",
     "output_type": "stream",
     "text": [
      "    days_left         price\n",
      "48         49  19241.121310\n",
      "47         48  19243.896880\n",
      "46         47  18798.702271\n",
      "45         46  19518.399740\n",
      "44         45  19410.529244\n",
      "\n",
      "   days_left         price\n",
      "0          1  41107.422798\n",
      "1          2  30294.731800\n",
      "2          3  29142.256521\n",
      "3          4  25792.914075\n",
      "4          5  26722.568866\n"
     ]
    }
   ],
   "source": [
    "price_days_left = data.groupby(['days_left'])['price'].mean().reset_index()\n",
    "top_price_days_left = price_days_left.nlargest(5 , 'days_left')\n",
    "print(top_price_days_left)\n",
    "\n",
    "print()\n",
    "\n",
    "smallest_price_days_left = price_days_left.nsmallest(5 , 'days_left')\n",
    "print(smallest_price_days_left)"
   ]
  },
  {
   "cell_type": "code",
   "execution_count": 54,
   "id": "e5685f3b-ac69-451c-8181-8693b5e6d466",
   "metadata": {},
   "outputs": [
    {
     "data": {
      "image/png": "[encoded data removed]",
      "text/plain": [
       "<Figure size 1600x500 with 2 Axes>"
      ]
     },
     "metadata": {},
     "output_type": "display_data"
    }
   ],
   "source": [
    "import matplotlib.pyplot as plt\n",
    "import seaborn as sns\n",
    "\n",
    "# Assuming you have your data in top_price_days_left and smallest_price_days_left\n",
    "fig, ax = plt.subplots(1, 2, figsize=(16, 5))\n",
    "\n",
    "# Bar plot for minimum days left\n",
    "sns.barplot(x='days_left', y='price', data=top_price_days_left, ax=ax[0])\n",
    "ax[0].set_title(\"Price when maximum days left from departure\")\n",
    "\n",
    "# Adding values above bars for the first plot\n",
    "for p in ax[0].patches:\n",
    "    ax[0].annotate(f'{p.get_height():.2f}', \n",
    "                   (p.get_x() + p.get_width() / 2., p.get_height()), \n",
    "                   ha='center', va='bottom')\n",
    "\n",
    "# Bar plot for maximum days left\n",
    "sns.barplot(x='days_left', y='price', data=smallest_price_days_left, ax=ax[1])\n",
    "ax[1].set_title(\"Price when minimum days left from departure\")\n",
    "\n",
    "# Adding values above bars for the second plot\n",
    "for p in ax[1].patches:\n",
    "    ax[1].annotate(f'{p.get_height():.2f}', \n",
    "                   (p.get_x() + p.get_width() / 2., p.get_height()), \n",
    "                   ha='center', va='bottom')\n",
    "\n",
    "plt.show()\n"
   ]
  },
  {
   "cell_type": "markdown",
   "id": "8e727d92-9358-42e2-9b6d-029983c4ff14",
   "metadata": {},
   "source": [
    "### Conclusion\n",
    " - Mean Price is Higher when days_Left is low.\n",
    " - Mean price is lower when Days_Left is high."
   ]
  },
  {
   "cell_type": "markdown",
   "id": "4f8dbc70-0a11-4455-9064-b8de605cb08d",
   "metadata": {},
   "source": [
    "## Airline's mean Price when Days_Left is 1"
   ]
  },
  {
   "cell_type": "code",
   "execution_count": 55,
   "id": "3ddc46b9-7de3-4d23-bf33-2d26320c9b89",
   "metadata": {},
   "outputs": [
    {
     "name": "stdout",
     "output_type": "stream",
     "text": [
      "     airline         price\n",
      "0    AirAsia  27922.682353\n",
      "1  Air_India  42828.199640\n",
      "2   GO_FIRST  20143.111111\n",
      "3     Indigo  28889.242925\n",
      "4   SpiceJet  58262.780822\n",
      "5    Vistara  49251.202532\n"
     ]
    }
   ],
   "source": [
    "# Filter data for days_left = 1\n",
    "days_left_1 = data[data['days_left'] == 1]\n",
    "\n",
    "# Group by airline and calculate the mean price\n",
    "mean_price_airlines = days_left_1.groupby('airline')['price'].mean().reset_index()\n",
    "\n",
    "print(mean_price_airlines)"
   ]
  },
  {
   "cell_type": "code",
   "execution_count": 56,
   "id": "c150551b-5f69-42d2-9667-25b4613df641",
   "metadata": {},
   "outputs": [
    {
     "data": {
      "text/plain": [
       "Text(0, 0.5, 'Price')"
      ]
     },
     "execution_count": 56,
     "metadata": {},
     "output_type": "execute_result"
    },
    {
     "data": {
      "image/png": "[encoded data removed]",
      "text/plain": [
       "<Figure size 1000x500 with 1 Axes>"
      ]
     },
     "metadata": {},
     "output_type": "display_data"
    }
   ],
   "source": [
    "fig, ax = plt.subplots(figsize=(10, 5))\n",
    "\n",
    "# Bar plot\n",
    "ax.bar(mean_price_airlines['airline'], mean_price_airlines['price'], color='#DC143C')\n",
    "ax.set_title(\"Mean Price of Airline when days left is 1\")\n",
    "ax.set_xlabel(\"airline\")\n",
    "ax.set_ylabel(\"Price\")"
   ]
  },
  {
   "cell_type": "markdown",
   "id": "acbcd357-3120-4a7c-a025-ca8fbef28766",
   "metadata": {},
   "source": [
    "### Conclusion\n",
    " - Vistara charges highest when Days_Left is 1.\n",
    " - GO_First charge is lowest when Days_Left is 1."
   ]
  },
  {
   "cell_type": "markdown",
   "id": "91dd9caf-216e-4bce-8063-470c47ced757",
   "metadata": {},
   "source": [
    "## Busy Route and Expensive Routes"
   ]
  },
  {
   "cell_type": "code",
   "execution_count": 57,
   "id": "cbb69d74-a945-4816-b1e0-672547c27540",
   "metadata": {},
   "outputs": [
    {
     "name": "stdout",
     "output_type": "stream",
     "text": [
      "     route         price\n",
      "0  Ban-Che  24229.675916\n",
      "7  Che-Kol  23259.496114\n",
      "6  Che-Hyd  23245.052700\n",
      "4  Ban-Mum  23140.285453\n",
      "3  Ban-Kol  23049.955262\n",
      "      route  flight_count\n",
      "11  Del-Mum         30138\n",
      "1   Ban-Del         27733\n",
      "4   Ban-Mum         25703\n",
      "14  Kol-Mum         23818\n",
      "10  Del-Kol         22400\n"
     ]
    }
   ],
   "source": [
    "# Create a new column for merged and sorted routes\n",
    "data['route'] = data.apply(lambda row: '-'.join(sorted([row['source_city'][:3], row['destination_city'][:3]])), axis=1)\n",
    "\n",
    "grouped_routes_count = data.groupby('route').size().reset_index(name='flight_count').nlargest(5 , 'flight_count')\n",
    "\n",
    "grouped_routes_price = data.groupby('route', as_index=False)['price'].mean()\n",
    "\n",
    "top_routes_price = grouped_routes_price.nlargest(5, 'price')\n",
    "\n",
    "least_routes_price = grouped_routes_price.nsmallest(5 , 'price')\n",
    "\n",
    "print(top_routes_price)\n",
    "print(grouped_routes_count)"
   ]
  },
  {
   "cell_type": "code",
   "execution_count": 58,
   "id": "ecb468f2-9fb3-40c4-9063-deefc335cc04",
   "metadata": {},
   "outputs": [
    {
     "data": {
      "image/png": "[encoded data removed]",
      "text/plain": [
       "<Figure size 1400x500 with 2 Axes>"
      ]
     },
     "metadata": {},
     "output_type": "display_data"
    }
   ],
   "source": [
    "import matplotlib.pyplot as plt\n",
    "\n",
    "# Assuming you have your data in grouped_routes_count and top_routes_price\n",
    "fig, ax = plt.subplots(1, 2, figsize=(14, 5))\n",
    "\n",
    "# Bar plot for mean price\n",
    "bars1 = ax[0].bar(least_routes_price['route'], least_routes_price['price'])\n",
    "ax[0].set_title(\"Total Count of Top 5 Least Expensive Routes\")\n",
    "ax[0].set_xlabel(\"Route\")\n",
    "ax[0].set_ylabel(\"Mean Price\")\n",
    "\n",
    "# Adding values above bars\n",
    "for bar in bars1:\n",
    "    yval = bar.get_height()\n",
    "    ax[0].text(bar.get_x() + bar.get_width() / 2, yval, f'{yval:.2f}', ha='center', va='bottom')\n",
    "\n",
    "# # Bar plot for flight count\n",
    "# bars1 = ax[0].bar(grouped_routes_count['route'], grouped_routes_count['flight_count'], color='#DC143C')\n",
    "# ax[0].set_title(\"Total Count of Top 5 Busiest Routes\")\n",
    "# ax[0].set_xlabel(\"Route\")\n",
    "# ax[0].set_ylabel(\"Flight Count\")\n",
    "\n",
    "# # Adding values above bars\n",
    "# for bar in bars1:\n",
    "#     yval = bar.get_height()\n",
    "#     ax[0].text(bar.get_x() + bar.get_width() / 2, yval, int(yval), ha='center', va='bottom')\n",
    "\n",
    "# Bar plot for mean price\n",
    "bars2 = ax[1].bar(top_routes_price['route'], top_routes_price['price'])\n",
    "ax[1].set_title(\"Total Count of Top 5 most Expensive Routes\")\n",
    "ax[1].set_xlabel(\"Route\")\n",
    "ax[1].set_ylabel(\"Mean Price\")\n",
    "\n",
    "# Adding values above bars\n",
    "for bar in bars2:\n",
    "    yval = bar.get_height()\n",
    "    ax[1].text(bar.get_x() + bar.get_width() / 2, yval, f'{yval:.2f}', ha='center', va='bottom')\n",
    "\n",
    "plt.subplots_adjust(wspace=0.50)\n",
    "plt.show()\n"
   ]
  },
  {
   "cell_type": "markdown",
   "id": "6fd2dcde-5d70-4040-957a-e5f4a94a9b65",
   "metadata": {},
   "source": [
    "### Conclusion \n",
    " - Delhi - Hyderabad is the Least Expensive route.\n",
    " - Banglore - Chennai is Most Expensive Route."
   ]
  },
  {
   "cell_type": "code",
   "execution_count": 59,
   "id": "660f6f3f-098b-46d9-9fd3-1a123c48e780",
   "metadata": {},
   "outputs": [
    {
     "data": {
      "image/png": "[encoded data removed]",
      "text/plain": [
       "<Figure size 1400x500 with 1 Axes>"
      ]
     },
     "metadata": {},
     "output_type": "display_data"
    }
   ],
   "source": [
    "fig, ax = plt.subplots(figsize=(14, 5))\n",
    "\n",
    "# Bar plot for flight count\n",
    "bars1 = ax.bar(grouped_routes_count['route'], grouped_routes_count['flight_count'], color='#DC143C')\n",
    "ax.set_title(\"Total Count of Top 5 Busiest Routes\")\n",
    "ax.set_xlabel(\"Route\")\n",
    "ax.set_ylabel(\"Flight Count\")\n",
    "\n",
    "# Adding values above bars\n",
    "for bar in bars1:\n",
    "    yval = bar.get_height()\n",
    "    ax.text(bar.get_x() + bar.get_width() / 2, yval, int(yval), ha='center', va='bottom')\n"
   ]
  },
  {
   "cell_type": "code",
   "execution_count": 60,
   "id": "11a80dab-067d-4058-a4a8-f589c686e53d",
   "metadata": {},
   "outputs": [
    {
     "data": {
      "text/html": [
       "<div>\n",
       "<style scoped>\n",
       "    .dataframe tbody tr th:only-of-type {\n",
       "        vertical-align: middle;\n",
       "    }\n",
       "\n",
       "    .dataframe tbody tr th {\n",
       "        vertical-align: top;\n",
       "    }\n",
       "\n",
       "    .dataframe thead th {\n",
       "        text-align: right;\n",
       "    }\n",
       "</style>\n",
       "<table border=\"1\" class=\"dataframe\">\n",
       "  <thead>\n",
       "    <tr style=\"text-align: right;\">\n",
       "      <th></th>\n",
       "      <th>airline</th>\n",
       "      <th>source_city</th>\n",
       "      <th>departure_time</th>\n",
       "      <th>stops</th>\n",
       "      <th>arrival_time</th>\n",
       "      <th>destination_city</th>\n",
       "      <th>class</th>\n",
       "      <th>duration</th>\n",
       "      <th>days_left</th>\n",
       "      <th>price</th>\n",
       "      <th>route</th>\n",
       "    </tr>\n",
       "  </thead>\n",
       "  <tbody>\n",
       "    <tr>\n",
       "      <th>0</th>\n",
       "      <td>SpiceJet</td>\n",
       "      <td>Delhi</td>\n",
       "      <td>Evening</td>\n",
       "      <td>zero</td>\n",
       "      <td>Night</td>\n",
       "      <td>Mumbai</td>\n",
       "      <td>Economy</td>\n",
       "      <td>2.17</td>\n",
       "      <td>1</td>\n",
       "      <td>5953.0</td>\n",
       "      <td>Del-Mum</td>\n",
       "    </tr>\n",
       "    <tr>\n",
       "      <th>1</th>\n",
       "      <td>SpiceJet</td>\n",
       "      <td>Delhi</td>\n",
       "      <td>Early_Morning</td>\n",
       "      <td>zero</td>\n",
       "      <td>Morning</td>\n",
       "      <td>Mumbai</td>\n",
       "      <td>Economy</td>\n",
       "      <td>2.33</td>\n",
       "      <td>1</td>\n",
       "      <td>5953.0</td>\n",
       "      <td>Del-Mum</td>\n",
       "    </tr>\n",
       "    <tr>\n",
       "      <th>2</th>\n",
       "      <td>AirAsia</td>\n",
       "      <td>Delhi</td>\n",
       "      <td>Early_Morning</td>\n",
       "      <td>zero</td>\n",
       "      <td>Early_Morning</td>\n",
       "      <td>Mumbai</td>\n",
       "      <td>Economy</td>\n",
       "      <td>2.17</td>\n",
       "      <td>1</td>\n",
       "      <td>5956.0</td>\n",
       "      <td>Del-Mum</td>\n",
       "    </tr>\n",
       "    <tr>\n",
       "      <th>3</th>\n",
       "      <td>Vistara</td>\n",
       "      <td>Delhi</td>\n",
       "      <td>Morning</td>\n",
       "      <td>zero</td>\n",
       "      <td>Afternoon</td>\n",
       "      <td>Mumbai</td>\n",
       "      <td>Economy</td>\n",
       "      <td>2.25</td>\n",
       "      <td>1</td>\n",
       "      <td>5955.0</td>\n",
       "      <td>Del-Mum</td>\n",
       "    </tr>\n",
       "    <tr>\n",
       "      <th>4</th>\n",
       "      <td>Vistara</td>\n",
       "      <td>Delhi</td>\n",
       "      <td>Morning</td>\n",
       "      <td>zero</td>\n",
       "      <td>Morning</td>\n",
       "      <td>Mumbai</td>\n",
       "      <td>Economy</td>\n",
       "      <td>2.33</td>\n",
       "      <td>1</td>\n",
       "      <td>5955.0</td>\n",
       "      <td>Del-Mum</td>\n",
       "    </tr>\n",
       "  </tbody>\n",
       "</table>\n",
       "</div>"
      ],
      "text/plain": [
       "    airline source_city departure_time stops   arrival_time destination_city  \\\n",
       "0  SpiceJet       Delhi        Evening  zero          Night           Mumbai   \n",
       "1  SpiceJet       Delhi  Early_Morning  zero        Morning           Mumbai   \n",
       "2   AirAsia       Delhi  Early_Morning  zero  Early_Morning           Mumbai   \n",
       "3   Vistara       Delhi        Morning  zero      Afternoon           Mumbai   \n",
       "4   Vistara       Delhi        Morning  zero        Morning           Mumbai   \n",
       "\n",
       "     class  duration  days_left   price    route  \n",
       "0  Economy      2.17          1  5953.0  Del-Mum  \n",
       "1  Economy      2.33          1  5953.0  Del-Mum  \n",
       "2  Economy      2.17          1  5956.0  Del-Mum  \n",
       "3  Economy      2.25          1  5955.0  Del-Mum  \n",
       "4  Economy      2.33          1  5955.0  Del-Mum  "
      ]
     },
     "execution_count": 60,
     "metadata": {},
     "output_type": "execute_result"
    }
   ],
   "source": [
    "data.head()"
   ]
  },
  {
   "cell_type": "code",
   "execution_count": 61,
   "id": "b961acbc-4c02-48a0-936b-46da0351edcf",
   "metadata": {},
   "outputs": [],
   "source": [
    "data.to_csv(\"Final_Sheet_Flight_Data.csv\")"
   ]
  },
  {
   "cell_type": "code",
   "execution_count": null,
   "id": "225cb11f-8e54-4bd0-9328-b02ac84e585a",
   "metadata": {},
   "outputs": [],
   "source": []
  }
 ],
 "metadata": {
  "kernelspec": {
   "display_name": "Python 3 (ipykernel)",
   "language": "python",
   "name": "python3"
  },
  "language_info": {
   "codemirror_mode": {
    "name": "ipython",
    "version": 3
   },
   "file_extension": ".py",
   "mimetype": "text/x-python",
   "name": "python",
   "nbconvert_exporter": "python",
   "pygments_lexer": "ipython3",
   "version": "3.11.7"
  }
 },
 "nbformat": 4,
 "nbformat_minor": 5
}
