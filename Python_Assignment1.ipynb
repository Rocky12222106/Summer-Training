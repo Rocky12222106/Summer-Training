{
 "cells": [
  {
   "cell_type": "markdown",
   "id": "2fd886b6-cf9e-45d1-8fdf-cd2a47a4d861",
   "metadata": {},
   "source": [
    "### 1.Count the number of perfect square numbers in a given range, range is take as input from user"
   ]
  },
  {
   "cell_type": "code",
   "execution_count": 2,
   "id": "d03befc5-4db3-4882-9949-74b314bfcef1",
   "metadata": {},
   "outputs": [
    {
     "name": "stdin",
     "output_type": "stream",
     "text": [
      "Enter the number:  100\n"
     ]
    },
    {
     "name": "stdout",
     "output_type": "stream",
     "text": [
      "The result is: [1, 4, 9, 16, 25, 36, 49, 64, 81, 100]\n"
     ]
    }
   ],
   "source": [
    "import math\n",
    "def find_ptsq(n):\n",
    "    perfect = []\n",
    "    for i in range(1, int(math.sqrt(n)) + 1):\n",
    "        perfect.append(i * i)\n",
    "    return perfect\n",
    "    \n",
    "num = int(input(\"Enter the number: \"))\n",
    "result = find_ptsq(num)\n",
    "print(\"The result is:\", result)"
   ]
  },
  {
   "cell_type": "markdown",
   "id": "7e987111-eb8f-4536-a97b-dc756e172342",
   "metadata": {},
   "source": [
    "### 2.Write a python program to generate the following pattern"
   ]
  },
  {
   "cell_type": "code",
   "execution_count": 5,
   "id": "f411a429-ecc1-4e9a-9b62-5eb65e3f831b",
   "metadata": {},
   "outputs": [
    {
     "name": "stdin",
     "output_type": "stream",
     "text": [
      "Enter the height:  5\n"
     ]
    },
    {
     "name": "stdout",
     "output_type": "stream",
     "text": [
      "*\n",
      "**\n",
      "***\n",
      "****\n",
      "*****\n",
      "****\n",
      "***\n",
      "**\n",
      "*\n"
     ]
    }
   ],
   "source": [
    "n = int(input(\"Enter the height: \"))\n",
    "def pattern(n):\n",
    "    for i in range(1 , n+1):\n",
    "        print('*'*i)\n",
    "    for i in range(n-1, 0,-1):\n",
    "        print('*'*i)\n",
    "pattern(n)"
   ]
  },
  {
   "cell_type": "markdown",
   "id": "5f64eea0-eecc-42a9-bcb9-f19c6136bbd5",
   "metadata": {},
   "source": [
    "### 3.Take a number as input from user and display whether it is prime or not"
   ]
  },
  {
   "cell_type": "code",
   "execution_count": 10,
   "id": "31b3ae08-0f2d-45cd-a676-8f2e2fe04d28",
   "metadata": {},
   "outputs": [
    {
     "name": "stdin",
     "output_type": "stream",
     "text": [
      "Enter the number:  23\n"
     ]
    },
    {
     "name": "stdout",
     "output_type": "stream",
     "text": [
      "23 is prime Number.\n"
     ]
    }
   ],
   "source": [
    "num = int(input(\"Enter the number: \"))\n",
    "prime = True\n",
    "for i in range(2 , num//2+1):\n",
    "    if num%i == 0:\n",
    "        prime = False\n",
    "        break\n",
    "if prime:\n",
    "    print(num , \"is prime Number.\")\n",
    "else:\n",
    "    print(num , \"is not prime number.\")\n",
    "        "
   ]
  },
  {
   "cell_type": "code",
   "execution_count": null,
   "id": "25508367-3f8d-4a11-b23d-02b9df7a4ab1",
   "metadata": {},
   "outputs": [],
   "source": []
  }
 ],
 "metadata": {
  "kernelspec": {
   "display_name": "Python 3 (ipykernel)",
   "language": "python",
   "name": "python3"
  },
  "language_info": {
   "codemirror_mode": {
    "name": "ipython",
    "version": 3
   },
   "file_extension": ".py",
   "mimetype": "text/x-python",
   "name": "python",
   "nbconvert_exporter": "python",
   "pygments_lexer": "ipython3",
   "version": "3.11.7"
  }
 },
 "nbformat": 4,
 "nbformat_minor": 5
}
