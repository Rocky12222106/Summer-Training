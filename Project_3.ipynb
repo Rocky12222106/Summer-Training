{
 "cells": [
  {
   "cell_type": "markdown",
   "id": "24020baf-8ace-49a0-8525-5379e6ffb4ef",
   "metadata": {},
   "source": [
    "## Data Analysis Project Life Cycle\n",
    "- **Business problem understanding**\n",
    "- **Data Collection**\n",
    "- **Data Pre-Processing**\n",
    "- **Data Analysis**\n",
    "- **Reporting**"
   ]
  },
  {
   "cell_type": "markdown",
   "id": "a36535f1-72d2-4b4f-9bc4-961b0f8b4418",
   "metadata": {},
   "source": [
    "### Business Problem\n",
    "- **Client want us to analyse diwali sales data in order to understand the trends  , insights  , top performing products , categories , zones so then can prepare better to improve sales**"
   ]
  },
  {
   "cell_type": "markdown",
   "id": "498e6fb7-1628-4b39-a518-4334786ce5c6",
   "metadata": {},
   "source": [
    "## Data Collection\n",
    "- **Client has provided data in csv file**\n",
    "- **Link:** https://drive.google.com/file/d/1mGY1doT8RRTgIS0eZsiexHOjUIel9pvo/view?usp=drive_link"
   ]
  },
  {
   "cell_type": "code",
   "execution_count": 1,
   "id": "b4eecf76-230d-43b9-93d0-5f3a073f3c6b",
   "metadata": {},
   "outputs": [],
   "source": [
    "import pandas as pd\n",
    "import numpy as np\n",
    "import matplotlib.pyplot as plt\n",
    "import seaborn as sns"
   ]
  },
  {
   "cell_type": "code",
   "execution_count": 2,
   "id": "afaf2fce-2463-4bee-a00d-ccd97c51fa62",
   "metadata": {},
   "outputs": [],
   "source": [
    "df = pd.read_csv(r\"C:\\Users\\Rocky Yadav\\Downloads\\Diwali_Sales_Data.csv\" , encoding = 'unicode_escape')"
   ]
  },
  {
   "cell_type": "code",
   "execution_count": 3,
   "id": "578722c1-08a6-4bdb-a096-b619e187776b",
   "metadata": {},
   "outputs": [
    {
     "data": {
      "text/html": [
       "<div>\n",
       "<style scoped>\n",
       "    .dataframe tbody tr th:only-of-type {\n",
       "        vertical-align: middle;\n",
       "    }\n",
       "\n",
       "    .dataframe tbody tr th {\n",
       "        vertical-align: top;\n",
       "    }\n",
       "\n",
       "    .dataframe thead th {\n",
       "        text-align: right;\n",
       "    }\n",
       "</style>\n",
       "<table border=\"1\" class=\"dataframe\">\n",
       "  <thead>\n",
       "    <tr style=\"text-align: right;\">\n",
       "      <th></th>\n",
       "      <th>User_ID</th>\n",
       "      <th>Cust_name</th>\n",
       "      <th>Product_ID</th>\n",
       "      <th>Gender</th>\n",
       "      <th>Age Group</th>\n",
       "      <th>Age</th>\n",
       "      <th>Marital_Status</th>\n",
       "      <th>State</th>\n",
       "      <th>Zone</th>\n",
       "      <th>Occupation</th>\n",
       "      <th>Product_Category</th>\n",
       "      <th>Orders</th>\n",
       "      <th>Amount</th>\n",
       "      <th>Status</th>\n",
       "      <th>unnamed1</th>\n",
       "    </tr>\n",
       "  </thead>\n",
       "  <tbody>\n",
       "    <tr>\n",
       "      <th>0</th>\n",
       "      <td>1002903.0</td>\n",
       "      <td>Sanskriti</td>\n",
       "      <td>P00125942</td>\n",
       "      <td>F</td>\n",
       "      <td>26-35</td>\n",
       "      <td>28</td>\n",
       "      <td>0.0</td>\n",
       "      <td>Maharashtra</td>\n",
       "      <td>Western</td>\n",
       "      <td>Healthcare</td>\n",
       "      <td>Auto</td>\n",
       "      <td>1.0</td>\n",
       "      <td>23952</td>\n",
       "      <td>NaN</td>\n",
       "      <td>NaN</td>\n",
       "    </tr>\n",
       "    <tr>\n",
       "      <th>1</th>\n",
       "      <td>1000732.0</td>\n",
       "      <td>Kartik</td>\n",
       "      <td>P00110942</td>\n",
       "      <td>F</td>\n",
       "      <td>26-35</td>\n",
       "      <td>35</td>\n",
       "      <td>1.0</td>\n",
       "      <td>Andhra Pradesh</td>\n",
       "      <td>Southern</td>\n",
       "      <td>Govt</td>\n",
       "      <td>Auto</td>\n",
       "      <td>3.0</td>\n",
       "      <td>23934</td>\n",
       "      <td>NaN</td>\n",
       "      <td>NaN</td>\n",
       "    </tr>\n",
       "    <tr>\n",
       "      <th>2</th>\n",
       "      <td>1001990.0</td>\n",
       "      <td>Bindu</td>\n",
       "      <td>P00118542</td>\n",
       "      <td>F</td>\n",
       "      <td>26-35</td>\n",
       "      <td>35</td>\n",
       "      <td>1.0</td>\n",
       "      <td>Uttar Pradesh</td>\n",
       "      <td>Central</td>\n",
       "      <td>Automobile</td>\n",
       "      <td>Auto</td>\n",
       "      <td>3.0</td>\n",
       "      <td>23924</td>\n",
       "      <td>NaN</td>\n",
       "      <td>NaN</td>\n",
       "    </tr>\n",
       "    <tr>\n",
       "      <th>3</th>\n",
       "      <td>1001425.0</td>\n",
       "      <td>Sudevi</td>\n",
       "      <td>P00237842</td>\n",
       "      <td>M</td>\n",
       "      <td>0-17</td>\n",
       "      <td>16</td>\n",
       "      <td>0.0</td>\n",
       "      <td>Karnataka</td>\n",
       "      <td>Southern</td>\n",
       "      <td>Construction</td>\n",
       "      <td>Auto</td>\n",
       "      <td>2.0</td>\n",
       "      <td>23912</td>\n",
       "      <td>NaN</td>\n",
       "      <td>NaN</td>\n",
       "    </tr>\n",
       "    <tr>\n",
       "      <th>4</th>\n",
       "      <td>1000588.0</td>\n",
       "      <td>Joni</td>\n",
       "      <td>P00057942</td>\n",
       "      <td>M</td>\n",
       "      <td>26-35</td>\n",
       "      <td>28</td>\n",
       "      <td>1.0</td>\n",
       "      <td>Gujarat</td>\n",
       "      <td>Western</td>\n",
       "      <td>Food Processing</td>\n",
       "      <td>Auto</td>\n",
       "      <td>2.0</td>\n",
       "      <td>23877</td>\n",
       "      <td>NaN</td>\n",
       "      <td>NaN</td>\n",
       "    </tr>\n",
       "  </tbody>\n",
       "</table>\n",
       "</div>"
      ],
      "text/plain": [
       "     User_ID  Cust_name Product_ID Gender Age Group Age  Marital_Status  \\\n",
       "0  1002903.0  Sanskriti  P00125942      F     26-35  28             0.0   \n",
       "1  1000732.0     Kartik  P00110942      F     26-35  35             1.0   \n",
       "2  1001990.0      Bindu  P00118542      F     26-35  35             1.0   \n",
       "3  1001425.0     Sudevi  P00237842      M      0-17  16             0.0   \n",
       "4  1000588.0       Joni  P00057942      M     26-35  28             1.0   \n",
       "\n",
       "            State      Zone       Occupation Product_Category  Orders Amount  \\\n",
       "0     Maharashtra   Western       Healthcare             Auto     1.0  23952   \n",
       "1  Andhra Pradesh  Southern             Govt             Auto     3.0  23934   \n",
       "2   Uttar Pradesh   Central       Automobile             Auto     3.0  23924   \n",
       "3       Karnataka  Southern     Construction             Auto     2.0  23912   \n",
       "4         Gujarat   Western  Food Processing             Auto     2.0  23877   \n",
       "\n",
       "   Status  unnamed1  \n",
       "0     NaN       NaN  \n",
       "1     NaN       NaN  \n",
       "2     NaN       NaN  \n",
       "3     NaN       NaN  \n",
       "4     NaN       NaN  "
      ]
     },
     "execution_count": 3,
     "metadata": {},
     "output_type": "execute_result"
    }
   ],
   "source": [
    "df.head()"
   ]
  },
  {
   "cell_type": "code",
   "execution_count": 4,
   "id": "1da5d035-955f-4533-b927-c6603f9c69ed",
   "metadata": {},
   "outputs": [],
   "source": [
    "# Creating a copy of the data\n",
    "data = df.copy()"
   ]
  },
  {
   "cell_type": "markdown",
   "id": "c665bea6-7cc5-4c83-8f7a-7f1c21ddb9fa",
   "metadata": {},
   "source": [
    "### Data PreProcessing\n",
    "- **Data Profiling**\n",
    "- **Data Cleaning**\n",
    "- **Data Consistency**\n",
    "- **Data Formatting**\n",
    "- **Outlier Detection and Removal**"
   ]
  },
  {
   "cell_type": "code",
   "execution_count": 5,
   "id": "d732d93c-0866-4024-9287-2d5a983af7a3",
   "metadata": {},
   "outputs": [
    {
     "data": {
      "text/plain": [
       "(11345, 15)"
      ]
     },
     "execution_count": 5,
     "metadata": {},
     "output_type": "execute_result"
    }
   ],
   "source": [
    "data.shape"
   ]
  },
  {
   "cell_type": "code",
   "execution_count": 6,
   "id": "7617b01d-240f-45c5-8fde-b1fa46c672bf",
   "metadata": {},
   "outputs": [
    {
     "name": "stdout",
     "output_type": "stream",
     "text": [
      "<class 'pandas.core.frame.DataFrame'>\n",
      "RangeIndex: 11345 entries, 0 to 11344\n",
      "Data columns (total 15 columns):\n",
      " #   Column            Non-Null Count  Dtype  \n",
      "---  ------            --------------  -----  \n",
      " 0   User_ID           11321 non-null  float64\n",
      " 1   Cust_name         11344 non-null  object \n",
      " 2   Product_ID        11341 non-null  object \n",
      " 3   Gender            11341 non-null  object \n",
      " 4   Age Group         11339 non-null  object \n",
      " 5   Age               11334 non-null  object \n",
      " 6   Marital_Status    11339 non-null  float64\n",
      " 7   State             11332 non-null  object \n",
      " 8   Zone              11334 non-null  object \n",
      " 9   Occupation        11339 non-null  object \n",
      " 10  Product_Category  11334 non-null  object \n",
      " 11  Orders            11342 non-null  float64\n",
      " 12  Amount            11331 non-null  object \n",
      " 13  Status            0 non-null      float64\n",
      " 14  unnamed1          0 non-null      float64\n",
      "dtypes: float64(5), object(10)\n",
      "memory usage: 1.3+ MB\n"
     ]
    }
   ],
   "source": [
    "data.info()"
   ]
  },
  {
   "cell_type": "code",
   "execution_count": 7,
   "id": "8994c897-5ff4-4579-9eba-18eb95777437",
   "metadata": {},
   "outputs": [
    {
     "data": {
      "text/plain": [
       "User_ID                24\n",
       "Cust_name               1\n",
       "Product_ID              4\n",
       "Gender                  4\n",
       "Age Group               6\n",
       "Age                    11\n",
       "Marital_Status          6\n",
       "State                  13\n",
       "Zone                   11\n",
       "Occupation              6\n",
       "Product_Category       11\n",
       "Orders                  3\n",
       "Amount                 14\n",
       "Status              11345\n",
       "unnamed1            11345\n",
       "dtype: int64"
      ]
     },
     "execution_count": 7,
     "metadata": {},
     "output_type": "execute_result"
    }
   ],
   "source": [
    "data.isna().sum()"
   ]
  },
  {
   "cell_type": "code",
   "execution_count": 8,
   "id": "4f34cd5d-b87c-4cf9-a831-40e27eb78cc1",
   "metadata": {},
   "outputs": [
    {
     "data": {
      "text/plain": [
       "Index(['User_ID', 'Cust_name', 'Product_ID', 'Gender', 'Age Group', 'Age',\n",
       "       'Marital_Status', 'State', 'Zone', 'Occupation', 'Product_Category',\n",
       "       'Orders', 'Amount', 'Status', 'unnamed1'],\n",
       "      dtype='object')"
      ]
     },
     "execution_count": 8,
     "metadata": {},
     "output_type": "execute_result"
    }
   ],
   "source": [
    "# All Columns\n",
    "all_columns = data.columns\n",
    "all_columns"
   ]
  },
  {
   "cell_type": "code",
   "execution_count": 9,
   "id": "c7ca5147-1d17-48bc-9cc8-fd7959ecdf01",
   "metadata": {},
   "outputs": [
    {
     "data": {
      "text/plain": [
       "Index(['User_ID', 'Marital_Status', 'Orders', 'Status', 'unnamed1'], dtype='object')"
      ]
     },
     "execution_count": 9,
     "metadata": {},
     "output_type": "execute_result"
    }
   ],
   "source": [
    "# Numeric columns\n",
    "num_columns = data.select_dtypes(include = np.number).columns\n",
    "num_columns"
   ]
  },
  {
   "cell_type": "code",
   "execution_count": 10,
   "id": "299b4193-420b-4338-8830-0e2536f2fab8",
   "metadata": {},
   "outputs": [
    {
     "data": {
      "text/plain": [
       "Index(['Cust_name', 'Product_ID', 'Gender', 'Age Group', 'Age', 'State',\n",
       "       'Zone', 'Occupation', 'Product_Category', 'Amount'],\n",
       "      dtype='object')"
      ]
     },
     "execution_count": 10,
     "metadata": {},
     "output_type": "execute_result"
    }
   ],
   "source": [
    "#Non Numeric columns\n",
    "non_num_columns = data.select_dtypes(include = object).columns\n",
    "non_num_columns"
   ]
  },
  {
   "cell_type": "code",
   "execution_count": 11,
   "id": "7a80b272-5c5c-4530-a840-10eba65b4b05",
   "metadata": {},
   "outputs": [
    {
     "data": {
      "text/plain": [
       "0        False\n",
       "1        False\n",
       "2        False\n",
       "3        False\n",
       "4        False\n",
       "         ...  \n",
       "11340    False\n",
       "11341    False\n",
       "11342    False\n",
       "11343     True\n",
       "11344    False\n",
       "Length: 11345, dtype: bool"
      ]
     },
     "execution_count": 11,
     "metadata": {},
     "output_type": "execute_result"
    }
   ],
   "source": [
    "#Duplicate Values\n",
    "data.duplicated()"
   ]
  },
  {
   "cell_type": "code",
   "execution_count": 12,
   "id": "b5a53f0f-7098-4e87-a5e7-76ed9562d84d",
   "metadata": {},
   "outputs": [
    {
     "data": {
      "text/html": [
       "<div>\n",
       "<style scoped>\n",
       "    .dataframe tbody tr th:only-of-type {\n",
       "        vertical-align: middle;\n",
       "    }\n",
       "\n",
       "    .dataframe tbody tr th {\n",
       "        vertical-align: top;\n",
       "    }\n",
       "\n",
       "    .dataframe thead th {\n",
       "        text-align: right;\n",
       "    }\n",
       "</style>\n",
       "<table border=\"1\" class=\"dataframe\">\n",
       "  <thead>\n",
       "    <tr style=\"text-align: right;\">\n",
       "      <th></th>\n",
       "      <th>User_ID</th>\n",
       "      <th>Cust_name</th>\n",
       "      <th>Product_ID</th>\n",
       "      <th>Gender</th>\n",
       "      <th>Age Group</th>\n",
       "      <th>Age</th>\n",
       "      <th>Marital_Status</th>\n",
       "      <th>State</th>\n",
       "      <th>Zone</th>\n",
       "      <th>Occupation</th>\n",
       "      <th>Product_Category</th>\n",
       "      <th>Orders</th>\n",
       "      <th>Amount</th>\n",
       "      <th>Status</th>\n",
       "      <th>unnamed1</th>\n",
       "    </tr>\n",
       "  </thead>\n",
       "  <tbody>\n",
       "  </tbody>\n",
       "</table>\n",
       "</div>"
      ],
      "text/plain": [
       "Empty DataFrame\n",
       "Columns: [User_ID, Cust_name, Product_ID, Gender, Age Group, Age, Marital_Status, State, Zone, Occupation, Product_Category, Orders, Amount, Status, unnamed1]\n",
       "Index: []"
      ]
     },
     "execution_count": 12,
     "metadata": {},
     "output_type": "execute_result"
    }
   ],
   "source": [
    "# Filtering\n",
    "data = data[~data.duplicated()]\n",
    "data[data.duplicated()]"
   ]
  },
  {
   "cell_type": "code",
   "execution_count": 13,
   "id": "0459687a-5ce1-4bbe-8751-2c177079a85a",
   "metadata": {},
   "outputs": [
    {
     "data": {
      "text/plain": [
       "6"
      ]
     },
     "execution_count": 13,
     "metadata": {},
     "output_type": "execute_result"
    }
   ],
   "source": [
    "data[\"Occupation\"].isna().sum()"
   ]
  },
  {
   "cell_type": "markdown",
   "id": "3d65ca74-9f42-4a93-a1d0-28f5e0e9a961",
   "metadata": {},
   "source": [
    "### Data Profilling\n",
    "1.**Amount**\n",
    "   - Need to change the data type from object to integer\n",
    "   - The rows corresponding null values should be dropped\n",
    "   - Need to drop the rows corresponding to inconsistent values\n",
    "\n",
    "2.**Satatus & nunamed**\n",
    "   - No data should be droped\n",
    "\n",
    "3.**Orders**\n",
    "   - Null Values has to be dropped\n",
    "   - There are outlier which should be removed\n",
    "\n",
    "4.**State**\n",
    "   - 'Andhra\\xa0Pradesh' & 'Nndhra\\xa0Pradesh' should be replaced with AndraPradesh\n",
    "   - Drop the rows corresponding to null values\n",
    "\n",
    "5.**Zone**\n",
    "   - Drop the rows corresponding to null values\n",
    "   - 'Zentral' should with 'Central'\n",
    "\n",
    "6.**Product_ID**\n",
    "   - Drop the rows corresponding to null values\n",
    "\n",
    "7.**Marital_Status**\n",
    "   - Null values can be replaced with mode\n",
    "   - Will create a new column where 1 can be replaced with 'married' and 0 can be replaced with 'unmarried'\n",
    "\n",
    "8.**Age**\n",
    "   -  'Age' can be replaced with mode\n",
    "   -  Null values can be replaced with mode\n",
    "   -  Data type can be changed to numberic\n",
    "\n",
    "9.**Age Group**\n",
    "   - 'low-high' can be replaced with mode\n",
    "   -  Null values can be replaced with mode\n",
    "\n",
    "10.**Product_Category**\n",
    "   - Null Value can be dropped\n",
    "\n",
    "11.**Occupation & Gender**\n",
    "   - Null values can be replaced with mode"
   ]
  },
  {
   "cell_type": "markdown",
   "id": "9302c1f0-33b7-44f1-838f-8d13d8e34bb1",
   "metadata": {},
   "source": [
    "### Data Cleaning"
   ]
  },
  {
   "cell_type": "code",
   "execution_count": 14,
   "id": "2d1e586a-3ccf-408f-a819-d73077600800",
   "metadata": {},
   "outputs": [],
   "source": [
    "# Droping columns\n",
    "data.drop(['Status'  ,'unnamed1'],axis = 1 , inplace = True)"
   ]
  },
  {
   "cell_type": "code",
   "execution_count": 15,
   "id": "ca300c4e-65d9-4fc3-ad22-339591edd5d8",
   "metadata": {},
   "outputs": [
    {
     "data": {
      "text/html": [
       "<div>\n",
       "<style scoped>\n",
       "    .dataframe tbody tr th:only-of-type {\n",
       "        vertical-align: middle;\n",
       "    }\n",
       "\n",
       "    .dataframe tbody tr th {\n",
       "        vertical-align: top;\n",
       "    }\n",
       "\n",
       "    .dataframe thead th {\n",
       "        text-align: right;\n",
       "    }\n",
       "</style>\n",
       "<table border=\"1\" class=\"dataframe\">\n",
       "  <thead>\n",
       "    <tr style=\"text-align: right;\">\n",
       "      <th></th>\n",
       "      <th>User_ID</th>\n",
       "      <th>Cust_name</th>\n",
       "      <th>Product_ID</th>\n",
       "      <th>Gender</th>\n",
       "      <th>Age Group</th>\n",
       "      <th>Age</th>\n",
       "      <th>Marital_Status</th>\n",
       "      <th>State</th>\n",
       "      <th>Zone</th>\n",
       "      <th>Occupation</th>\n",
       "      <th>Product_Category</th>\n",
       "      <th>Orders</th>\n",
       "      <th>Amount</th>\n",
       "    </tr>\n",
       "  </thead>\n",
       "  <tbody>\n",
       "    <tr>\n",
       "      <th>0</th>\n",
       "      <td>1002903.0</td>\n",
       "      <td>Sanskriti</td>\n",
       "      <td>P00125942</td>\n",
       "      <td>F</td>\n",
       "      <td>26-35</td>\n",
       "      <td>28</td>\n",
       "      <td>0.0</td>\n",
       "      <td>Maharashtra</td>\n",
       "      <td>Western</td>\n",
       "      <td>Healthcare</td>\n",
       "      <td>Auto</td>\n",
       "      <td>1.0</td>\n",
       "      <td>23952</td>\n",
       "    </tr>\n",
       "    <tr>\n",
       "      <th>1</th>\n",
       "      <td>1000732.0</td>\n",
       "      <td>Kartik</td>\n",
       "      <td>P00110942</td>\n",
       "      <td>F</td>\n",
       "      <td>26-35</td>\n",
       "      <td>35</td>\n",
       "      <td>1.0</td>\n",
       "      <td>Andhra Pradesh</td>\n",
       "      <td>Southern</td>\n",
       "      <td>Govt</td>\n",
       "      <td>Auto</td>\n",
       "      <td>3.0</td>\n",
       "      <td>23934</td>\n",
       "    </tr>\n",
       "  </tbody>\n",
       "</table>\n",
       "</div>"
      ],
      "text/plain": [
       "     User_ID  Cust_name Product_ID Gender Age Group Age  Marital_Status  \\\n",
       "0  1002903.0  Sanskriti  P00125942      F     26-35  28             0.0   \n",
       "1  1000732.0     Kartik  P00110942      F     26-35  35             1.0   \n",
       "\n",
       "            State      Zone  Occupation Product_Category  Orders Amount  \n",
       "0     Maharashtra   Western  Healthcare             Auto     1.0  23952  \n",
       "1  Andhra Pradesh  Southern        Govt             Auto     3.0  23934  "
      ]
     },
     "execution_count": 15,
     "metadata": {},
     "output_type": "execute_result"
    }
   ],
   "source": [
    "data.head(2)"
   ]
  },
  {
   "cell_type": "markdown",
   "id": "60cb933f-622c-4a5e-aaca-e0a3a6d5effb",
   "metadata": {},
   "source": [
    "### Amount"
   ]
  },
  {
   "cell_type": "code",
   "execution_count": 16,
   "id": "085e8f54-73e8-44fe-8983-5778b526176d",
   "metadata": {},
   "outputs": [],
   "source": [
    "# Changing data type\n",
    "data[\"Amount\"] = pd.to_numeric(df['Amount'] , errors = 'coerce') # coerce will convert unsupported values to null values"
   ]
  },
  {
   "cell_type": "code",
   "execution_count": 17,
   "id": "d63fb40a-17c3-41d7-9a52-4b1f5dd30ef2",
   "metadata": {},
   "outputs": [
    {
     "data": {
      "text/plain": [
       "17"
      ]
     },
     "execution_count": 17,
     "metadata": {},
     "output_type": "execute_result"
    }
   ],
   "source": [
    "data[\"Amount\"].isna().sum()"
   ]
  },
  {
   "cell_type": "code",
   "execution_count": 18,
   "id": "a44f4b19-b3a8-4eac-ae6e-68b9caa87b11",
   "metadata": {},
   "outputs": [],
   "source": [
    "# Droping the rows corresponding to null values in the columns : [ 'Amount' , 'Order' , 'State' , 'Zone' , 'Product_ID' , 'Product_Category']\n",
    "data.dropna(subset = ['Amount' , 'Orders' , 'State' , 'Zone' , 'Product_ID' , 'Product_Category'] , inplace = True)"
   ]
  },
  {
   "cell_type": "markdown",
   "id": "be04304a-618a-47fb-bba8-c4896bc100ab",
   "metadata": {},
   "source": [
    "### State & Zone"
   ]
  },
  {
   "cell_type": "code",
   "execution_count": 19,
   "id": "fb9042c0-0cd6-4457-9ac9-9e903fbc334e",
   "metadata": {},
   "outputs": [],
   "source": [
    "# Replacing the Typo\n",
    "data[\"State\"] = data[\"State\"].str.replace('Andhra\\xa0Pradesh', 'Andhra Pradesh')\n",
    "data[\"State\"] = data[\"State\"].str.replace('Nndhra\\xa0Pradesh', 'Andhra Pradesh')"
   ]
  },
  {
   "cell_type": "code",
   "execution_count": 20,
   "id": "e10aa8d2-b2af-41a3-b2e0-2c9f8b52127b",
   "metadata": {},
   "outputs": [
    {
     "data": {
      "text/plain": [
       "array(['Maharashtra', 'Andhra Pradesh', 'Uttar Pradesh', 'Karnataka',\n",
       "       'Gujarat', 'Himachal Pradesh', 'Delhi', 'Jharkhand', 'Kerala',\n",
       "       'Madhya Pradesh', 'Bihar', 'Rajasthan', 'Haryana', 'Uttarakhand',\n",
       "       'Telangana', 'Punjab'], dtype=object)"
      ]
     },
     "execution_count": 20,
     "metadata": {},
     "output_type": "execute_result"
    }
   ],
   "source": [
    "data[\"State\"].unique()"
   ]
  },
  {
   "cell_type": "code",
   "execution_count": 21,
   "id": "f1935a5e-6c15-490f-aa26-bcfa89829126",
   "metadata": {},
   "outputs": [
    {
     "data": {
      "text/plain": [
       "array(['Western', 'Southern', 'Central', 'Northern', 'Zentral', 'Eastern'],\n",
       "      dtype=object)"
      ]
     },
     "execution_count": 21,
     "metadata": {},
     "output_type": "execute_result"
    }
   ],
   "source": [
    "data[\"Zone\"].unique()"
   ]
  },
  {
   "cell_type": "code",
   "execution_count": 22,
   "id": "3a9d121c-bfdc-4f26-b935-6aa7aa2343db",
   "metadata": {},
   "outputs": [],
   "source": [
    "data[\"Zone\"] = data[\"Zone\"].str.replace('Zentral', 'Central')"
   ]
  },
  {
   "cell_type": "code",
   "execution_count": 23,
   "id": "7c907713-8eb0-4422-983b-e4bd39c64cd8",
   "metadata": {},
   "outputs": [
    {
     "data": {
      "text/plain": [
       "array(['Western', 'Southern', 'Central', 'Northern', 'Eastern'],\n",
       "      dtype=object)"
      ]
     },
     "execution_count": 23,
     "metadata": {},
     "output_type": "execute_result"
    }
   ],
   "source": [
    "data[\"Zone\"].unique()"
   ]
  },
  {
   "cell_type": "markdown",
   "id": "069a0a8b-e0d2-4770-8495-7e75b3f4fc18",
   "metadata": {},
   "source": [
    "#### Product_ID\n",
    "**Already cleaned**"
   ]
  },
  {
   "cell_type": "markdown",
   "id": "439cf9e1-bbd7-4125-8322-2f10d981d115",
   "metadata": {},
   "source": [
    "#### Marital_Status"
   ]
  },
  {
   "cell_type": "code",
   "execution_count": 24,
   "id": "aa93ec8a-0eca-43c2-8af4-26bc26a182cb",
   "metadata": {},
   "outputs": [
    {
     "data": {
      "text/plain": [
       "0.0"
      ]
     },
     "execution_count": 24,
     "metadata": {},
     "output_type": "execute_result"
    }
   ],
   "source": [
    "# Replacing the null values with null values\n",
    "marital_status_mode = data[\"Marital_Status\"].mode()[0]\n",
    "marital_status_mode"
   ]
  },
  {
   "cell_type": "code",
   "execution_count": 25,
   "id": "2ac6eeef-b20e-4165-98bc-85e0cf8d15c6",
   "metadata": {},
   "outputs": [],
   "source": [
    "data[\"Marital_Status\"] = data[\"Marital_Status\"].fillna(marital_status_mode)"
   ]
  },
  {
   "cell_type": "code",
   "execution_count": 26,
   "id": "36dbc63b-e286-4f62-8053-ed61d0b1710d",
   "metadata": {},
   "outputs": [
    {
     "data": {
      "text/plain": [
       "0"
      ]
     },
     "execution_count": 26,
     "metadata": {},
     "output_type": "execute_result"
    }
   ],
   "source": [
    "data[\"Marital_Status\"].isna().sum()"
   ]
  },
  {
   "cell_type": "code",
   "execution_count": 27,
   "id": "83a65421-4496-4be9-8bdd-54c4bdd4540e",
   "metadata": {},
   "outputs": [],
   "source": [
    "# Creating a new column married_status\n",
    "data[\"married_status\"] = data[\"Marital_Status\"].apply(lambda x: 'Married' if x == 1.0 else 'Unmarried')"
   ]
  },
  {
   "cell_type": "code",
   "execution_count": 28,
   "id": "fab346c9-e7f6-4089-b0a7-1f538217bcc5",
   "metadata": {},
   "outputs": [
    {
     "data": {
      "text/html": [
       "<div>\n",
       "<style scoped>\n",
       "    .dataframe tbody tr th:only-of-type {\n",
       "        vertical-align: middle;\n",
       "    }\n",
       "\n",
       "    .dataframe tbody tr th {\n",
       "        vertical-align: top;\n",
       "    }\n",
       "\n",
       "    .dataframe thead th {\n",
       "        text-align: right;\n",
       "    }\n",
       "</style>\n",
       "<table border=\"1\" class=\"dataframe\">\n",
       "  <thead>\n",
       "    <tr style=\"text-align: right;\">\n",
       "      <th></th>\n",
       "      <th>User_ID</th>\n",
       "      <th>Cust_name</th>\n",
       "      <th>Product_ID</th>\n",
       "      <th>Gender</th>\n",
       "      <th>Age Group</th>\n",
       "      <th>Age</th>\n",
       "      <th>Marital_Status</th>\n",
       "      <th>State</th>\n",
       "      <th>Zone</th>\n",
       "      <th>Occupation</th>\n",
       "      <th>Product_Category</th>\n",
       "      <th>Orders</th>\n",
       "      <th>Amount</th>\n",
       "      <th>married_status</th>\n",
       "    </tr>\n",
       "  </thead>\n",
       "  <tbody>\n",
       "    <tr>\n",
       "      <th>0</th>\n",
       "      <td>1002903.0</td>\n",
       "      <td>Sanskriti</td>\n",
       "      <td>P00125942</td>\n",
       "      <td>F</td>\n",
       "      <td>26-35</td>\n",
       "      <td>28</td>\n",
       "      <td>0.0</td>\n",
       "      <td>Maharashtra</td>\n",
       "      <td>Western</td>\n",
       "      <td>Healthcare</td>\n",
       "      <td>Auto</td>\n",
       "      <td>1.0</td>\n",
       "      <td>23952.0</td>\n",
       "      <td>Unmarried</td>\n",
       "    </tr>\n",
       "    <tr>\n",
       "      <th>1</th>\n",
       "      <td>1000732.0</td>\n",
       "      <td>Kartik</td>\n",
       "      <td>P00110942</td>\n",
       "      <td>F</td>\n",
       "      <td>26-35</td>\n",
       "      <td>35</td>\n",
       "      <td>1.0</td>\n",
       "      <td>Andhra Pradesh</td>\n",
       "      <td>Southern</td>\n",
       "      <td>Govt</td>\n",
       "      <td>Auto</td>\n",
       "      <td>3.0</td>\n",
       "      <td>23934.0</td>\n",
       "      <td>Married</td>\n",
       "    </tr>\n",
       "    <tr>\n",
       "      <th>2</th>\n",
       "      <td>1001990.0</td>\n",
       "      <td>Bindu</td>\n",
       "      <td>P00118542</td>\n",
       "      <td>F</td>\n",
       "      <td>26-35</td>\n",
       "      <td>35</td>\n",
       "      <td>1.0</td>\n",
       "      <td>Uttar Pradesh</td>\n",
       "      <td>Central</td>\n",
       "      <td>Automobile</td>\n",
       "      <td>Auto</td>\n",
       "      <td>3.0</td>\n",
       "      <td>23924.0</td>\n",
       "      <td>Married</td>\n",
       "    </tr>\n",
       "    <tr>\n",
       "      <th>3</th>\n",
       "      <td>1001425.0</td>\n",
       "      <td>Sudevi</td>\n",
       "      <td>P00237842</td>\n",
       "      <td>M</td>\n",
       "      <td>0-17</td>\n",
       "      <td>16</td>\n",
       "      <td>0.0</td>\n",
       "      <td>Karnataka</td>\n",
       "      <td>Southern</td>\n",
       "      <td>Construction</td>\n",
       "      <td>Auto</td>\n",
       "      <td>2.0</td>\n",
       "      <td>23912.0</td>\n",
       "      <td>Unmarried</td>\n",
       "    </tr>\n",
       "    <tr>\n",
       "      <th>4</th>\n",
       "      <td>1000588.0</td>\n",
       "      <td>Joni</td>\n",
       "      <td>P00057942</td>\n",
       "      <td>M</td>\n",
       "      <td>26-35</td>\n",
       "      <td>28</td>\n",
       "      <td>1.0</td>\n",
       "      <td>Gujarat</td>\n",
       "      <td>Western</td>\n",
       "      <td>Food Processing</td>\n",
       "      <td>Auto</td>\n",
       "      <td>2.0</td>\n",
       "      <td>23877.0</td>\n",
       "      <td>Married</td>\n",
       "    </tr>\n",
       "  </tbody>\n",
       "</table>\n",
       "</div>"
      ],
      "text/plain": [
       "     User_ID  Cust_name Product_ID Gender Age Group Age  Marital_Status  \\\n",
       "0  1002903.0  Sanskriti  P00125942      F     26-35  28             0.0   \n",
       "1  1000732.0     Kartik  P00110942      F     26-35  35             1.0   \n",
       "2  1001990.0      Bindu  P00118542      F     26-35  35             1.0   \n",
       "3  1001425.0     Sudevi  P00237842      M      0-17  16             0.0   \n",
       "4  1000588.0       Joni  P00057942      M     26-35  28             1.0   \n",
       "\n",
       "            State      Zone       Occupation Product_Category  Orders  \\\n",
       "0     Maharashtra   Western       Healthcare             Auto     1.0   \n",
       "1  Andhra Pradesh  Southern             Govt             Auto     3.0   \n",
       "2   Uttar Pradesh   Central       Automobile             Auto     3.0   \n",
       "3       Karnataka  Southern     Construction             Auto     2.0   \n",
       "4         Gujarat   Western  Food Processing             Auto     2.0   \n",
       "\n",
       "    Amount married_status  \n",
       "0  23952.0      Unmarried  \n",
       "1  23934.0        Married  \n",
       "2  23924.0        Married  \n",
       "3  23912.0      Unmarried  \n",
       "4  23877.0        Married  "
      ]
     },
     "execution_count": 28,
     "metadata": {},
     "output_type": "execute_result"
    }
   ],
   "source": [
    "data.head()"
   ]
  },
  {
   "cell_type": "markdown",
   "id": "29976973-42d9-44d5-aa9f-7cb42893699c",
   "metadata": {},
   "source": [
    "#### Age"
   ]
  },
  {
   "cell_type": "code",
   "execution_count": 29,
   "id": "04ae7eca-5773-45b7-999f-814a3f0512dc",
   "metadata": {},
   "outputs": [],
   "source": [
    "# Changing data type from object to numeric\n",
    "data[\"Age\"] = pd.to_numeric(df['Age'] , errors = 'coerce')"
   ]
  },
  {
   "cell_type": "code",
   "execution_count": 30,
   "id": "2d1cd5d4-1b18-4eab-b2eb-f02ed1bc8e9e",
   "metadata": {},
   "outputs": [
    {
     "data": {
      "text/plain": [
       "11"
      ]
     },
     "execution_count": 30,
     "metadata": {},
     "output_type": "execute_result"
    }
   ],
   "source": [
    "data[\"Age\"].isna().sum()"
   ]
  },
  {
   "cell_type": "code",
   "execution_count": 31,
   "id": "0410d381-39f7-4868-a46a-9e4048d63f84",
   "metadata": {},
   "outputs": [
    {
     "data": {
      "text/plain": [
       "30.0"
      ]
     },
     "execution_count": 31,
     "metadata": {},
     "output_type": "execute_result"
    }
   ],
   "source": [
    "# Replace the null values with mode\n",
    "age_mode = data[\"Age\"].mode()[0]\n",
    "age_mode"
   ]
  },
  {
   "cell_type": "code",
   "execution_count": 32,
   "id": "1c15a027-af61-4324-81e5-037c88a90d3f",
   "metadata": {},
   "outputs": [],
   "source": [
    "data[\"Age\"] = data[\"Age\"].fillna(age_mode)"
   ]
  },
  {
   "cell_type": "code",
   "execution_count": 33,
   "id": "570b4331-957e-4ad9-bbf2-02fa02e9dac8",
   "metadata": {},
   "outputs": [
    {
     "data": {
      "text/plain": [
       "0"
      ]
     },
     "execution_count": 33,
     "metadata": {},
     "output_type": "execute_result"
    }
   ],
   "source": [
    "data[\"Age\"].isna().sum()"
   ]
  },
  {
   "cell_type": "code",
   "execution_count": 34,
   "id": "8aa01f87-592c-4081-9108-8eca1388e7c9",
   "metadata": {},
   "outputs": [
    {
     "data": {
      "text/plain": [
       "array([28., 35., 16., 25., 30., 29., 54., 19., 46., 53., 83., 33., 40.,\n",
       "       39., 20., 32., 36., 55., 27., 72., 45., 21., 38., 37., 23., 34.,\n",
       "       49., 42., 24., 52., 50., 48., 31., 44., 43., 26., 47., 41., 66.,\n",
       "       22., 15., 51., 77., 87., 79., 71., 88., 58., 82., 62., 92., 12.,\n",
       "       63., 17., 18., 13., 67., 90., 56., 75., 81., 64., 73., 84., 14.,\n",
       "       76., 86., 89., 68., 61., 91., 85., 70., 80., 65., 74., 69., 78.,\n",
       "       57., 60., 59.])"
      ]
     },
     "execution_count": 34,
     "metadata": {},
     "output_type": "execute_result"
    }
   ],
   "source": [
    "data[\"Age\"].unique()"
   ]
  },
  {
   "cell_type": "markdown",
   "id": "0a7f3a15-7677-4058-a25a-16f0aa95e7f4",
   "metadata": {},
   "source": [
    "#### Age Group"
   ]
  },
  {
   "cell_type": "code",
   "execution_count": 35,
   "id": "bd3e1819-0d1d-4cfa-a327-38c8c3030e07",
   "metadata": {},
   "outputs": [
    {
     "data": {
      "text/plain": [
       "'26-35'"
      ]
     },
     "execution_count": 35,
     "metadata": {},
     "output_type": "execute_result"
    }
   ],
   "source": [
    "# Replacing the null values and typo with mode\n",
    "age_group_mode = data[\"Age Group\"].mode()[0]\n",
    "age_group_mode"
   ]
  },
  {
   "cell_type": "code",
   "execution_count": 36,
   "id": "6cc314d4-faa7-4d51-b7e1-47486bf32895",
   "metadata": {},
   "outputs": [],
   "source": [
    "data[\"Age Group\"] = data[\"Age Group\"].str.replace('low-high' , age_group_mode)\n",
    "data[\"Age Group\"] = data[\"Age Group\"].fillna(age_group_mode)"
   ]
  },
  {
   "cell_type": "code",
   "execution_count": 37,
   "id": "5ea14027-535d-4029-84a2-5b2fea5f0aea",
   "metadata": {},
   "outputs": [
    {
     "data": {
      "text/plain": [
       "array(['26-35', '0-17', '18-25', '51-55', '55+', '36-45', '46-50'],\n",
       "      dtype=object)"
      ]
     },
     "execution_count": 37,
     "metadata": {},
     "output_type": "execute_result"
    }
   ],
   "source": [
    "data[\"Age Group\"].unique()"
   ]
  },
  {
   "cell_type": "markdown",
   "id": "a4131c1b-e160-4304-a7a5-d934c2b485fc",
   "metadata": {},
   "source": [
    "#### Product_Category\n",
    "**Already Done**"
   ]
  },
  {
   "cell_type": "markdown",
   "id": "99ad6387-eb80-4c8c-906b-557c3d4fcb9c",
   "metadata": {},
   "source": [
    "#### Occupation & Gender"
   ]
  },
  {
   "cell_type": "code",
   "execution_count": 38,
   "id": "4f23125e-45be-47cb-b798-e9853e768d67",
   "metadata": {},
   "outputs": [
    {
     "data": {
      "text/plain": [
       "'IT Sector'"
      ]
     },
     "execution_count": 38,
     "metadata": {},
     "output_type": "execute_result"
    }
   ],
   "source": [
    "# Replacing null values with modes\n",
    "gender_mode = data[\"Gender\"].mode()[0]\n",
    "occupation_mode = data[\"Occupation\"].mode()[0]\n",
    "gender_mode\n",
    "occupation_mode"
   ]
  },
  {
   "cell_type": "code",
   "execution_count": 39,
   "id": "16b4bdc5-69d4-406a-8813-cb85fd58d05d",
   "metadata": {},
   "outputs": [],
   "source": [
    "data[\"Gender\"] = data[\"Gender\"].fillna(gender_mode)\n",
    "data[\"Occupation\"] = data[\"Occupation\"].fillna(gender_mode)"
   ]
  },
  {
   "cell_type": "code",
   "execution_count": 40,
   "id": "1771921f-34e0-40c2-a29f-864c2f9ce23d",
   "metadata": {},
   "outputs": [
    {
     "name": "stdout",
     "output_type": "stream",
     "text": [
      "<class 'pandas.core.frame.DataFrame'>\n",
      "Index: 11254 entries, 0 to 11340\n",
      "Data columns (total 14 columns):\n",
      " #   Column            Non-Null Count  Dtype  \n",
      "---  ------            --------------  -----  \n",
      " 0   User_ID           11231 non-null  float64\n",
      " 1   Cust_name         11254 non-null  object \n",
      " 2   Product_ID        11254 non-null  object \n",
      " 3   Gender            11254 non-null  object \n",
      " 4   Age Group         11254 non-null  object \n",
      " 5   Age               11254 non-null  float64\n",
      " 6   Marital_Status    11254 non-null  float64\n",
      " 7   State             11254 non-null  object \n",
      " 8   Zone              11254 non-null  object \n",
      " 9   Occupation        11254 non-null  object \n",
      " 10  Product_Category  11254 non-null  object \n",
      " 11  Orders            11254 non-null  float64\n",
      " 12  Amount            11254 non-null  float64\n",
      " 13  married_status    11254 non-null  object \n",
      "dtypes: float64(5), object(9)\n",
      "memory usage: 1.3+ MB\n"
     ]
    }
   ],
   "source": [
    "data.info()"
   ]
  },
  {
   "cell_type": "code",
   "execution_count": 41,
   "id": "7a133b6d-34da-4c44-93cb-d5cbec5131b1",
   "metadata": {},
   "outputs": [],
   "source": [
    "user_ID_mode = data[\"User_ID\"].mode()[0]\n",
    "data[\"User_ID\"] = data[\"User_ID\"].fillna(user_ID_mode)"
   ]
  },
  {
   "cell_type": "code",
   "execution_count": 42,
   "id": "f1976ce6-a06c-4262-8710-6a94a0849cc8",
   "metadata": {},
   "outputs": [
    {
     "name": "stdout",
     "output_type": "stream",
     "text": [
      "<class 'pandas.core.frame.DataFrame'>\n",
      "Index: 11254 entries, 0 to 11340\n",
      "Data columns (total 14 columns):\n",
      " #   Column            Non-Null Count  Dtype  \n",
      "---  ------            --------------  -----  \n",
      " 0   User_ID           11254 non-null  float64\n",
      " 1   Cust_name         11254 non-null  object \n",
      " 2   Product_ID        11254 non-null  object \n",
      " 3   Gender            11254 non-null  object \n",
      " 4   Age Group         11254 non-null  object \n",
      " 5   Age               11254 non-null  float64\n",
      " 6   Marital_Status    11254 non-null  float64\n",
      " 7   State             11254 non-null  object \n",
      " 8   Zone              11254 non-null  object \n",
      " 9   Occupation        11254 non-null  object \n",
      " 10  Product_Category  11254 non-null  object \n",
      " 11  Orders            11254 non-null  float64\n",
      " 12  Amount            11254 non-null  float64\n",
      " 13  married_status    11254 non-null  object \n",
      "dtypes: float64(5), object(9)\n",
      "memory usage: 1.3+ MB\n"
     ]
    }
   ],
   "source": [
    "data.info()"
   ]
  },
  {
   "cell_type": "code",
   "execution_count": 44,
   "id": "bf64a91c-fdd4-4189-baac-e765bf4276ad",
   "metadata": {},
   "outputs": [
    {
     "data": {
      "text/plain": [
       "User_ID             0\n",
       "Cust_name           0\n",
       "Product_ID          0\n",
       "Gender              0\n",
       "Age Group           0\n",
       "Age                 0\n",
       "Marital_Status      0\n",
       "State               0\n",
       "Zone                0\n",
       "Occupation          0\n",
       "Product_Category    0\n",
       "Orders              0\n",
       "Amount              0\n",
       "married_status      0\n",
       "dtype: int64"
      ]
     },
     "execution_count": 44,
     "metadata": {},
     "output_type": "execute_result"
    }
   ],
   "source": [
    "data.isna().sum()"
   ]
  },
  {
   "cell_type": "code",
   "execution_count": 45,
   "id": "563a5b17-55db-4129-853d-7b5fc95eeb43",
   "metadata": {},
   "outputs": [],
   "source": [
    "data.to_excel(\"Filtered_Diwali_Data.xlsx\")"
   ]
  },
  {
   "cell_type": "markdown",
   "id": "2852f0ae-db02-409b-9e91-eb2bd05dd2a3",
   "metadata": {},
   "source": [
    "### Outlier Detection and Removal"
   ]
  },
  {
   "cell_type": "code",
   "execution_count": 43,
   "id": "d7e7824e-8927-43e1-b192-f1b301ed96a6",
   "metadata": {},
   "outputs": [
    {
     "data": {
      "text/html": [
       "<div>\n",
       "<style scoped>\n",
       "    .dataframe tbody tr th:only-of-type {\n",
       "        vertical-align: middle;\n",
       "    }\n",
       "\n",
       "    .dataframe tbody tr th {\n",
       "        vertical-align: top;\n",
       "    }\n",
       "\n",
       "    .dataframe thead th {\n",
       "        text-align: right;\n",
       "    }\n",
       "</style>\n",
       "<table border=\"1\" class=\"dataframe\">\n",
       "  <thead>\n",
       "    <tr style=\"text-align: right;\">\n",
       "      <th></th>\n",
       "      <th>User_ID</th>\n",
       "      <th>Age</th>\n",
       "      <th>Marital_Status</th>\n",
       "      <th>Orders</th>\n",
       "      <th>Amount</th>\n",
       "    </tr>\n",
       "  </thead>\n",
       "  <tbody>\n",
       "    <tr>\n",
       "      <th>count</th>\n",
       "      <td>1.125400e+04</td>\n",
       "      <td>11254.000000</td>\n",
       "      <td>11254.000000</td>\n",
       "      <td>11254.000000</td>\n",
       "      <td>1.125400e+04</td>\n",
       "    </tr>\n",
       "    <tr>\n",
       "      <th>mean</th>\n",
       "      <td>1.013664e+06</td>\n",
       "      <td>35.424382</td>\n",
       "      <td>0.419762</td>\n",
       "      <td>2.494135</td>\n",
       "      <td>1.916697e+05</td>\n",
       "    </tr>\n",
       "    <tr>\n",
       "      <th>std</th>\n",
       "      <td>3.263686e+05</td>\n",
       "      <td>12.753259</td>\n",
       "      <td>0.493542</td>\n",
       "      <td>1.186925</td>\n",
       "      <td>1.072906e+07</td>\n",
       "    </tr>\n",
       "    <tr>\n",
       "      <th>min</th>\n",
       "      <td>1.000001e+06</td>\n",
       "      <td>12.000000</td>\n",
       "      <td>0.000000</td>\n",
       "      <td>1.000000</td>\n",
       "      <td>1.880000e+02</td>\n",
       "    </tr>\n",
       "    <tr>\n",
       "      <th>25%</th>\n",
       "      <td>1.001496e+06</td>\n",
       "      <td>27.000000</td>\n",
       "      <td>0.000000</td>\n",
       "      <td>2.000000</td>\n",
       "      <td>5.445000e+03</td>\n",
       "    </tr>\n",
       "    <tr>\n",
       "      <th>50%</th>\n",
       "      <td>1.003064e+06</td>\n",
       "      <td>33.000000</td>\n",
       "      <td>0.000000</td>\n",
       "      <td>2.000000</td>\n",
       "      <td>8.113000e+03</td>\n",
       "    </tr>\n",
       "    <tr>\n",
       "      <th>75%</th>\n",
       "      <td>1.004430e+06</td>\n",
       "      <td>43.000000</td>\n",
       "      <td>1.000000</td>\n",
       "      <td>3.000000</td>\n",
       "      <td>1.269900e+04</td>\n",
       "    </tr>\n",
       "    <tr>\n",
       "      <th>max</th>\n",
       "      <td>1.100505e+07</td>\n",
       "      <td>92.000000</td>\n",
       "      <td>1.000000</td>\n",
       "      <td>40.000000</td>\n",
       "      <td>8.760212e+08</td>\n",
       "    </tr>\n",
       "  </tbody>\n",
       "</table>\n",
       "</div>"
      ],
      "text/plain": [
       "            User_ID           Age  Marital_Status        Orders        Amount\n",
       "count  1.125400e+04  11254.000000    11254.000000  11254.000000  1.125400e+04\n",
       "mean   1.013664e+06     35.424382        0.419762      2.494135  1.916697e+05\n",
       "std    3.263686e+05     12.753259        0.493542      1.186925  1.072906e+07\n",
       "min    1.000001e+06     12.000000        0.000000      1.000000  1.880000e+02\n",
       "25%    1.001496e+06     27.000000        0.000000      2.000000  5.445000e+03\n",
       "50%    1.003064e+06     33.000000        0.000000      2.000000  8.113000e+03\n",
       "75%    1.004430e+06     43.000000        1.000000      3.000000  1.269900e+04\n",
       "max    1.100505e+07     92.000000        1.000000     40.000000  8.760212e+08"
      ]
     },
     "execution_count": 43,
     "metadata": {},
     "output_type": "execute_result"
    }
   ],
   "source": [
    "data.describe()"
   ]
  },
  {
   "cell_type": "code",
   "execution_count": 44,
   "id": "3bda4320-ffb1-463f-a908-808f25e7c5cb",
   "metadata": {},
   "outputs": [
    {
     "data": {
      "text/plain": [
       "Text(0.5, 0.98, 'Overall Figure Title')"
      ]
     },
     "execution_count": 44,
     "metadata": {},
     "output_type": "execute_result"
    },
    {
     "data": {
      "image/png": "[encoded data removed]",
      "text/plain": [
       "<Figure size 1000x600 with 2 Axes>"
      ]
     },
     "metadata": {},
     "output_type": "display_data"
    }
   ],
   "source": [
    "#Visualisation of outlier\n",
    "fig, ax = plt.subplots(1, 2, figsize=(10, 6))\n",
    "sns.boxplot(data=data['Orders'], ax=ax[0])\n",
    "ax[0].set_title(\"Box plot for Orders\")\n",
    "\n",
    "sns.boxplot(data=data['Amount'], ax=ax[1])\n",
    "ax[1].set_title(\"Box plot for Amount\")\n",
    "\n",
    "fig.suptitle('Overall Figure Title')"
   ]
  },
  {
   "cell_type": "markdown",
   "id": "1a17b6d0-7b40-4a2b-aa52-821519ec9d09",
   "metadata": {},
   "source": [
    "#### Order"
   ]
  },
  {
   "cell_type": "code",
   "execution_count": 45,
   "id": "bf3e26fa-7419-4de0-bc48-b48f60235bb4",
   "metadata": {},
   "outputs": [
    {
     "data": {
      "text/plain": [
       "2.0"
      ]
     },
     "execution_count": 45,
     "metadata": {},
     "output_type": "execute_result"
    }
   ],
   "source": [
    "Q1_orders = data[\"Orders\"].quantile(0.25)\n",
    "Q1_orders"
   ]
  },
  {
   "cell_type": "code",
   "execution_count": 46,
   "id": "211e3b77-06fe-4668-bdbf-970869ee2d6b",
   "metadata": {},
   "outputs": [
    {
     "data": {
      "text/plain": [
       "3.0"
      ]
     },
     "execution_count": 46,
     "metadata": {},
     "output_type": "execute_result"
    }
   ],
   "source": [
    "Q3_orders = data[\"Orders\"].quantile(0.75)\n",
    "Q3_orders"
   ]
  },
  {
   "cell_type": "code",
   "execution_count": 47,
   "id": "12681d2b-5d18-46c6-83b5-f3b181737ffb",
   "metadata": {},
   "outputs": [
    {
     "data": {
      "text/plain": [
       "1.0"
      ]
     },
     "execution_count": 47,
     "metadata": {},
     "output_type": "execute_result"
    }
   ],
   "source": [
    "IQR_orders = Q3_orders  - Q1_orders\n",
    "IQR_orders"
   ]
  },
  {
   "cell_type": "code",
   "execution_count": 48,
   "id": "fdeb4fa3-8ad3-498d-9dc4-576d3f01620b",
   "metadata": {},
   "outputs": [],
   "source": [
    "lower_limit_orders = Q1_orders - 1.5*IQR_orders\n",
    "upper_limit_orders = Q3_orders + 1.5*IQR_orders"
   ]
  },
  {
   "cell_type": "code",
   "execution_count": 49,
   "id": "a3c58596-6833-4713-ba21-fd4b02445897",
   "metadata": {},
   "outputs": [
    {
     "name": "stdout",
     "output_type": "stream",
     "text": [
      "0.5\n",
      "4.5\n"
     ]
    }
   ],
   "source": [
    "print(lower_limit_orders)\n",
    "print(upper_limit_orders)"
   ]
  },
  {
   "cell_type": "code",
   "execution_count": 50,
   "id": "6b644048-4c51-4442-ab97-0ad8e887f29d",
   "metadata": {},
   "outputs": [
    {
     "data": {
      "text/html": [
       "<div>\n",
       "<style scoped>\n",
       "    .dataframe tbody tr th:only-of-type {\n",
       "        vertical-align: middle;\n",
       "    }\n",
       "\n",
       "    .dataframe tbody tr th {\n",
       "        vertical-align: top;\n",
       "    }\n",
       "\n",
       "    .dataframe thead th {\n",
       "        text-align: right;\n",
       "    }\n",
       "</style>\n",
       "<table border=\"1\" class=\"dataframe\">\n",
       "  <thead>\n",
       "    <tr style=\"text-align: right;\">\n",
       "      <th></th>\n",
       "      <th>User_ID</th>\n",
       "      <th>Cust_name</th>\n",
       "      <th>Product_ID</th>\n",
       "      <th>Gender</th>\n",
       "      <th>Age Group</th>\n",
       "      <th>Age</th>\n",
       "      <th>Marital_Status</th>\n",
       "      <th>State</th>\n",
       "      <th>Zone</th>\n",
       "      <th>Occupation</th>\n",
       "      <th>Product_Category</th>\n",
       "      <th>Orders</th>\n",
       "      <th>Amount</th>\n",
       "      <th>married_status</th>\n",
       "    </tr>\n",
       "  </thead>\n",
       "  <tbody>\n",
       "    <tr>\n",
       "      <th>0</th>\n",
       "      <td>1002903.0</td>\n",
       "      <td>Sanskriti</td>\n",
       "      <td>P00125942</td>\n",
       "      <td>F</td>\n",
       "      <td>26-35</td>\n",
       "      <td>28.0</td>\n",
       "      <td>0.0</td>\n",
       "      <td>Maharashtra</td>\n",
       "      <td>Western</td>\n",
       "      <td>Healthcare</td>\n",
       "      <td>Auto</td>\n",
       "      <td>1.0</td>\n",
       "      <td>23952.0</td>\n",
       "      <td>Unmarried</td>\n",
       "    </tr>\n",
       "    <tr>\n",
       "      <th>1</th>\n",
       "      <td>1000732.0</td>\n",
       "      <td>Kartik</td>\n",
       "      <td>P00110942</td>\n",
       "      <td>F</td>\n",
       "      <td>26-35</td>\n",
       "      <td>35.0</td>\n",
       "      <td>1.0</td>\n",
       "      <td>Andhra Pradesh</td>\n",
       "      <td>Southern</td>\n",
       "      <td>Govt</td>\n",
       "      <td>Auto</td>\n",
       "      <td>3.0</td>\n",
       "      <td>23934.0</td>\n",
       "      <td>Married</td>\n",
       "    </tr>\n",
       "    <tr>\n",
       "      <th>2</th>\n",
       "      <td>1001990.0</td>\n",
       "      <td>Bindu</td>\n",
       "      <td>P00118542</td>\n",
       "      <td>F</td>\n",
       "      <td>26-35</td>\n",
       "      <td>35.0</td>\n",
       "      <td>1.0</td>\n",
       "      <td>Uttar Pradesh</td>\n",
       "      <td>Central</td>\n",
       "      <td>Automobile</td>\n",
       "      <td>Auto</td>\n",
       "      <td>3.0</td>\n",
       "      <td>23924.0</td>\n",
       "      <td>Married</td>\n",
       "    </tr>\n",
       "    <tr>\n",
       "      <th>3</th>\n",
       "      <td>1001425.0</td>\n",
       "      <td>Sudevi</td>\n",
       "      <td>P00237842</td>\n",
       "      <td>M</td>\n",
       "      <td>0-17</td>\n",
       "      <td>16.0</td>\n",
       "      <td>0.0</td>\n",
       "      <td>Karnataka</td>\n",
       "      <td>Southern</td>\n",
       "      <td>Construction</td>\n",
       "      <td>Auto</td>\n",
       "      <td>2.0</td>\n",
       "      <td>23912.0</td>\n",
       "      <td>Unmarried</td>\n",
       "    </tr>\n",
       "    <tr>\n",
       "      <th>4</th>\n",
       "      <td>1000588.0</td>\n",
       "      <td>Joni</td>\n",
       "      <td>P00057942</td>\n",
       "      <td>M</td>\n",
       "      <td>26-35</td>\n",
       "      <td>28.0</td>\n",
       "      <td>1.0</td>\n",
       "      <td>Gujarat</td>\n",
       "      <td>Western</td>\n",
       "      <td>Food Processing</td>\n",
       "      <td>Auto</td>\n",
       "      <td>2.0</td>\n",
       "      <td>23877.0</td>\n",
       "      <td>Married</td>\n",
       "    </tr>\n",
       "  </tbody>\n",
       "</table>\n",
       "</div>"
      ],
      "text/plain": [
       "     User_ID  Cust_name Product_ID Gender Age Group   Age  Marital_Status  \\\n",
       "0  1002903.0  Sanskriti  P00125942      F     26-35  28.0             0.0   \n",
       "1  1000732.0     Kartik  P00110942      F     26-35  35.0             1.0   \n",
       "2  1001990.0      Bindu  P00118542      F     26-35  35.0             1.0   \n",
       "3  1001425.0     Sudevi  P00237842      M      0-17  16.0             0.0   \n",
       "4  1000588.0       Joni  P00057942      M     26-35  28.0             1.0   \n",
       "\n",
       "            State      Zone       Occupation Product_Category  Orders  \\\n",
       "0     Maharashtra   Western       Healthcare             Auto     1.0   \n",
       "1  Andhra Pradesh  Southern             Govt             Auto     3.0   \n",
       "2   Uttar Pradesh   Central       Automobile             Auto     3.0   \n",
       "3       Karnataka  Southern     Construction             Auto     2.0   \n",
       "4         Gujarat   Western  Food Processing             Auto     2.0   \n",
       "\n",
       "    Amount married_status  \n",
       "0  23952.0      Unmarried  \n",
       "1  23934.0        Married  \n",
       "2  23924.0        Married  \n",
       "3  23912.0      Unmarried  \n",
       "4  23877.0        Married  "
      ]
     },
     "execution_count": 50,
     "metadata": {},
     "output_type": "execute_result"
    }
   ],
   "source": [
    "data = data[(data[\"Orders\"]>lower_limit_orders) & (data[\"Orders\"]<upper_limit_orders)]\n",
    "data.head()"
   ]
  },
  {
   "cell_type": "code",
   "execution_count": 51,
   "id": "cefa3572-d03f-44aa-9393-b1d394440b00",
   "metadata": {},
   "outputs": [
    {
     "data": {
      "text/html": [
       "<div>\n",
       "<style scoped>\n",
       "    .dataframe tbody tr th:only-of-type {\n",
       "        vertical-align: middle;\n",
       "    }\n",
       "\n",
       "    .dataframe tbody tr th {\n",
       "        vertical-align: top;\n",
       "    }\n",
       "\n",
       "    .dataframe thead th {\n",
       "        text-align: right;\n",
       "    }\n",
       "</style>\n",
       "<table border=\"1\" class=\"dataframe\">\n",
       "  <thead>\n",
       "    <tr style=\"text-align: right;\">\n",
       "      <th></th>\n",
       "      <th>User_ID</th>\n",
       "      <th>Age</th>\n",
       "      <th>Marital_Status</th>\n",
       "      <th>Orders</th>\n",
       "      <th>Amount</th>\n",
       "    </tr>\n",
       "  </thead>\n",
       "  <tbody>\n",
       "    <tr>\n",
       "      <th>count</th>\n",
       "      <td>1.125200e+04</td>\n",
       "      <td>11252.000000</td>\n",
       "      <td>11252.000000</td>\n",
       "      <td>11252.000000</td>\n",
       "      <td>1.125200e+04</td>\n",
       "    </tr>\n",
       "    <tr>\n",
       "      <th>mean</th>\n",
       "      <td>1.011889e+06</td>\n",
       "      <td>35.423303</td>\n",
       "      <td>0.419836</td>\n",
       "      <td>2.488891</td>\n",
       "      <td>1.917000e+05</td>\n",
       "    </tr>\n",
       "    <tr>\n",
       "      <th>std</th>\n",
       "      <td>2.979871e+05</td>\n",
       "      <td>12.753743</td>\n",
       "      <td>0.493554</td>\n",
       "      <td>1.114844</td>\n",
       "      <td>1.073001e+07</td>\n",
       "    </tr>\n",
       "    <tr>\n",
       "      <th>min</th>\n",
       "      <td>1.000001e+06</td>\n",
       "      <td>12.000000</td>\n",
       "      <td>0.000000</td>\n",
       "      <td>1.000000</td>\n",
       "      <td>1.880000e+02</td>\n",
       "    </tr>\n",
       "    <tr>\n",
       "      <th>25%</th>\n",
       "      <td>1.001496e+06</td>\n",
       "      <td>27.000000</td>\n",
       "      <td>0.000000</td>\n",
       "      <td>2.000000</td>\n",
       "      <td>5.444750e+03</td>\n",
       "    </tr>\n",
       "    <tr>\n",
       "      <th>50%</th>\n",
       "      <td>1.003064e+06</td>\n",
       "      <td>33.000000</td>\n",
       "      <td>0.000000</td>\n",
       "      <td>2.000000</td>\n",
       "      <td>8.113000e+03</td>\n",
       "    </tr>\n",
       "    <tr>\n",
       "      <th>75%</th>\n",
       "      <td>1.004429e+06</td>\n",
       "      <td>43.000000</td>\n",
       "      <td>1.000000</td>\n",
       "      <td>3.000000</td>\n",
       "      <td>1.269900e+04</td>\n",
       "    </tr>\n",
       "    <tr>\n",
       "      <th>max</th>\n",
       "      <td>1.100505e+07</td>\n",
       "      <td>92.000000</td>\n",
       "      <td>1.000000</td>\n",
       "      <td>4.000000</td>\n",
       "      <td>8.760212e+08</td>\n",
       "    </tr>\n",
       "  </tbody>\n",
       "</table>\n",
       "</div>"
      ],
      "text/plain": [
       "            User_ID           Age  Marital_Status        Orders        Amount\n",
       "count  1.125200e+04  11252.000000    11252.000000  11252.000000  1.125200e+04\n",
       "mean   1.011889e+06     35.423303        0.419836      2.488891  1.917000e+05\n",
       "std    2.979871e+05     12.753743        0.493554      1.114844  1.073001e+07\n",
       "min    1.000001e+06     12.000000        0.000000      1.000000  1.880000e+02\n",
       "25%    1.001496e+06     27.000000        0.000000      2.000000  5.444750e+03\n",
       "50%    1.003064e+06     33.000000        0.000000      2.000000  8.113000e+03\n",
       "75%    1.004429e+06     43.000000        1.000000      3.000000  1.269900e+04\n",
       "max    1.100505e+07     92.000000        1.000000      4.000000  8.760212e+08"
      ]
     },
     "execution_count": 51,
     "metadata": {},
     "output_type": "execute_result"
    }
   ],
   "source": [
    "data.describe()"
   ]
  },
  {
   "cell_type": "markdown",
   "id": "32030186-e452-474a-b24d-810b1c157aa3",
   "metadata": {},
   "source": [
    "#### Amount"
   ]
  },
  {
   "cell_type": "code",
   "execution_count": 52,
   "id": "a353fa96-695e-4f76-a9d1-c41fa161d2ff",
   "metadata": {},
   "outputs": [
    {
     "data": {
      "text/plain": [
       "5444.75"
      ]
     },
     "execution_count": 52,
     "metadata": {},
     "output_type": "execute_result"
    }
   ],
   "source": [
    "Q1_amount = data[\"Amount\"].quantile(0.25)\n",
    "Q1_amount"
   ]
  },
  {
   "cell_type": "code",
   "execution_count": 53,
   "id": "3b3f994c-e284-44c8-90de-c52a161c5fdf",
   "metadata": {},
   "outputs": [
    {
     "data": {
      "text/plain": [
       "12699.0"
      ]
     },
     "execution_count": 53,
     "metadata": {},
     "output_type": "execute_result"
    }
   ],
   "source": [
    "Q3_amount = data[\"Amount\"].quantile(0.75)\n",
    "Q3_amount"
   ]
  },
  {
   "cell_type": "code",
   "execution_count": 54,
   "id": "07244676-dc6b-48c1-943b-b2cea14264bb",
   "metadata": {},
   "outputs": [
    {
     "data": {
      "text/plain": [
       "7254.25"
      ]
     },
     "execution_count": 54,
     "metadata": {},
     "output_type": "execute_result"
    }
   ],
   "source": [
    "IQR_amount = Q3_amount - Q1_amount\n",
    "IQR_amount"
   ]
  },
  {
   "cell_type": "code",
   "execution_count": 55,
   "id": "96b8562f-c00c-47c0-a1a6-e4220e55d6ba",
   "metadata": {},
   "outputs": [],
   "source": [
    "lower_limit_amount = Q1_amount - 1.5*IQR_amount\n",
    "upper_limit_amount = Q3_amount + 1.5*IQR_amount"
   ]
  },
  {
   "cell_type": "code",
   "execution_count": 56,
   "id": "5f095df9-9070-4a10-8ae0-a1e3d7e9bad1",
   "metadata": {},
   "outputs": [
    {
     "name": "stdout",
     "output_type": "stream",
     "text": [
      "-5436.625\n",
      "23580.375\n"
     ]
    }
   ],
   "source": [
    "print(lower_limit_amount)\n",
    "print(upper_limit_amount)"
   ]
  },
  {
   "cell_type": "code",
   "execution_count": 57,
   "id": "a0a8673f-e9ff-40ef-8cf7-9f537d45e2ca",
   "metadata": {},
   "outputs": [
    {
     "data": {
      "text/html": [
       "<div>\n",
       "<style scoped>\n",
       "    .dataframe tbody tr th:only-of-type {\n",
       "        vertical-align: middle;\n",
       "    }\n",
       "\n",
       "    .dataframe tbody tr th {\n",
       "        vertical-align: top;\n",
       "    }\n",
       "\n",
       "    .dataframe thead th {\n",
       "        text-align: right;\n",
       "    }\n",
       "</style>\n",
       "<table border=\"1\" class=\"dataframe\">\n",
       "  <thead>\n",
       "    <tr style=\"text-align: right;\">\n",
       "      <th></th>\n",
       "      <th>User_ID</th>\n",
       "      <th>Cust_name</th>\n",
       "      <th>Product_ID</th>\n",
       "      <th>Gender</th>\n",
       "      <th>Age Group</th>\n",
       "      <th>Age</th>\n",
       "      <th>Marital_Status</th>\n",
       "      <th>State</th>\n",
       "      <th>Zone</th>\n",
       "      <th>Occupation</th>\n",
       "      <th>Product_Category</th>\n",
       "      <th>Orders</th>\n",
       "      <th>Amount</th>\n",
       "      <th>married_status</th>\n",
       "    </tr>\n",
       "  </thead>\n",
       "  <tbody>\n",
       "    <tr>\n",
       "      <th>18</th>\n",
       "      <td>1001883.0</td>\n",
       "      <td>Praneet</td>\n",
       "      <td>P00029842</td>\n",
       "      <td>M</td>\n",
       "      <td>26-35</td>\n",
       "      <td>54.0</td>\n",
       "      <td>1.0</td>\n",
       "      <td>Uttar Pradesh</td>\n",
       "      <td>Central</td>\n",
       "      <td>Hospitality</td>\n",
       "      <td>Auto</td>\n",
       "      <td>1.0</td>\n",
       "      <td>23568.0</td>\n",
       "      <td>Married</td>\n",
       "    </tr>\n",
       "    <tr>\n",
       "      <th>19</th>\n",
       "      <td>1001883.0</td>\n",
       "      <td>Praneet</td>\n",
       "      <td>P00029842</td>\n",
       "      <td>M</td>\n",
       "      <td>26-35</td>\n",
       "      <td>54.0</td>\n",
       "      <td>1.0</td>\n",
       "      <td>Uttar Pradesh</td>\n",
       "      <td>Central</td>\n",
       "      <td>Hospitality</td>\n",
       "      <td>Auto</td>\n",
       "      <td>1.0</td>\n",
       "      <td>23568.0</td>\n",
       "      <td>Married</td>\n",
       "    </tr>\n",
       "    <tr>\n",
       "      <th>20</th>\n",
       "      <td>1000113.0</td>\n",
       "      <td>Ellis</td>\n",
       "      <td>P00180642</td>\n",
       "      <td>F</td>\n",
       "      <td>26-35</td>\n",
       "      <td>19.0</td>\n",
       "      <td>1.0</td>\n",
       "      <td>Andhra Pradesh</td>\n",
       "      <td>Southern</td>\n",
       "      <td>Govt</td>\n",
       "      <td>Auto</td>\n",
       "      <td>4.0</td>\n",
       "      <td>23546.0</td>\n",
       "      <td>Married</td>\n",
       "    </tr>\n",
       "    <tr>\n",
       "      <th>21</th>\n",
       "      <td>1000416.0</td>\n",
       "      <td>Hrisheekesh</td>\n",
       "      <td>P00181842</td>\n",
       "      <td>F</td>\n",
       "      <td>26-35</td>\n",
       "      <td>46.0</td>\n",
       "      <td>1.0</td>\n",
       "      <td>Uttar Pradesh</td>\n",
       "      <td>Central</td>\n",
       "      <td>Banking</td>\n",
       "      <td>Auto</td>\n",
       "      <td>2.0</td>\n",
       "      <td>23525.0</td>\n",
       "      <td>Married</td>\n",
       "    </tr>\n",
       "    <tr>\n",
       "      <th>22</th>\n",
       "      <td>1005256.0</td>\n",
       "      <td>Grant</td>\n",
       "      <td>P00101742</td>\n",
       "      <td>F</td>\n",
       "      <td>26-35</td>\n",
       "      <td>30.0</td>\n",
       "      <td>0.0</td>\n",
       "      <td>Andhra Pradesh</td>\n",
       "      <td>Southern</td>\n",
       "      <td>IT Sector</td>\n",
       "      <td>Auto</td>\n",
       "      <td>1.0</td>\n",
       "      <td>23518.0</td>\n",
       "      <td>Unmarried</td>\n",
       "    </tr>\n",
       "  </tbody>\n",
       "</table>\n",
       "</div>"
      ],
      "text/plain": [
       "      User_ID    Cust_name Product_ID Gender Age Group   Age  Marital_Status  \\\n",
       "18  1001883.0      Praneet  P00029842      M     26-35  54.0             1.0   \n",
       "19  1001883.0      Praneet  P00029842      M     26-35  54.0             1.0   \n",
       "20  1000113.0        Ellis  P00180642      F     26-35  19.0             1.0   \n",
       "21  1000416.0  Hrisheekesh  P00181842      F     26-35  46.0             1.0   \n",
       "22  1005256.0        Grant  P00101742      F     26-35  30.0             0.0   \n",
       "\n",
       "             State      Zone   Occupation Product_Category  Orders   Amount  \\\n",
       "18   Uttar Pradesh   Central  Hospitality             Auto     1.0  23568.0   \n",
       "19   Uttar Pradesh   Central  Hospitality             Auto     1.0  23568.0   \n",
       "20  Andhra Pradesh  Southern         Govt             Auto     4.0  23546.0   \n",
       "21   Uttar Pradesh   Central      Banking             Auto     2.0  23525.0   \n",
       "22  Andhra Pradesh  Southern    IT Sector             Auto     1.0  23518.0   \n",
       "\n",
       "   married_status  \n",
       "18        Married  \n",
       "19        Married  \n",
       "20        Married  \n",
       "21        Married  \n",
       "22      Unmarried  "
      ]
     },
     "execution_count": 57,
     "metadata": {},
     "output_type": "execute_result"
    }
   ],
   "source": [
    "data = data[(data[\"Amount\"]>lower_limit_amount) & (data[\"Amount\"]<upper_limit_amount)]\n",
    "data.head()"
   ]
  },
  {
   "cell_type": "code",
   "execution_count": 61,
   "id": "9228a81c-e11b-4204-9a20-a809c19ba213",
   "metadata": {},
   "outputs": [
    {
     "data": {
      "text/html": [
       "<div>\n",
       "<style scoped>\n",
       "    .dataframe tbody tr th:only-of-type {\n",
       "        vertical-align: middle;\n",
       "    }\n",
       "\n",
       "    .dataframe tbody tr th {\n",
       "        vertical-align: top;\n",
       "    }\n",
       "\n",
       "    .dataframe thead th {\n",
       "        text-align: right;\n",
       "    }\n",
       "</style>\n",
       "<table border=\"1\" class=\"dataframe\">\n",
       "  <thead>\n",
       "    <tr style=\"text-align: right;\">\n",
       "      <th></th>\n",
       "      <th>User_ID</th>\n",
       "      <th>Age</th>\n",
       "      <th>Marital_Status</th>\n",
       "      <th>Orders</th>\n",
       "      <th>Amount</th>\n",
       "    </tr>\n",
       "  </thead>\n",
       "  <tbody>\n",
       "    <tr>\n",
       "      <th>count</th>\n",
       "      <td>1.123400e+04</td>\n",
       "      <td>11234.000000</td>\n",
       "      <td>11234.000000</td>\n",
       "      <td>11234.000000</td>\n",
       "      <td>11234.000000</td>\n",
       "    </tr>\n",
       "    <tr>\n",
       "      <th>mean</th>\n",
       "      <td>1.007453e+06</td>\n",
       "      <td>35.433772</td>\n",
       "      <td>0.419708</td>\n",
       "      <td>2.489496</td>\n",
       "      <td>9452.764638</td>\n",
       "    </tr>\n",
       "    <tr>\n",
       "      <th>std</th>\n",
       "      <td>2.109026e+05</td>\n",
       "      <td>12.759432</td>\n",
       "      <td>0.493533</td>\n",
       "      <td>1.114845</td>\n",
       "      <td>5213.784648</td>\n",
       "    </tr>\n",
       "    <tr>\n",
       "      <th>min</th>\n",
       "      <td>1.000001e+06</td>\n",
       "      <td>12.000000</td>\n",
       "      <td>0.000000</td>\n",
       "      <td>1.000000</td>\n",
       "      <td>188.000000</td>\n",
       "    </tr>\n",
       "    <tr>\n",
       "      <th>25%</th>\n",
       "      <td>1.001496e+06</td>\n",
       "      <td>27.000000</td>\n",
       "      <td>0.000000</td>\n",
       "      <td>2.000000</td>\n",
       "      <td>5443.000000</td>\n",
       "    </tr>\n",
       "    <tr>\n",
       "      <th>50%</th>\n",
       "      <td>1.003064e+06</td>\n",
       "      <td>33.000000</td>\n",
       "      <td>0.000000</td>\n",
       "      <td>2.000000</td>\n",
       "      <td>8109.500000</td>\n",
       "    </tr>\n",
       "    <tr>\n",
       "      <th>75%</th>\n",
       "      <td>1.004429e+06</td>\n",
       "      <td>43.000000</td>\n",
       "      <td>1.000000</td>\n",
       "      <td>3.000000</td>\n",
       "      <td>12681.500000</td>\n",
       "    </tr>\n",
       "    <tr>\n",
       "      <th>max</th>\n",
       "      <td>1.100173e+07</td>\n",
       "      <td>92.000000</td>\n",
       "      <td>1.000000</td>\n",
       "      <td>4.000000</td>\n",
       "      <td>23568.000000</td>\n",
       "    </tr>\n",
       "  </tbody>\n",
       "</table>\n",
       "</div>"
      ],
      "text/plain": [
       "            User_ID           Age  Marital_Status        Orders        Amount\n",
       "count  1.123400e+04  11234.000000    11234.000000  11234.000000  11234.000000\n",
       "mean   1.007453e+06     35.433772        0.419708      2.489496   9452.764638\n",
       "std    2.109026e+05     12.759432        0.493533      1.114845   5213.784648\n",
       "min    1.000001e+06     12.000000        0.000000      1.000000    188.000000\n",
       "25%    1.001496e+06     27.000000        0.000000      2.000000   5443.000000\n",
       "50%    1.003064e+06     33.000000        0.000000      2.000000   8109.500000\n",
       "75%    1.004429e+06     43.000000        1.000000      3.000000  12681.500000\n",
       "max    1.100173e+07     92.000000        1.000000      4.000000  23568.000000"
      ]
     },
     "execution_count": 61,
     "metadata": {},
     "output_type": "execute_result"
    }
   ],
   "source": [
    "data.describe()"
   ]
  },
  {
   "cell_type": "code",
   "execution_count": 62,
   "id": "b5ca4ca1-e3c9-4c3d-8dc0-ec12d4552e2b",
   "metadata": {},
   "outputs": [],
   "source": [
    "data.to_csv(\"Final_Diwali_Data.csv\")"
   ]
  },
  {
   "cell_type": "code",
   "execution_count": 90,
   "id": "340e7d01-9356-4a4b-a473-93981a36f210",
   "metadata": {},
   "outputs": [],
   "source": [
    "data.to_excel(\"Final_Diwali_Data1.xlsx\")"
   ]
  },
  {
   "cell_type": "markdown",
   "id": "4ce1cf8b-3d8a-4360-81cc-9301e4672463",
   "metadata": {},
   "source": [
    "## Exploratory Data Analysis"
   ]
  },
  {
   "cell_type": "markdown",
   "id": "38b0215d-82ca-4964-9532-92fee7a0aa63",
   "metadata": {},
   "source": [
    "### Statistical Analysis"
   ]
  },
  {
   "cell_type": "code",
   "execution_count": 58,
   "id": "688d00e7-e87f-42ec-8f94-41d49767884e",
   "metadata": {
    "scrolled": true
   },
   "outputs": [
    {
     "data": {
      "text/html": [
       "<div>\n",
       "<style scoped>\n",
       "    .dataframe tbody tr th:only-of-type {\n",
       "        vertical-align: middle;\n",
       "    }\n",
       "\n",
       "    .dataframe tbody tr th {\n",
       "        vertical-align: top;\n",
       "    }\n",
       "\n",
       "    .dataframe thead th {\n",
       "        text-align: right;\n",
       "    }\n",
       "</style>\n",
       "<table border=\"1\" class=\"dataframe\">\n",
       "  <thead>\n",
       "    <tr style=\"text-align: right;\">\n",
       "      <th></th>\n",
       "      <th>User_ID</th>\n",
       "      <th>Cust_name</th>\n",
       "      <th>Product_ID</th>\n",
       "      <th>Gender</th>\n",
       "      <th>Age Group</th>\n",
       "      <th>Age</th>\n",
       "      <th>Marital_Status</th>\n",
       "      <th>State</th>\n",
       "      <th>Zone</th>\n",
       "      <th>Occupation</th>\n",
       "      <th>Product_Category</th>\n",
       "      <th>Orders</th>\n",
       "      <th>Amount</th>\n",
       "      <th>married_status</th>\n",
       "    </tr>\n",
       "  </thead>\n",
       "  <tbody>\n",
       "    <tr>\n",
       "      <th>18</th>\n",
       "      <td>1001883.0</td>\n",
       "      <td>Praneet</td>\n",
       "      <td>P00029842</td>\n",
       "      <td>M</td>\n",
       "      <td>26-35</td>\n",
       "      <td>54.0</td>\n",
       "      <td>1.0</td>\n",
       "      <td>Uttar Pradesh</td>\n",
       "      <td>Central</td>\n",
       "      <td>Hospitality</td>\n",
       "      <td>Auto</td>\n",
       "      <td>1.0</td>\n",
       "      <td>23568.0</td>\n",
       "      <td>Married</td>\n",
       "    </tr>\n",
       "    <tr>\n",
       "      <th>19</th>\n",
       "      <td>1001883.0</td>\n",
       "      <td>Praneet</td>\n",
       "      <td>P00029842</td>\n",
       "      <td>M</td>\n",
       "      <td>26-35</td>\n",
       "      <td>54.0</td>\n",
       "      <td>1.0</td>\n",
       "      <td>Uttar Pradesh</td>\n",
       "      <td>Central</td>\n",
       "      <td>Hospitality</td>\n",
       "      <td>Auto</td>\n",
       "      <td>1.0</td>\n",
       "      <td>23568.0</td>\n",
       "      <td>Married</td>\n",
       "    </tr>\n",
       "  </tbody>\n",
       "</table>\n",
       "</div>"
      ],
      "text/plain": [
       "      User_ID Cust_name Product_ID Gender Age Group   Age  Marital_Status  \\\n",
       "18  1001883.0   Praneet  P00029842      M     26-35  54.0             1.0   \n",
       "19  1001883.0   Praneet  P00029842      M     26-35  54.0             1.0   \n",
       "\n",
       "            State     Zone   Occupation Product_Category  Orders   Amount  \\\n",
       "18  Uttar Pradesh  Central  Hospitality             Auto     1.0  23568.0   \n",
       "19  Uttar Pradesh  Central  Hospitality             Auto     1.0  23568.0   \n",
       "\n",
       "   married_status  \n",
       "18        Married  \n",
       "19        Married  "
      ]
     },
     "execution_count": 58,
     "metadata": {},
     "output_type": "execute_result"
    }
   ],
   "source": [
    "data.head(2)"
   ]
  },
  {
   "cell_type": "markdown",
   "id": "936d8055-8630-43b2-9c33-05bed8630619",
   "metadata": {},
   "source": [
    "### Data Visualisation"
   ]
  },
  {
   "cell_type": "markdown",
   "id": "e23218e9-d34f-4507-842e-daf96aa1a3a6",
   "metadata": {},
   "source": [
    "#### Gendre Wise Analysis"
   ]
  },
  {
   "cell_type": "code",
   "execution_count": 59,
   "id": "353029f2-a270-4a26-820d-e8353098c0a0",
   "metadata": {},
   "outputs": [
    {
     "name": "stdout",
     "output_type": "stream",
     "text": [
      "Gendre wise order count:\n",
      "   Gender  Orders\n",
      "0      F    7835\n",
      "1      M    3399\n",
      "Gendre wise amount:\n",
      "   Gender       Amount\n",
      "0      F  74422989.94\n",
      "1      M  31769368.00\n"
     ]
    }
   ],
   "source": [
    "data_gender_order = data.groupby([\"Gender\"] , as_index = False)[\"Orders\"].count()\n",
    "print(\"Gendre wise order count:\\n\",data_gender_order)\n",
    "\n",
    "data_gender_amount = data.groupby([\"Gender\"], as_index = False)[\"Amount\"].sum()\n",
    "print(\"Gendre wise amount:\\n\",data_gender_amount)"
   ]
  },
  {
   "cell_type": "code",
   "execution_count": 60,
   "id": "f989e574-c3a7-45bb-a1c2-9b741c6a2533",
   "metadata": {},
   "outputs": [
    {
     "data": {
      "image/png": "[encoded data removed]",
      "text/plain": [
       "<Figure size 1600x400 with 2 Axes>"
      ]
     },
     "metadata": {},
     "output_type": "display_data"
    }
   ],
   "source": [
    "# Plotting\n",
    "fig, ax = plt.subplots(1, 2, figsize=(16, 4))  \n",
    "fig.suptitle('Overall Figure Title')\n",
    "#Pie Plot\n",
    "ax[0].pie(x = data_gender_order['Orders'], \n",
    "           labels = data_gender_order['Gender'], autopct = \"%1.2f%%\")\n",
    "\n",
    "ax[0].set_title(\"Gender Wise Order Count\")\n",
    "\n",
    "# Bar Plot\n",
    "sns.barplot(x = \"Gender\", y = \"Amount\", data = data_gender_amount, ax = ax[1])\n",
    "ax[1].set_title(\"Gender wise purchase power\")\n",
    "\n",
    "plt.show()"
   ]
  },
  {
   "cell_type": "markdown",
   "id": "c987d6f5-f884-41cb-8863-304aedbe3c04",
   "metadata": {},
   "source": [
    "### Conclusion\n",
    " - **Females generally places more order**\n",
    " - **Purchasing power of Females is Higher**"
   ]
  },
  {
   "cell_type": "code",
   "execution_count": 61,
   "id": "ce89bd25-8f02-416e-9b1e-717aca0f80a0",
   "metadata": {},
   "outputs": [
    {
     "data": {
      "text/html": [
       "<div>\n",
       "<style scoped>\n",
       "    .dataframe tbody tr th:only-of-type {\n",
       "        vertical-align: middle;\n",
       "    }\n",
       "\n",
       "    .dataframe tbody tr th {\n",
       "        vertical-align: top;\n",
       "    }\n",
       "\n",
       "    .dataframe thead th {\n",
       "        text-align: right;\n",
       "    }\n",
       "</style>\n",
       "<table border=\"1\" class=\"dataframe\">\n",
       "  <thead>\n",
       "    <tr style=\"text-align: right;\">\n",
       "      <th></th>\n",
       "      <th>married_status</th>\n",
       "      <th>Amount</th>\n",
       "    </tr>\n",
       "  </thead>\n",
       "  <tbody>\n",
       "    <tr>\n",
       "      <th>0</th>\n",
       "      <td>Married</td>\n",
       "      <td>44003938.00</td>\n",
       "    </tr>\n",
       "    <tr>\n",
       "      <th>1</th>\n",
       "      <td>Unmarried</td>\n",
       "      <td>62188419.94</td>\n",
       "    </tr>\n",
       "  </tbody>\n",
       "</table>\n",
       "</div>"
      ],
      "text/plain": [
       "  married_status       Amount\n",
       "0        Married  44003938.00\n",
       "1      Unmarried  62188419.94"
      ]
     },
     "execution_count": 61,
     "metadata": {},
     "output_type": "execute_result"
    }
   ],
   "source": [
    "# Plot data\n",
    "data_marraige_status_amount = data.groupby(['married_status'], as_index=False)['Amount'].sum()\n",
    "data_marraige_status_amount"
   ]
  },
  {
   "cell_type": "code",
   "execution_count": 62,
   "id": "42cb6456-41a3-482d-bd42-1cf9fa5b2e0f",
   "metadata": {},
   "outputs": [
    {
     "data": {
      "image/png": "[encoded data removed]",
      "text/plain": [
       "<Figure size 2000x800 with 2 Axes>"
      ]
     },
     "metadata": {},
     "output_type": "display_data"
    }
   ],
   "source": [
    "# Plots\n",
    "fig, ax = plt.subplots(1, 2, figsize=(20, 8))\n",
    "\n",
    "# Countplot\n",
    "sns.countplot(x='married_status', hue='Gender', data=data, ax=ax[0])\n",
    "ax[0].set_title(\"Order Count - Marriage Status\")\n",
    "\n",
    "# Bar chart\n",
    "sns.barplot(y='married_status', x='Amount', orient='h', data=data_marraige_status_amount, ax=ax[1])\n",
    "ax[1].set_title(\"Amount by Marriage Status\")\n",
    "\n",
    "# Show the plot\n",
    "plt.show()"
   ]
  },
  {
   "cell_type": "markdown",
   "id": "4884c9dc-daee-45eb-a936-5633ffcd2fef",
   "metadata": {},
   "source": [
    "### Conclusion\n",
    "- **Married women places more order**\n",
    "- **Unmarried Women places more order**\n",
    "- **Unmarraid people have higher purchasing power**"
   ]
  },
  {
   "cell_type": "markdown",
   "id": "cba458ae-1f04-4840-9c9e-d7fec201a3b9",
   "metadata": {},
   "source": [
    "#### Age Group Analysis"
   ]
  },
  {
   "cell_type": "code",
   "execution_count": 63,
   "id": "d8a0d4d6-7c1b-424d-9448-826ff470811e",
   "metadata": {},
   "outputs": [
    {
     "data": {
      "text/html": [
       "<div>\n",
       "<style scoped>\n",
       "    .dataframe tbody tr th:only-of-type {\n",
       "        vertical-align: middle;\n",
       "    }\n",
       "\n",
       "    .dataframe tbody tr th {\n",
       "        vertical-align: top;\n",
       "    }\n",
       "\n",
       "    .dataframe thead th {\n",
       "        text-align: right;\n",
       "    }\n",
       "</style>\n",
       "<table border=\"1\" class=\"dataframe\">\n",
       "  <thead>\n",
       "    <tr style=\"text-align: right;\">\n",
       "      <th></th>\n",
       "      <th>Age Group</th>\n",
       "      <th>Amount</th>\n",
       "    </tr>\n",
       "  </thead>\n",
       "  <tbody>\n",
       "    <tr>\n",
       "      <th>0</th>\n",
       "      <td>0-17</td>\n",
       "      <td>2696529.00</td>\n",
       "    </tr>\n",
       "    <tr>\n",
       "      <th>1</th>\n",
       "      <td>18-25</td>\n",
       "      <td>17032196.00</td>\n",
       "    </tr>\n",
       "    <tr>\n",
       "      <th>2</th>\n",
       "      <td>26-35</td>\n",
       "      <td>42603794.95</td>\n",
       "    </tr>\n",
       "    <tr>\n",
       "      <th>3</th>\n",
       "      <td>36-45</td>\n",
       "      <td>22234332.99</td>\n",
       "    </tr>\n",
       "    <tr>\n",
       "      <th>4</th>\n",
       "      <td>46-50</td>\n",
       "      <td>9245595.00</td>\n",
       "    </tr>\n",
       "    <tr>\n",
       "      <th>5</th>\n",
       "      <td>51-55</td>\n",
       "      <td>8278320.00</td>\n",
       "    </tr>\n",
       "    <tr>\n",
       "      <th>6</th>\n",
       "      <td>55+</td>\n",
       "      <td>4101590.00</td>\n",
       "    </tr>\n",
       "  </tbody>\n",
       "</table>\n",
       "</div>"
      ],
      "text/plain": [
       "  Age Group       Amount\n",
       "0      0-17   2696529.00\n",
       "1     18-25  17032196.00\n",
       "2     26-35  42603794.95\n",
       "3     36-45  22234332.99\n",
       "4     46-50   9245595.00\n",
       "5     51-55   8278320.00\n",
       "6       55+   4101590.00"
      ]
     },
     "execution_count": 63,
     "metadata": {},
     "output_type": "execute_result"
    }
   ],
   "source": [
    "# Plot data\n",
    "data_age_group_amount = data.groupby(['Age Group'], as_index = False)['Amount'].sum()\n",
    "data_age_group_amount"
   ]
  },
  {
   "cell_type": "code",
   "execution_count": 64,
   "id": "2a358793-eb3c-4ff4-8ae3-6c220caaff26",
   "metadata": {},
   "outputs": [
    {
     "data": {
      "image/png": "[encoded data removed]",
      "text/plain": [
       "<Figure size 2000x800 with 2 Axes>"
      ]
     },
     "metadata": {},
     "output_type": "display_data"
    }
   ],
   "source": [
    "# Plots\n",
    "fig, ax = plt.subplots(1, 2, figsize=(20, 8))\n",
    "\n",
    "# Countplot\n",
    "sns.countplot(x='Age Group', data=data, ax=ax[0])\n",
    "ax[0].set_title(\"Order Count - Age Group\")\n",
    "\n",
    "# Bar chart\n",
    "sns.barplot(y='Age Group', x='Amount', orient='h', data=data_age_group_amount, ax=ax[1])\n",
    "ax[1].set_title(\"Amount by Age Group\")\n",
    "\n",
    "plt.show()"
   ]
  },
  {
   "cell_type": "markdown",
   "id": "c3837d0c-b52e-4219-975e-24f50e5548b3",
   "metadata": {},
   "source": [
    "### Conclusion\n",
    "- **Age Group(26-35) have highest number of orders**\n",
    "- **Age Group(0-17) placed least number of orders**\n",
    "- **Age Group(26-35) have highest purchasing power**\n",
    "- **Age Group(0-17) placed least purchasing power**"
   ]
  },
  {
   "cell_type": "markdown",
   "id": "281146de-65c4-462d-9fad-48e56ca32754",
   "metadata": {},
   "source": [
    "#### Analysis Parameter\n",
    " - Gendre\n",
    " - Marriage Status\n",
    " - Age Group\n",
    " - Product_Category\n",
    " - Satate\n",
    " - Product_ID\n",
    " - Occupation"
   ]
  },
  {
   "cell_type": "code",
   "execution_count": 65,
   "id": "a73e0c41-166d-4716-99be-12f50d7a2bb1",
   "metadata": {},
   "outputs": [
    {
     "data": {
      "text/html": [
       "<div>\n",
       "<style scoped>\n",
       "    .dataframe tbody tr th:only-of-type {\n",
       "        vertical-align: middle;\n",
       "    }\n",
       "\n",
       "    .dataframe tbody tr th {\n",
       "        vertical-align: top;\n",
       "    }\n",
       "\n",
       "    .dataframe thead th {\n",
       "        text-align: right;\n",
       "    }\n",
       "</style>\n",
       "<table border=\"1\" class=\"dataframe\">\n",
       "  <thead>\n",
       "    <tr style=\"text-align: right;\">\n",
       "      <th></th>\n",
       "      <th>User_ID</th>\n",
       "      <th>Cust_name</th>\n",
       "      <th>Product_ID</th>\n",
       "      <th>Gender</th>\n",
       "      <th>Age Group</th>\n",
       "      <th>Age</th>\n",
       "      <th>Marital_Status</th>\n",
       "      <th>State</th>\n",
       "      <th>Zone</th>\n",
       "      <th>Occupation</th>\n",
       "      <th>Product_Category</th>\n",
       "      <th>Orders</th>\n",
       "      <th>Amount</th>\n",
       "      <th>married_status</th>\n",
       "    </tr>\n",
       "  </thead>\n",
       "  <tbody>\n",
       "    <tr>\n",
       "      <th>18</th>\n",
       "      <td>1001883.0</td>\n",
       "      <td>Praneet</td>\n",
       "      <td>P00029842</td>\n",
       "      <td>M</td>\n",
       "      <td>26-35</td>\n",
       "      <td>54.0</td>\n",
       "      <td>1.0</td>\n",
       "      <td>Uttar Pradesh</td>\n",
       "      <td>Central</td>\n",
       "      <td>Hospitality</td>\n",
       "      <td>Auto</td>\n",
       "      <td>1.0</td>\n",
       "      <td>23568.0</td>\n",
       "      <td>Married</td>\n",
       "    </tr>\n",
       "    <tr>\n",
       "      <th>19</th>\n",
       "      <td>1001883.0</td>\n",
       "      <td>Praneet</td>\n",
       "      <td>P00029842</td>\n",
       "      <td>M</td>\n",
       "      <td>26-35</td>\n",
       "      <td>54.0</td>\n",
       "      <td>1.0</td>\n",
       "      <td>Uttar Pradesh</td>\n",
       "      <td>Central</td>\n",
       "      <td>Hospitality</td>\n",
       "      <td>Auto</td>\n",
       "      <td>1.0</td>\n",
       "      <td>23568.0</td>\n",
       "      <td>Married</td>\n",
       "    </tr>\n",
       "    <tr>\n",
       "      <th>20</th>\n",
       "      <td>1000113.0</td>\n",
       "      <td>Ellis</td>\n",
       "      <td>P00180642</td>\n",
       "      <td>F</td>\n",
       "      <td>26-35</td>\n",
       "      <td>19.0</td>\n",
       "      <td>1.0</td>\n",
       "      <td>Andhra Pradesh</td>\n",
       "      <td>Southern</td>\n",
       "      <td>Govt</td>\n",
       "      <td>Auto</td>\n",
       "      <td>4.0</td>\n",
       "      <td>23546.0</td>\n",
       "      <td>Married</td>\n",
       "    </tr>\n",
       "    <tr>\n",
       "      <th>21</th>\n",
       "      <td>1000416.0</td>\n",
       "      <td>Hrisheekesh</td>\n",
       "      <td>P00181842</td>\n",
       "      <td>F</td>\n",
       "      <td>26-35</td>\n",
       "      <td>46.0</td>\n",
       "      <td>1.0</td>\n",
       "      <td>Uttar Pradesh</td>\n",
       "      <td>Central</td>\n",
       "      <td>Banking</td>\n",
       "      <td>Auto</td>\n",
       "      <td>2.0</td>\n",
       "      <td>23525.0</td>\n",
       "      <td>Married</td>\n",
       "    </tr>\n",
       "    <tr>\n",
       "      <th>22</th>\n",
       "      <td>1005256.0</td>\n",
       "      <td>Grant</td>\n",
       "      <td>P00101742</td>\n",
       "      <td>F</td>\n",
       "      <td>26-35</td>\n",
       "      <td>30.0</td>\n",
       "      <td>0.0</td>\n",
       "      <td>Andhra Pradesh</td>\n",
       "      <td>Southern</td>\n",
       "      <td>IT Sector</td>\n",
       "      <td>Auto</td>\n",
       "      <td>1.0</td>\n",
       "      <td>23518.0</td>\n",
       "      <td>Unmarried</td>\n",
       "    </tr>\n",
       "  </tbody>\n",
       "</table>\n",
       "</div>"
      ],
      "text/plain": [
       "      User_ID    Cust_name Product_ID Gender Age Group   Age  Marital_Status  \\\n",
       "18  1001883.0      Praneet  P00029842      M     26-35  54.0             1.0   \n",
       "19  1001883.0      Praneet  P00029842      M     26-35  54.0             1.0   \n",
       "20  1000113.0        Ellis  P00180642      F     26-35  19.0             1.0   \n",
       "21  1000416.0  Hrisheekesh  P00181842      F     26-35  46.0             1.0   \n",
       "22  1005256.0        Grant  P00101742      F     26-35  30.0             0.0   \n",
       "\n",
       "             State      Zone   Occupation Product_Category  Orders   Amount  \\\n",
       "18   Uttar Pradesh   Central  Hospitality             Auto     1.0  23568.0   \n",
       "19   Uttar Pradesh   Central  Hospitality             Auto     1.0  23568.0   \n",
       "20  Andhra Pradesh  Southern         Govt             Auto     4.0  23546.0   \n",
       "21   Uttar Pradesh   Central      Banking             Auto     2.0  23525.0   \n",
       "22  Andhra Pradesh  Southern    IT Sector             Auto     1.0  23518.0   \n",
       "\n",
       "   married_status  \n",
       "18        Married  \n",
       "19        Married  \n",
       "20        Married  \n",
       "21        Married  \n",
       "22      Unmarried  "
      ]
     },
     "execution_count": 65,
     "metadata": {},
     "output_type": "execute_result"
    }
   ],
   "source": [
    "data.head()"
   ]
  },
  {
   "cell_type": "code",
   "execution_count": 66,
   "id": "af6065ad-19b7-4810-8fc9-0820a993ad61",
   "metadata": {},
   "outputs": [
    {
     "data": {
      "text/html": [
       "<div>\n",
       "<style scoped>\n",
       "    .dataframe tbody tr th:only-of-type {\n",
       "        vertical-align: middle;\n",
       "    }\n",
       "\n",
       "    .dataframe tbody tr th {\n",
       "        vertical-align: top;\n",
       "    }\n",
       "\n",
       "    .dataframe thead th {\n",
       "        text-align: right;\n",
       "    }\n",
       "</style>\n",
       "<table border=\"1\" class=\"dataframe\">\n",
       "  <thead>\n",
       "    <tr style=\"text-align: right;\">\n",
       "      <th></th>\n",
       "      <th>Product_Category</th>\n",
       "      <th>Orders</th>\n",
       "    </tr>\n",
       "  </thead>\n",
       "  <tbody>\n",
       "    <tr>\n",
       "      <th>3</th>\n",
       "      <td>Clothing &amp; Apparel</td>\n",
       "      <td>6627.0</td>\n",
       "    </tr>\n",
       "    <tr>\n",
       "      <th>6</th>\n",
       "      <td>Food</td>\n",
       "      <td>6110.0</td>\n",
       "    </tr>\n",
       "    <tr>\n",
       "      <th>5</th>\n",
       "      <td>Electronics &amp; Gadgets</td>\n",
       "      <td>5208.0</td>\n",
       "    </tr>\n",
       "    <tr>\n",
       "      <th>7</th>\n",
       "      <td>Footwear &amp; Shoes</td>\n",
       "      <td>2701.0</td>\n",
       "    </tr>\n",
       "    <tr>\n",
       "      <th>11</th>\n",
       "      <td>Household items</td>\n",
       "      <td>1331.0</td>\n",
       "    </tr>\n",
       "    <tr>\n",
       "      <th>1</th>\n",
       "      <td>Beauty</td>\n",
       "      <td>1086.0</td>\n",
       "    </tr>\n",
       "    <tr>\n",
       "      <th>9</th>\n",
       "      <td>Games &amp; Toys</td>\n",
       "      <td>940.0</td>\n",
       "    </tr>\n",
       "    <tr>\n",
       "      <th>8</th>\n",
       "      <td>Furniture</td>\n",
       "      <td>895.0</td>\n",
       "    </tr>\n",
       "    <tr>\n",
       "      <th>14</th>\n",
       "      <td>Sports Products</td>\n",
       "      <td>870.0</td>\n",
       "    </tr>\n",
       "  </tbody>\n",
       "</table>\n",
       "</div>"
      ],
      "text/plain": [
       "         Product_Category  Orders\n",
       "3      Clothing & Apparel  6627.0\n",
       "6                    Food  6110.0\n",
       "5   Electronics & Gadgets  5208.0\n",
       "7        Footwear & Shoes  2701.0\n",
       "11        Household items  1331.0\n",
       "1                  Beauty  1086.0\n",
       "9            Games & Toys   940.0\n",
       "8               Furniture   895.0\n",
       "14        Sports Products   870.0"
      ]
     },
     "execution_count": 66,
     "metadata": {},
     "output_type": "execute_result"
    }
   ],
   "source": [
    "order_count_category = data.groupby(['Product_Category'], as_index=False)['Orders'].sum()\n",
    "category_count_top = order_count_category.sort_values('Orders', ascending=False).head(9)\n",
    "category_count_top"
   ]
  },
  {
   "cell_type": "code",
   "execution_count": 67,
   "id": "3faa7dd5-03c4-4ff8-99c4-44cfe85db29a",
   "metadata": {},
   "outputs": [
    {
     "data": {
      "text/html": [
       "<div>\n",
       "<style scoped>\n",
       "    .dataframe tbody tr th:only-of-type {\n",
       "        vertical-align: middle;\n",
       "    }\n",
       "\n",
       "    .dataframe tbody tr th {\n",
       "        vertical-align: top;\n",
       "    }\n",
       "\n",
       "    .dataframe thead th {\n",
       "        text-align: right;\n",
       "    }\n",
       "</style>\n",
       "<table border=\"1\" class=\"dataframe\">\n",
       "  <thead>\n",
       "    <tr style=\"text-align: right;\">\n",
       "      <th></th>\n",
       "      <th>Product_Category</th>\n",
       "      <th>Amount</th>\n",
       "    </tr>\n",
       "  </thead>\n",
       "  <tbody>\n",
       "    <tr>\n",
       "      <th>6</th>\n",
       "      <td>Food</td>\n",
       "      <td>33933883.50</td>\n",
       "    </tr>\n",
       "    <tr>\n",
       "      <th>3</th>\n",
       "      <td>Clothing &amp; Apparel</td>\n",
       "      <td>16484472.00</td>\n",
       "    </tr>\n",
       "    <tr>\n",
       "      <th>7</th>\n",
       "      <td>Footwear &amp; Shoes</td>\n",
       "      <td>16009057.45</td>\n",
       "    </tr>\n",
       "    <tr>\n",
       "      <th>5</th>\n",
       "      <td>Electronics &amp; Gadgets</td>\n",
       "      <td>15607657.00</td>\n",
       "    </tr>\n",
       "    <tr>\n",
       "      <th>8</th>\n",
       "      <td>Furniture</td>\n",
       "      <td>5481325.99</td>\n",
       "    </tr>\n",
       "    <tr>\n",
       "      <th>9</th>\n",
       "      <td>Games &amp; Toys</td>\n",
       "      <td>4331694.00</td>\n",
       "    </tr>\n",
       "    <tr>\n",
       "      <th>14</th>\n",
       "      <td>Sports Products</td>\n",
       "      <td>3635933.00</td>\n",
       "    </tr>\n",
       "    <tr>\n",
       "      <th>1</th>\n",
       "      <td>Beauty</td>\n",
       "      <td>1959484.00</td>\n",
       "    </tr>\n",
       "    <tr>\n",
       "      <th>0</th>\n",
       "      <td>Auto</td>\n",
       "      <td>1624503.00</td>\n",
       "    </tr>\n",
       "  </tbody>\n",
       "</table>\n",
       "</div>"
      ],
      "text/plain": [
       "         Product_Category       Amount\n",
       "6                    Food  33933883.50\n",
       "3      Clothing & Apparel  16484472.00\n",
       "7        Footwear & Shoes  16009057.45\n",
       "5   Electronics & Gadgets  15607657.00\n",
       "8               Furniture   5481325.99\n",
       "9            Games & Toys   4331694.00\n",
       "14        Sports Products   3635933.00\n",
       "1                  Beauty   1959484.00\n",
       "0                    Auto   1624503.00"
      ]
     },
     "execution_count": 67,
     "metadata": {},
     "output_type": "execute_result"
    }
   ],
   "source": [
    "amount_category = data.groupby(['Product_Category'], as_index=False)['Amount'].sum()\n",
    "amount_category_top = amount_category.nlargest(9 , 'Amount')\n",
    "amount_category_top"
   ]
  },
  {
   "cell_type": "code",
   "execution_count": 68,
   "id": "c01b3f75-0d57-47a0-a175-2b42dc897621",
   "metadata": {},
   "outputs": [
    {
     "data": {
      "image/png": "[encoded data removed]",
      "text/plain": [
       "<Figure size 1800x1200 with 2 Axes>"
      ]
     },
     "metadata": {},
     "output_type": "display_data"
    }
   ],
   "source": [
    "# Plots\n",
    "fig, ax = plt.subplots(2,1, figsize=(18, 12))\n",
    "\n",
    "# Countplot\n",
    "sns.barplot(x='Product_Category', y='Orders', data=category_count_top, ax=ax[0])\n",
    "ax[0].set_title(\"Order Count - Top 10 Product_Category\")\n",
    "# Bar chart\n",
    "sns.barplot(y='Product_Category', x='Amount', orient='h', data=amount_category_top, ax=ax[1])\n",
    "ax[1].set_title(\"Purchase Power - Top 10 Product_Category\")\n",
    "plt.subplots_adjust(hspace=0.2)\n",
    "plt.show()"
   ]
  },
  {
   "cell_type": "markdown",
   "id": "7b70bc69-5e6a-4ba2-bbbf-94bce4c9ff52",
   "metadata": {},
   "source": [
    "### Conclusion\n",
    "- **Clothing & Apparel have highest demand and Sports Products\thave least demand among top 9**\n",
    "- **Money spent on Food is highest and on Auto is lowest**"
   ]
  },
  {
   "cell_type": "code",
   "execution_count": 69,
   "id": "62610c15-bd96-4ae3-8c18-36bbffacf186",
   "metadata": {},
   "outputs": [
    {
     "data": {
      "text/html": [
       "<div>\n",
       "<style scoped>\n",
       "    .dataframe tbody tr th:only-of-type {\n",
       "        vertical-align: middle;\n",
       "    }\n",
       "\n",
       "    .dataframe tbody tr th {\n",
       "        vertical-align: top;\n",
       "    }\n",
       "\n",
       "    .dataframe thead th {\n",
       "        text-align: right;\n",
       "    }\n",
       "</style>\n",
       "<table border=\"1\" class=\"dataframe\">\n",
       "  <thead>\n",
       "    <tr style=\"text-align: right;\">\n",
       "      <th></th>\n",
       "      <th>State</th>\n",
       "      <th>Orders</th>\n",
       "    </tr>\n",
       "  </thead>\n",
       "  <tbody>\n",
       "    <tr>\n",
       "      <th>14</th>\n",
       "      <td>Uttar Pradesh</td>\n",
       "      <td>4805.0</td>\n",
       "    </tr>\n",
       "    <tr>\n",
       "      <th>10</th>\n",
       "      <td>Maharashtra</td>\n",
       "      <td>3799.0</td>\n",
       "    </tr>\n",
       "    <tr>\n",
       "      <th>7</th>\n",
       "      <td>Karnataka</td>\n",
       "      <td>3266.0</td>\n",
       "    </tr>\n",
       "    <tr>\n",
       "      <th>2</th>\n",
       "      <td>Delhi</td>\n",
       "      <td>2728.0</td>\n",
       "    </tr>\n",
       "    <tr>\n",
       "      <th>9</th>\n",
       "      <td>Madhya Pradesh</td>\n",
       "      <td>2253.0</td>\n",
       "    </tr>\n",
       "  </tbody>\n",
       "</table>\n",
       "</div>"
      ],
      "text/plain": [
       "             State  Orders\n",
       "14   Uttar Pradesh  4805.0\n",
       "10     Maharashtra  3799.0\n",
       "7        Karnataka  3266.0\n",
       "2            Delhi  2728.0\n",
       "9   Madhya Pradesh  2253.0"
      ]
     },
     "execution_count": 69,
     "metadata": {},
     "output_type": "execute_result"
    }
   ],
   "source": [
    "order_count = data.groupby(['State'], as_index=False)['Orders'].sum()\n",
    "order_count_top = order_count.sort_values('Orders', ascending=False).head(5)\n",
    "order_count_top"
   ]
  },
  {
   "cell_type": "code",
   "execution_count": 70,
   "id": "fcc5d170-c727-4df0-a704-20efab1f775b",
   "metadata": {},
   "outputs": [
    {
     "data": {
      "text/html": [
       "<div>\n",
       "<style scoped>\n",
       "    .dataframe tbody tr th:only-of-type {\n",
       "        vertical-align: middle;\n",
       "    }\n",
       "\n",
       "    .dataframe tbody tr th {\n",
       "        vertical-align: top;\n",
       "    }\n",
       "\n",
       "    .dataframe thead th {\n",
       "        text-align: right;\n",
       "    }\n",
       "</style>\n",
       "<table border=\"1\" class=\"dataframe\">\n",
       "  <thead>\n",
       "    <tr style=\"text-align: right;\">\n",
       "      <th></th>\n",
       "      <th>State</th>\n",
       "      <th>Amount</th>\n",
       "    </tr>\n",
       "  </thead>\n",
       "  <tbody>\n",
       "    <tr>\n",
       "      <th>14</th>\n",
       "      <td>Uttar Pradesh</td>\n",
       "      <td>19360148.00</td>\n",
       "    </tr>\n",
       "    <tr>\n",
       "      <th>10</th>\n",
       "      <td>Maharashtra</td>\n",
       "      <td>14400762.00</td>\n",
       "    </tr>\n",
       "    <tr>\n",
       "      <th>7</th>\n",
       "      <td>Karnataka</td>\n",
       "      <td>13705829.00</td>\n",
       "    </tr>\n",
       "    <tr>\n",
       "      <th>2</th>\n",
       "      <td>Delhi</td>\n",
       "      <td>11554343.95</td>\n",
       "    </tr>\n",
       "    <tr>\n",
       "      <th>9</th>\n",
       "      <td>Madhya Pradesh</td>\n",
       "      <td>8100944.00</td>\n",
       "    </tr>\n",
       "  </tbody>\n",
       "</table>\n",
       "</div>"
      ],
      "text/plain": [
       "             State       Amount\n",
       "14   Uttar Pradesh  19360148.00\n",
       "10     Maharashtra  14400762.00\n",
       "7        Karnataka  13705829.00\n",
       "2            Delhi  11554343.95\n",
       "9   Madhya Pradesh   8100944.00"
      ]
     },
     "execution_count": 70,
     "metadata": {},
     "output_type": "execute_result"
    }
   ],
   "source": [
    "amount_state = data.groupby(['State'], as_index=False)['Amount'].sum()\n",
    "amount_state_top = amount_state.nlargest(5 , 'Amount')\n",
    "amount_state_top"
   ]
  },
  {
   "cell_type": "code",
   "execution_count": 71,
   "id": "e550d793-d0d8-4ebb-916a-0dddc8bed51d",
   "metadata": {},
   "outputs": [
    {
     "data": {
      "image/png": "[encoded data removed]",
      "text/plain": [
       "<Figure size 2000x800 with 2 Axes>"
      ]
     },
     "metadata": {},
     "output_type": "display_data"
    }
   ],
   "source": [
    "# Plots\n",
    "fig, ax = plt.subplots(1,2, figsize=(20, 8))\n",
    "\n",
    "# Countplot\n",
    "sns.barplot(x='State', y='Orders', data=order_count_top, ax=ax[0])\n",
    "ax[0].set_title(\"Order Count - Top 5 States\")\n",
    "\n",
    "# Bar chart\n",
    "sns.barplot(y='State', x='Amount', orient='h', data=amount_state_top, ax=ax[1])\n",
    "ax[1].set_title(\"Purchase Power - Top 5 State\")\n",
    "plt.subplots_adjust(wspace=0.22)\n",
    "plt.show()"
   ]
  },
  {
   "cell_type": "markdown",
   "id": "dcb31568-3659-499d-90ce-b3f623e90e35",
   "metadata": {},
   "source": [
    "### Conclusion\n",
    "- **Uttar Pradesh have highest number of orders and Madhya Pradesh have least among top 5**\n",
    "- **Uttar Pradesh is top in purchasing power and Madhya Pradesh is at bottom among top 5**"
   ]
  },
  {
   "cell_type": "code",
   "execution_count": 72,
   "id": "7b7014cd-1dc0-44a6-84a0-cbcb3f4778d7",
   "metadata": {},
   "outputs": [
    {
     "data": {
      "text/html": [
       "<div>\n",
       "<style scoped>\n",
       "    .dataframe tbody tr th:only-of-type {\n",
       "        vertical-align: middle;\n",
       "    }\n",
       "\n",
       "    .dataframe tbody tr th {\n",
       "        vertical-align: top;\n",
       "    }\n",
       "\n",
       "    .dataframe thead th {\n",
       "        text-align: right;\n",
       "    }\n",
       "</style>\n",
       "<table border=\"1\" class=\"dataframe\">\n",
       "  <thead>\n",
       "    <tr style=\"text-align: right;\">\n",
       "      <th></th>\n",
       "      <th>Product_ID</th>\n",
       "      <th>Orders</th>\n",
       "    </tr>\n",
       "  </thead>\n",
       "  <tbody>\n",
       "    <tr>\n",
       "      <th>1678</th>\n",
       "      <td>P00265242</td>\n",
       "      <td>131.0</td>\n",
       "    </tr>\n",
       "    <tr>\n",
       "      <th>644</th>\n",
       "      <td>P00110942</td>\n",
       "      <td>113.0</td>\n",
       "    </tr>\n",
       "    <tr>\n",
       "      <th>1503</th>\n",
       "      <td>P00237542</td>\n",
       "      <td>91.0</td>\n",
       "    </tr>\n",
       "    <tr>\n",
       "      <th>1146</th>\n",
       "      <td>P00184942</td>\n",
       "      <td>82.0</td>\n",
       "    </tr>\n",
       "    <tr>\n",
       "      <th>171</th>\n",
       "      <td>P00025442</td>\n",
       "      <td>79.0</td>\n",
       "    </tr>\n",
       "    <tr>\n",
       "      <th>679</th>\n",
       "      <td>P00114942</td>\n",
       "      <td>79.0</td>\n",
       "    </tr>\n",
       "    <tr>\n",
       "      <th>708</th>\n",
       "      <td>P00117942</td>\n",
       "      <td>76.0</td>\n",
       "    </tr>\n",
       "    <tr>\n",
       "      <th>298</th>\n",
       "      <td>P00044442</td>\n",
       "      <td>75.0</td>\n",
       "    </tr>\n",
       "  </tbody>\n",
       "</table>\n",
       "</div>"
      ],
      "text/plain": [
       "     Product_ID  Orders\n",
       "1678  P00265242   131.0\n",
       "644   P00110942   113.0\n",
       "1503  P00237542    91.0\n",
       "1146  P00184942    82.0\n",
       "171   P00025442    79.0\n",
       "679   P00114942    79.0\n",
       "708   P00117942    76.0\n",
       "298   P00044442    75.0"
      ]
     },
     "execution_count": 72,
     "metadata": {},
     "output_type": "execute_result"
    }
   ],
   "source": [
    "order_ID = data.groupby(['Product_ID'], as_index=False)['Orders'].sum()\n",
    "order_ID_top = order_ID.sort_values('Orders', ascending=False).head(8)\n",
    "order_ID_top"
   ]
  },
  {
   "cell_type": "code",
   "execution_count": 73,
   "id": "78959f57-b4a6-4783-bc6a-099747f37621",
   "metadata": {},
   "outputs": [
    {
     "data": {
      "text/html": [
       "<div>\n",
       "<style scoped>\n",
       "    .dataframe tbody tr th:only-of-type {\n",
       "        vertical-align: middle;\n",
       "    }\n",
       "\n",
       "    .dataframe tbody tr th {\n",
       "        vertical-align: top;\n",
       "    }\n",
       "\n",
       "    .dataframe thead th {\n",
       "        text-align: right;\n",
       "    }\n",
       "</style>\n",
       "<table border=\"1\" class=\"dataframe\">\n",
       "  <thead>\n",
       "    <tr style=\"text-align: right;\">\n",
       "      <th></th>\n",
       "      <th>Product_ID</th>\n",
       "      <th>Amount</th>\n",
       "    </tr>\n",
       "  </thead>\n",
       "  <tbody>\n",
       "    <tr>\n",
       "      <th>1678</th>\n",
       "      <td>P00265242</td>\n",
       "      <td>561461.0</td>\n",
       "    </tr>\n",
       "    <tr>\n",
       "      <th>1146</th>\n",
       "      <td>P00184942</td>\n",
       "      <td>401816.0</td>\n",
       "    </tr>\n",
       "    <tr>\n",
       "      <th>644</th>\n",
       "      <td>P00110942</td>\n",
       "      <td>400899.0</td>\n",
       "    </tr>\n",
       "    <tr>\n",
       "      <th>396</th>\n",
       "      <td>P00059442</td>\n",
       "      <td>359230.0</td>\n",
       "    </tr>\n",
       "    <tr>\n",
       "      <th>654</th>\n",
       "      <td>P00112142</td>\n",
       "      <td>341020.0</td>\n",
       "    </tr>\n",
       "    <tr>\n",
       "      <th>1503</th>\n",
       "      <td>P00237542</td>\n",
       "      <td>322363.0</td>\n",
       "    </tr>\n",
       "    <tr>\n",
       "      <th>388</th>\n",
       "      <td>P00058042</td>\n",
       "      <td>307040.0</td>\n",
       "    </tr>\n",
       "    <tr>\n",
       "      <th>642</th>\n",
       "      <td>P00110742</td>\n",
       "      <td>294548.0</td>\n",
       "    </tr>\n",
       "  </tbody>\n",
       "</table>\n",
       "</div>"
      ],
      "text/plain": [
       "     Product_ID    Amount\n",
       "1678  P00265242  561461.0\n",
       "1146  P00184942  401816.0\n",
       "644   P00110942  400899.0\n",
       "396   P00059442  359230.0\n",
       "654   P00112142  341020.0\n",
       "1503  P00237542  322363.0\n",
       "388   P00058042  307040.0\n",
       "642   P00110742  294548.0"
      ]
     },
     "execution_count": 73,
     "metadata": {},
     "output_type": "execute_result"
    }
   ],
   "source": [
    "amount_ID = data.groupby(['Product_ID'], as_index=False)['Amount'].sum()\n",
    "amount_ID_top = amount_ID.nlargest(8 , 'Amount')\n",
    "amount_ID_top"
   ]
  },
  {
   "cell_type": "code",
   "execution_count": 74,
   "id": "9e8638c4-5c60-4444-a380-793de85b078b",
   "metadata": {},
   "outputs": [
    {
     "data": {
      "image/png": "[encoded data removed]",
      "text/plain": [
       "<Figure size 2000x800 with 2 Axes>"
      ]
     },
     "metadata": {},
     "output_type": "display_data"
    }
   ],
   "source": [
    "# Plots\n",
    "fig, ax = plt.subplots(1,2, figsize=(20, 8))\n",
    "\n",
    "# Countplot\n",
    "sns.barplot(x='Product_ID', y='Orders', data=order_ID_top, ax=ax[0])\n",
    "ax[0].set_title(\"Order Count - Top 10 Product_ID\")\n",
    "\n",
    "# Bar chart\n",
    "sns.barplot(y='Product_ID', x='Amount', orient='h', data=amount_ID_top, ax=ax[1])\n",
    "ax[1].set_title(\"Purchase Power - Top 10 Product_ID\")\n",
    "\n",
    "plt.subplots_adjust(wspace=0.22)\n",
    "plt.show()"
   ]
  },
  {
   "cell_type": "markdown",
   "id": "e122540e-8236-4011-a746-a09760fe2eed",
   "metadata": {},
   "source": [
    "### Conclusion \n",
    "-  **P00265242 has highest order**\n",
    "-  **Purchasing power of P00265242 is highest** "
   ]
  },
  {
   "cell_type": "code",
   "execution_count": 75,
   "id": "8be2ca9a-92fe-4ec0-a016-bc9a2f7bceac",
   "metadata": {},
   "outputs": [
    {
     "data": {
      "text/plain": [
       "array(['Hospitality', 'Govt', 'Banking', 'IT Sector', 'Automobile',\n",
       "       'Aviation', 'Food Processing', 'Media', 'Healthcare',\n",
       "       'Agriculture', 'Construction', 'Retail', 'F', 'Textile', 'Lawyer',\n",
       "       'Chemical'], dtype=object)"
      ]
     },
     "execution_count": 75,
     "metadata": {},
     "output_type": "execute_result"
    }
   ],
   "source": [
    "data['Occupation'].unique()"
   ]
  },
  {
   "cell_type": "code",
   "execution_count": 76,
   "id": "77b5da5c-bebf-4bbf-af52-1e58d47a7d0f",
   "metadata": {},
   "outputs": [
    {
     "data": {
      "text/html": [
       "<div>\n",
       "<style scoped>\n",
       "    .dataframe tbody tr th:only-of-type {\n",
       "        vertical-align: middle;\n",
       "    }\n",
       "\n",
       "    .dataframe tbody tr th {\n",
       "        vertical-align: top;\n",
       "    }\n",
       "\n",
       "    .dataframe thead th {\n",
       "        text-align: right;\n",
       "    }\n",
       "</style>\n",
       "<table border=\"1\" class=\"dataframe\">\n",
       "  <thead>\n",
       "    <tr style=\"text-align: right;\">\n",
       "      <th></th>\n",
       "      <th>Occupation</th>\n",
       "      <th>Orders</th>\n",
       "    </tr>\n",
       "  </thead>\n",
       "  <tbody>\n",
       "    <tr>\n",
       "      <th>11</th>\n",
       "      <td>IT Sector</td>\n",
       "      <td>3992.0</td>\n",
       "    </tr>\n",
       "    <tr>\n",
       "      <th>9</th>\n",
       "      <td>Healthcare</td>\n",
       "      <td>3453.0</td>\n",
       "    </tr>\n",
       "    <tr>\n",
       "      <th>2</th>\n",
       "      <td>Aviation</td>\n",
       "      <td>3211.0</td>\n",
       "    </tr>\n",
       "    <tr>\n",
       "      <th>3</th>\n",
       "      <td>Banking</td>\n",
       "      <td>2819.0</td>\n",
       "    </tr>\n",
       "    <tr>\n",
       "      <th>8</th>\n",
       "      <td>Govt</td>\n",
       "      <td>2144.0</td>\n",
       "    </tr>\n",
       "    <tr>\n",
       "      <th>10</th>\n",
       "      <td>Hospitality</td>\n",
       "      <td>1738.0</td>\n",
       "    </tr>\n",
       "    <tr>\n",
       "      <th>13</th>\n",
       "      <td>Media</td>\n",
       "      <td>1597.0</td>\n",
       "    </tr>\n",
       "    <tr>\n",
       "      <th>1</th>\n",
       "      <td>Automobile</td>\n",
       "      <td>1367.0</td>\n",
       "    </tr>\n",
       "  </tbody>\n",
       "</table>\n",
       "</div>"
      ],
      "text/plain": [
       "     Occupation  Orders\n",
       "11    IT Sector  3992.0\n",
       "9    Healthcare  3453.0\n",
       "2      Aviation  3211.0\n",
       "3       Banking  2819.0\n",
       "8          Govt  2144.0\n",
       "10  Hospitality  1738.0\n",
       "13        Media  1597.0\n",
       "1    Automobile  1367.0"
      ]
     },
     "execution_count": 76,
     "metadata": {},
     "output_type": "execute_result"
    }
   ],
   "source": [
    "order_occupation = data.groupby(['Occupation'], as_index=False)['Orders'].sum()\n",
    "order_occupation_top = order_occupation.sort_values('Orders', ascending=False).head(8)\n",
    "order_occupation_top"
   ]
  },
  {
   "cell_type": "code",
   "execution_count": 77,
   "id": "58ca4312-854b-435d-a4cf-0006a69f55d2",
   "metadata": {},
   "outputs": [
    {
     "data": {
      "text/html": [
       "<div>\n",
       "<style scoped>\n",
       "    .dataframe tbody tr th:only-of-type {\n",
       "        vertical-align: middle;\n",
       "    }\n",
       "\n",
       "    .dataframe tbody tr th {\n",
       "        vertical-align: top;\n",
       "    }\n",
       "\n",
       "    .dataframe thead th {\n",
       "        text-align: right;\n",
       "    }\n",
       "</style>\n",
       "<table border=\"1\" class=\"dataframe\">\n",
       "  <thead>\n",
       "    <tr style=\"text-align: right;\">\n",
       "      <th></th>\n",
       "      <th>Occupation</th>\n",
       "      <th>Amount</th>\n",
       "    </tr>\n",
       "  </thead>\n",
       "  <tbody>\n",
       "    <tr>\n",
       "      <th>11</th>\n",
       "      <td>IT Sector</td>\n",
       "      <td>14797553.00</td>\n",
       "    </tr>\n",
       "    <tr>\n",
       "      <th>9</th>\n",
       "      <td>Healthcare</td>\n",
       "      <td>12989061.49</td>\n",
       "    </tr>\n",
       "    <tr>\n",
       "      <th>2</th>\n",
       "      <td>Aviation</td>\n",
       "      <td>12596751.00</td>\n",
       "    </tr>\n",
       "    <tr>\n",
       "      <th>3</th>\n",
       "      <td>Banking</td>\n",
       "      <td>10767299.45</td>\n",
       "    </tr>\n",
       "    <tr>\n",
       "      <th>8</th>\n",
       "      <td>Govt</td>\n",
       "      <td>8425182.00</td>\n",
       "    </tr>\n",
       "    <tr>\n",
       "      <th>10</th>\n",
       "      <td>Hospitality</td>\n",
       "      <td>6402793.00</td>\n",
       "    </tr>\n",
       "    <tr>\n",
       "      <th>13</th>\n",
       "      <td>Media</td>\n",
       "      <td>6291535.00</td>\n",
       "    </tr>\n",
       "    <tr>\n",
       "      <th>1</th>\n",
       "      <td>Automobile</td>\n",
       "      <td>5362757.00</td>\n",
       "    </tr>\n",
       "  </tbody>\n",
       "</table>\n",
       "</div>"
      ],
      "text/plain": [
       "     Occupation       Amount\n",
       "11    IT Sector  14797553.00\n",
       "9    Healthcare  12989061.49\n",
       "2      Aviation  12596751.00\n",
       "3       Banking  10767299.45\n",
       "8          Govt   8425182.00\n",
       "10  Hospitality   6402793.00\n",
       "13        Media   6291535.00\n",
       "1    Automobile   5362757.00"
      ]
     },
     "execution_count": 77,
     "metadata": {},
     "output_type": "execute_result"
    }
   ],
   "source": [
    "amount_occupation = data.groupby(['Occupation'], as_index=False)['Amount'].sum()\n",
    "amount_occupation_top = amount_occupation.nlargest(8 , 'Amount')\n",
    "amount_occupation_top"
   ]
  },
  {
   "cell_type": "code",
   "execution_count": 78,
   "id": "b6125e7d-e29f-45ee-aacb-85609578a973",
   "metadata": {},
   "outputs": [
    {
     "data": {
      "image/png": "[encoded data removed]",
      "text/plain": [
       "<Figure size 2000x800 with 2 Axes>"
      ]
     },
     "metadata": {},
     "output_type": "display_data"
    }
   ],
   "source": [
    "# Plots\n",
    "fig, ax = plt.subplots(1,2, figsize=(20, 8))\n",
    "\n",
    "# Countplot\n",
    "sns.barplot(x='Occupation', y='Orders', data=order_occupation_top, ax=ax[0])\n",
    "ax[0].set_title(\"Order Count - Top 10 Occupation\")\n",
    "\n",
    "# Bar chart\n",
    "sns.barplot(y='Occupation', x='Amount', orient='h', data=amount_occupation_top, ax=ax[1])\n",
    "ax[1].set_title(\"Purchase Power - Top 10 Occupation\")\n",
    "\n",
    "plt.subplots_adjust(wspace=0.22)\n",
    "plt.show()"
   ]
  },
  {
   "cell_type": "markdown",
   "id": "1322ea16-ef83-4f17-8c5d-54577aa030d9",
   "metadata": {},
   "source": [
    "### Conclusion \n",
    "- **People working in IT Sector placed highest order**\n",
    "- **People in IT Sector has highest purchasing power**"
   ]
  },
  {
   "cell_type": "code",
   "execution_count": 79,
   "id": "2a9b17bb-0034-4707-97b0-8e55e7aaa83a",
   "metadata": {},
   "outputs": [
    {
     "data": {
      "image/png": "[encoded data removed]",
      "text/plain": [
       "<Figure size 2000x800 with 2 Axes>"
      ]
     },
     "metadata": {},
     "output_type": "display_data"
    }
   ],
   "source": [
    "# Data for plotting\n",
    "order_occupation_data = order_occupation_top.groupby('Occupation')['Orders'].sum()\n",
    "amount_occupation_data = amount_occupation_top.groupby('Occupation')['Amount'].sum()\n",
    "\n",
    "# Create figure and axes\n",
    "fig, ax = plt.subplots(1, 2, figsize=(20, 8))\n",
    "\n",
    "# Order count pie chart\n",
    "ax[0].pie(order_occupation_data, labels=order_occupation_data.index, autopct='%1.1f%%', startangle=90)\n",
    "ax[0].set_title(\"Order Count - Top 10 Occupation\")\n",
    "\n",
    "# Purchase power pie chart\n",
    "ax[1].pie(amount_occupation_data, labels=amount_occupation_data.index, autopct='%1.1f%%', startangle=90)\n",
    "ax[1].set_title(\"Purchase Power - Top 10 Occupation\")\n",
    "\n",
    "plt.subplots_adjust(wspace=0.3)\n",
    "plt.show()"
   ]
  },
  {
   "cell_type": "code",
   "execution_count": 80,
   "id": "43aed203-8a6c-40f6-b109-347202deca3d",
   "metadata": {},
   "outputs": [
    {
     "data": {
      "text/plain": [
       "array(['Central', 'Southern', 'Western', 'Eastern', 'Northern'],\n",
       "      dtype=object)"
      ]
     },
     "execution_count": 80,
     "metadata": {},
     "output_type": "execute_result"
    }
   ],
   "source": [
    "data['Zone'].unique()"
   ]
  },
  {
   "cell_type": "code",
   "execution_count": 83,
   "id": "fcbd6604-a3fb-4cb7-8816-1959948e1c66",
   "metadata": {},
   "outputs": [
    {
     "data": {
      "image/png": "[encoded data removed]",
      "text/plain": [
       "<Figure size 1600x600 with 2 Axes>"
      ]
     },
     "metadata": {},
     "output_type": "display_data"
    }
   ],
   "source": [
    "order_zone_data = data.groupby('Zone')['Orders'].sum()\n",
    "amount_zone_data = data.groupby('Zone')['Amount'].sum()\n",
    "# Create figure and axes\n",
    "fig, ax = plt.subplots(1, 2, figsize=(16, 6))\n",
    "\n",
    "# Order count pie chart\n",
    "ax[0].pie(order_zone_data, labels=order_zone_data.index, autopct='%1.1f%%', startangle=90)\n",
    "ax[0].set_title(\"Order Count - Zone\")\n",
    "\n",
    "# Purchase power pie chart\n",
    "ax[1].pie(amount_zone_data, labels=amount_zone_data.index, autopct='%1.1f%%', startangle=90)\n",
    "ax[1].set_title(\"Purchase Power - Zone\")\n",
    "\n",
    "plt.subplots_adjust(wspace=0.3)\n",
    "plt.show()"
   ]
  },
  {
   "cell_type": "code",
   "execution_count": null,
   "id": "867094f9-cd14-422e-8e42-843712ff6df7",
   "metadata": {},
   "outputs": [],
   "source": []
  }
 ],
 "metadata": {
  "kernelspec": {
   "display_name": "Python 3 (ipykernel)",
   "language": "python",
   "name": "python3"
  },
  "language_info": {
   "codemirror_mode": {
    "name": "ipython",
    "version": 3
   },
   "file_extension": ".py",
   "mimetype": "text/x-python",
   "name": "python",
   "nbconvert_exporter": "python",
   "pygments_lexer": "ipython3",
   "version": "3.11.7"
  }
 },
 "nbformat": 4,
 "nbformat_minor": 5
}
